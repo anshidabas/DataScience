{
 "cells": [
  {
   "cell_type": "markdown",
   "metadata": {},
   "source": [
    "<u><b>Research Question - Can we predict, if a dog/cat can be adopted from USA's largest shelter home in 1 month, given their color, breed, sex , intake age, intake condition and intake type."
   ]
  },
  {
   "cell_type": "code",
   "execution_count": 1,
   "metadata": {},
   "outputs": [],
   "source": [
    "#import required packages\n",
    "\n",
    "import pandas as pd\n",
    "import numpy as np\n",
    "from collections import defaultdict\n",
    "import datetime\n",
    "import matplotlib.pyplot as plt\n",
    "import seaborn as sns\n",
    "from sklearn.model_selection import train_test_split\n",
    "import matplotlib.pyplot as plt2\n",
    "import scipy.stats as ss\n",
    "from imblearn.over_sampling import SMOTE\n",
    "from sklearn import tree\n",
    "from sklearn.metrics import *\n",
    "from sklearn.naive_bayes import *\n",
    "from sklearn import linear_model"
   ]
  },
  {
   "cell_type": "markdown",
   "metadata": {},
   "source": [
    "<b>Data Collection:"
   ]
  },
  {
   "cell_type": "markdown",
   "metadata": {},
   "source": [
    "The data was collected from below mentioned link as public/open data -\n",
    "https://www.kaggle.com/aaronschlegel/austin-animal-center-shelter-intakes-and-outcomes?select=aac_outcomes.csv"
   ]
  },
  {
   "cell_type": "code",
   "execution_count": 2,
   "metadata": {},
   "outputs": [],
   "source": [
    "#read austin animal shelter data\n",
    "\n",
    "df_intakes = pd.read_csv('aac_Intakes.csv')\n",
    "df_outcomes = pd.read_csv('aac_Outcomes.csv')"
   ]
  },
  {
   "cell_type": "code",
   "execution_count": 3,
   "metadata": {},
   "outputs": [
    {
     "data": {
      "text/html": [
       "<div>\n",
       "<style scoped>\n",
       "    .dataframe tbody tr th:only-of-type {\n",
       "        vertical-align: middle;\n",
       "    }\n",
       "\n",
       "    .dataframe tbody tr th {\n",
       "        vertical-align: top;\n",
       "    }\n",
       "\n",
       "    .dataframe thead th {\n",
       "        text-align: right;\n",
       "    }\n",
       "</style>\n",
       "<table border=\"1\" class=\"dataframe\">\n",
       "  <thead>\n",
       "    <tr style=\"text-align: right;\">\n",
       "      <th></th>\n",
       "      <th>animal_id</th>\n",
       "      <th>name</th>\n",
       "      <th>animal_type</th>\n",
       "      <th>breed</th>\n",
       "      <th>color</th>\n",
       "      <th>datetime</th>\n",
       "      <th>datetime2</th>\n",
       "      <th>found_location</th>\n",
       "      <th>intake_condition</th>\n",
       "      <th>intake_type</th>\n",
       "      <th>sex_upon_intake</th>\n",
       "      <th>age_upon_intake</th>\n",
       "    </tr>\n",
       "  </thead>\n",
       "  <tbody>\n",
       "    <tr>\n",
       "      <th>0</th>\n",
       "      <td>A706918</td>\n",
       "      <td>Belle</td>\n",
       "      <td>Dog</td>\n",
       "      <td>English Springer Spaniel</td>\n",
       "      <td>White/Liver</td>\n",
       "      <td>2015-07-05T12:59:00.000</td>\n",
       "      <td>2015-07-05T12:59:00.000</td>\n",
       "      <td>9409 Bluegrass Dr in Austin (TX)</td>\n",
       "      <td>Normal</td>\n",
       "      <td>Stray</td>\n",
       "      <td>Spayed Female</td>\n",
       "      <td>8 years</td>\n",
       "    </tr>\n",
       "    <tr>\n",
       "      <th>1</th>\n",
       "      <td>A724273</td>\n",
       "      <td>Runster</td>\n",
       "      <td>Dog</td>\n",
       "      <td>Basenji Mix</td>\n",
       "      <td>Sable/White</td>\n",
       "      <td>2016-04-14T18:43:00.000</td>\n",
       "      <td>2016-04-14T18:43:00.000</td>\n",
       "      <td>2818 Palomino Trail in Austin (TX)</td>\n",
       "      <td>Normal</td>\n",
       "      <td>Stray</td>\n",
       "      <td>Intact Male</td>\n",
       "      <td>11 months</td>\n",
       "    </tr>\n",
       "    <tr>\n",
       "      <th>2</th>\n",
       "      <td>A665644</td>\n",
       "      <td>NaN</td>\n",
       "      <td>Cat</td>\n",
       "      <td>Domestic Shorthair Mix</td>\n",
       "      <td>Calico</td>\n",
       "      <td>2013-10-21T07:59:00.000</td>\n",
       "      <td>2013-10-21T07:59:00.000</td>\n",
       "      <td>Austin (TX)</td>\n",
       "      <td>Sick</td>\n",
       "      <td>Stray</td>\n",
       "      <td>Intact Female</td>\n",
       "      <td>4 weeks</td>\n",
       "    </tr>\n",
       "    <tr>\n",
       "      <th>3</th>\n",
       "      <td>A682524</td>\n",
       "      <td>Rio</td>\n",
       "      <td>Dog</td>\n",
       "      <td>Doberman Pinsch/Australian Cattle Dog</td>\n",
       "      <td>Tan/Gray</td>\n",
       "      <td>2014-06-29T10:38:00.000</td>\n",
       "      <td>2014-06-29T10:38:00.000</td>\n",
       "      <td>800 Grove Blvd in Austin (TX)</td>\n",
       "      <td>Normal</td>\n",
       "      <td>Stray</td>\n",
       "      <td>Neutered Male</td>\n",
       "      <td>4 years</td>\n",
       "    </tr>\n",
       "    <tr>\n",
       "      <th>4</th>\n",
       "      <td>A743852</td>\n",
       "      <td>Odin</td>\n",
       "      <td>Dog</td>\n",
       "      <td>Labrador Retriever Mix</td>\n",
       "      <td>Chocolate</td>\n",
       "      <td>2017-02-18T12:46:00.000</td>\n",
       "      <td>2017-02-18T12:46:00.000</td>\n",
       "      <td>Austin (TX)</td>\n",
       "      <td>Normal</td>\n",
       "      <td>Owner Surrender</td>\n",
       "      <td>Neutered Male</td>\n",
       "      <td>2 years</td>\n",
       "    </tr>\n",
       "  </tbody>\n",
       "</table>\n",
       "</div>"
      ],
      "text/plain": [
       "  animal_id     name animal_type                                  breed  \\\n",
       "0   A706918    Belle         Dog               English Springer Spaniel   \n",
       "1   A724273  Runster         Dog                            Basenji Mix   \n",
       "2   A665644      NaN         Cat                 Domestic Shorthair Mix   \n",
       "3   A682524      Rio         Dog  Doberman Pinsch/Australian Cattle Dog   \n",
       "4   A743852     Odin         Dog                 Labrador Retriever Mix   \n",
       "\n",
       "         color                 datetime                datetime2  \\\n",
       "0  White/Liver  2015-07-05T12:59:00.000  2015-07-05T12:59:00.000   \n",
       "1  Sable/White  2016-04-14T18:43:00.000  2016-04-14T18:43:00.000   \n",
       "2       Calico  2013-10-21T07:59:00.000  2013-10-21T07:59:00.000   \n",
       "3     Tan/Gray  2014-06-29T10:38:00.000  2014-06-29T10:38:00.000   \n",
       "4    Chocolate  2017-02-18T12:46:00.000  2017-02-18T12:46:00.000   \n",
       "\n",
       "                       found_location intake_condition      intake_type  \\\n",
       "0    9409 Bluegrass Dr in Austin (TX)           Normal            Stray   \n",
       "1  2818 Palomino Trail in Austin (TX)           Normal            Stray   \n",
       "2                         Austin (TX)             Sick            Stray   \n",
       "3       800 Grove Blvd in Austin (TX)           Normal            Stray   \n",
       "4                         Austin (TX)           Normal  Owner Surrender   \n",
       "\n",
       "  sex_upon_intake age_upon_intake  \n",
       "0   Spayed Female         8 years  \n",
       "1     Intact Male       11 months  \n",
       "2   Intact Female         4 weeks  \n",
       "3   Neutered Male         4 years  \n",
       "4   Neutered Male         2 years  "
      ]
     },
     "execution_count": 3,
     "metadata": {},
     "output_type": "execute_result"
    }
   ],
   "source": [
    "#detail of animal intakes\n",
    "\n",
    "df_intakes.head()"
   ]
  },
  {
   "cell_type": "code",
   "execution_count": 4,
   "metadata": {},
   "outputs": [
    {
     "data": {
      "text/html": [
       "<div>\n",
       "<style scoped>\n",
       "    .dataframe tbody tr th:only-of-type {\n",
       "        vertical-align: middle;\n",
       "    }\n",
       "\n",
       "    .dataframe tbody tr th {\n",
       "        vertical-align: top;\n",
       "    }\n",
       "\n",
       "    .dataframe thead th {\n",
       "        text-align: right;\n",
       "    }\n",
       "</style>\n",
       "<table border=\"1\" class=\"dataframe\">\n",
       "  <thead>\n",
       "    <tr style=\"text-align: right;\">\n",
       "      <th></th>\n",
       "      <th>animal_id</th>\n",
       "      <th>name</th>\n",
       "      <th>animal_type</th>\n",
       "      <th>breed</th>\n",
       "      <th>color</th>\n",
       "      <th>date_of_birth</th>\n",
       "      <th>datetime</th>\n",
       "      <th>monthyear</th>\n",
       "      <th>outcome_subtype</th>\n",
       "      <th>outcome_type</th>\n",
       "      <th>sex_upon_outcome</th>\n",
       "      <th>age_upon_outcome</th>\n",
       "    </tr>\n",
       "  </thead>\n",
       "  <tbody>\n",
       "    <tr>\n",
       "      <th>0</th>\n",
       "      <td>A684346</td>\n",
       "      <td>NaN</td>\n",
       "      <td>Cat</td>\n",
       "      <td>Domestic Shorthair Mix</td>\n",
       "      <td>Orange Tabby</td>\n",
       "      <td>2014-07-07T00:00:00</td>\n",
       "      <td>2014-07-22T16:04:00</td>\n",
       "      <td>2014-07-22T16:04:00</td>\n",
       "      <td>Partner</td>\n",
       "      <td>Transfer</td>\n",
       "      <td>Intact Male</td>\n",
       "      <td>2 weeks</td>\n",
       "    </tr>\n",
       "    <tr>\n",
       "      <th>1</th>\n",
       "      <td>A666430</td>\n",
       "      <td>Lucy</td>\n",
       "      <td>Dog</td>\n",
       "      <td>Beagle Mix</td>\n",
       "      <td>White/Brown</td>\n",
       "      <td>2012-11-06T00:00:00</td>\n",
       "      <td>2013-11-07T11:47:00</td>\n",
       "      <td>2013-11-07T11:47:00</td>\n",
       "      <td>Partner</td>\n",
       "      <td>Transfer</td>\n",
       "      <td>Spayed Female</td>\n",
       "      <td>1 year</td>\n",
       "    </tr>\n",
       "    <tr>\n",
       "      <th>2</th>\n",
       "      <td>A675708</td>\n",
       "      <td>*Johnny</td>\n",
       "      <td>Dog</td>\n",
       "      <td>Pit Bull</td>\n",
       "      <td>Blue/White</td>\n",
       "      <td>2013-03-31T00:00:00</td>\n",
       "      <td>2014-06-03T14:20:00</td>\n",
       "      <td>2014-06-03T14:20:00</td>\n",
       "      <td>NaN</td>\n",
       "      <td>Adoption</td>\n",
       "      <td>Neutered Male</td>\n",
       "      <td>1 year</td>\n",
       "    </tr>\n",
       "    <tr>\n",
       "      <th>3</th>\n",
       "      <td>A680386</td>\n",
       "      <td>Monday</td>\n",
       "      <td>Dog</td>\n",
       "      <td>Miniature Schnauzer Mix</td>\n",
       "      <td>White</td>\n",
       "      <td>2005-06-02T00:00:00</td>\n",
       "      <td>2014-06-15T15:50:00</td>\n",
       "      <td>2014-06-15T15:50:00</td>\n",
       "      <td>Partner</td>\n",
       "      <td>Transfer</td>\n",
       "      <td>Neutered Male</td>\n",
       "      <td>9 years</td>\n",
       "    </tr>\n",
       "    <tr>\n",
       "      <th>4</th>\n",
       "      <td>A683115</td>\n",
       "      <td>NaN</td>\n",
       "      <td>Other</td>\n",
       "      <td>Bat Mix</td>\n",
       "      <td>Brown</td>\n",
       "      <td>2014-01-07T00:00:00</td>\n",
       "      <td>2014-07-07T14:04:00</td>\n",
       "      <td>2014-07-07T14:04:00</td>\n",
       "      <td>Rabies Risk</td>\n",
       "      <td>Euthanasia</td>\n",
       "      <td>Unknown</td>\n",
       "      <td>5 months</td>\n",
       "    </tr>\n",
       "  </tbody>\n",
       "</table>\n",
       "</div>"
      ],
      "text/plain": [
       "  animal_id     name animal_type                    breed         color  \\\n",
       "0   A684346      NaN         Cat   Domestic Shorthair Mix  Orange Tabby   \n",
       "1   A666430     Lucy         Dog               Beagle Mix   White/Brown   \n",
       "2   A675708  *Johnny         Dog                 Pit Bull    Blue/White   \n",
       "3   A680386   Monday         Dog  Miniature Schnauzer Mix         White   \n",
       "4   A683115      NaN       Other                  Bat Mix         Brown   \n",
       "\n",
       "         date_of_birth             datetime            monthyear  \\\n",
       "0  2014-07-07T00:00:00  2014-07-22T16:04:00  2014-07-22T16:04:00   \n",
       "1  2012-11-06T00:00:00  2013-11-07T11:47:00  2013-11-07T11:47:00   \n",
       "2  2013-03-31T00:00:00  2014-06-03T14:20:00  2014-06-03T14:20:00   \n",
       "3  2005-06-02T00:00:00  2014-06-15T15:50:00  2014-06-15T15:50:00   \n",
       "4  2014-01-07T00:00:00  2014-07-07T14:04:00  2014-07-07T14:04:00   \n",
       "\n",
       "  outcome_subtype outcome_type sex_upon_outcome age_upon_outcome  \n",
       "0         Partner     Transfer      Intact Male          2 weeks  \n",
       "1         Partner     Transfer    Spayed Female           1 year  \n",
       "2             NaN     Adoption    Neutered Male           1 year  \n",
       "3         Partner     Transfer    Neutered Male          9 years  \n",
       "4     Rabies Risk   Euthanasia          Unknown         5 months  "
      ]
     },
     "execution_count": 4,
     "metadata": {},
     "output_type": "execute_result"
    }
   ],
   "source": [
    "#details of animal outcomes\n",
    "\n",
    "df_outcomes.head()"
   ]
  },
  {
   "cell_type": "code",
   "execution_count": 5,
   "metadata": {},
   "outputs": [
    {
     "name": "stdout",
     "output_type": "stream",
     "text": [
      "<class 'pandas.core.frame.DataFrame'>\n",
      "RangeIndex: 80187 entries, 0 to 80186\n",
      "Data columns (total 12 columns):\n",
      " #   Column            Non-Null Count  Dtype \n",
      "---  ------            --------------  ----- \n",
      " 0   animal_id         80187 non-null  object\n",
      " 1   name              55603 non-null  object\n",
      " 2   animal_type       80187 non-null  object\n",
      " 3   breed             80187 non-null  object\n",
      " 4   color             80187 non-null  object\n",
      " 5   datetime          80187 non-null  object\n",
      " 6   datetime2         80187 non-null  object\n",
      " 7   found_location    80187 non-null  object\n",
      " 8   intake_condition  80187 non-null  object\n",
      " 9   intake_type       80187 non-null  object\n",
      " 10  sex_upon_intake   80186 non-null  object\n",
      " 11  age_upon_intake   80187 non-null  object\n",
      "dtypes: object(12)\n",
      "memory usage: 7.3+ MB\n"
     ]
    }
   ],
   "source": [
    "df_intakes.info()"
   ]
  },
  {
   "cell_type": "code",
   "execution_count": 6,
   "metadata": {},
   "outputs": [
    {
     "name": "stdout",
     "output_type": "stream",
     "text": [
      "<class 'pandas.core.frame.DataFrame'>\n",
      "RangeIndex: 80681 entries, 0 to 80680\n",
      "Data columns (total 12 columns):\n",
      " #   Column            Non-Null Count  Dtype \n",
      "---  ------            --------------  ----- \n",
      " 0   animal_id         80681 non-null  object\n",
      " 1   name              56116 non-null  object\n",
      " 2   animal_type       80681 non-null  object\n",
      " 3   breed             80681 non-null  object\n",
      " 4   color             80681 non-null  object\n",
      " 5   date_of_birth     80681 non-null  object\n",
      " 6   datetime          80681 non-null  object\n",
      " 7   monthyear         80681 non-null  object\n",
      " 8   outcome_subtype   36893 non-null  object\n",
      " 9   outcome_type      80667 non-null  object\n",
      " 10  sex_upon_outcome  80679 non-null  object\n",
      " 11  age_upon_outcome  80673 non-null  object\n",
      "dtypes: object(12)\n",
      "memory usage: 7.4+ MB\n"
     ]
    }
   ],
   "source": [
    "df_outcomes.info()"
   ]
  },
  {
   "cell_type": "markdown",
   "metadata": {},
   "source": [
    "<b>Data Cleaning:"
   ]
  },
  {
   "cell_type": "markdown",
   "metadata": {},
   "source": [
    "Check for missing values"
   ]
  },
  {
   "cell_type": "code",
   "execution_count": 7,
   "metadata": {},
   "outputs": [
    {
     "data": {
      "text/plain": [
       "animal_id               0\n",
       "name                24565\n",
       "animal_type             0\n",
       "breed                   0\n",
       "color                   0\n",
       "date_of_birth           0\n",
       "datetime                0\n",
       "monthyear               0\n",
       "outcome_subtype     43788\n",
       "outcome_type           14\n",
       "sex_upon_outcome        2\n",
       "age_upon_outcome        8\n",
       "dtype: int64"
      ]
     },
     "execution_count": 7,
     "metadata": {},
     "output_type": "execute_result"
    }
   ],
   "source": [
    "df_outcomes.isna().sum()"
   ]
  },
  {
   "cell_type": "code",
   "execution_count": 8,
   "metadata": {},
   "outputs": [
    {
     "data": {
      "text/plain": [
       "Partner                20082\n",
       "Foster                  5714\n",
       "SCRP                    3211\n",
       "Suffering               2563\n",
       "Rabies Risk             2546\n",
       "Snr                      755\n",
       "Aggressive               508\n",
       "Offsite                  367\n",
       "In Kennel                354\n",
       "Medical                  268\n",
       "In Foster                183\n",
       "Behavior                 142\n",
       "At Vet                    71\n",
       "Enroute                   49\n",
       "Underage                  28\n",
       "Court/Investigation       23\n",
       "In Surgery                17\n",
       "Possible Theft             9\n",
       "Barn                       3\n",
       "Name: outcome_subtype, dtype: int64"
      ]
     },
     "execution_count": 8,
     "metadata": {},
     "output_type": "execute_result"
    }
   ],
   "source": [
    "df_outcomes.outcome_subtype.value_counts()"
   ]
  },
  {
   "cell_type": "code",
   "execution_count": 9,
   "metadata": {},
   "outputs": [
    {
     "data": {
      "text/plain": [
       "Adoption           34232\n",
       "Transfer           24050\n",
       "Return to Owner    14851\n",
       "Euthanasia          6289\n",
       "Died                 699\n",
       "Disposal             304\n",
       "Rto-Adopt            179\n",
       "Missing               47\n",
       "Relocate              16\n",
       "Name: outcome_type, dtype: int64"
      ]
     },
     "execution_count": 9,
     "metadata": {},
     "output_type": "execute_result"
    }
   ],
   "source": [
    "df_outcomes.outcome_type.value_counts()"
   ]
  },
  {
   "cell_type": "markdown",
   "metadata": {},
   "source": [
    "We only need outcome type for our analysis further so we can drop outcome_subtype with ~50% missing values. We do not need to impute this column as its not required for our research further. So, dropping it will be a good idea to handle its missing values."
   ]
  },
  {
   "cell_type": "code",
   "execution_count": 10,
   "metadata": {},
   "outputs": [],
   "source": [
    "df_outcomes.drop(columns = ['outcome_subtype'], inplace = True)"
   ]
  },
  {
   "cell_type": "code",
   "execution_count": 11,
   "metadata": {},
   "outputs": [
    {
     "data": {
      "text/plain": [
       "animal_id               0\n",
       "name                24565\n",
       "animal_type             0\n",
       "breed                   0\n",
       "color                   0\n",
       "date_of_birth           0\n",
       "datetime                0\n",
       "monthyear               0\n",
       "outcome_type           14\n",
       "sex_upon_outcome        2\n",
       "age_upon_outcome        8\n",
       "dtype: int64"
      ]
     },
     "execution_count": 11,
     "metadata": {},
     "output_type": "execute_result"
    }
   ],
   "source": [
    "df_outcomes.isna().sum()"
   ]
  },
  {
   "cell_type": "markdown",
   "metadata": {},
   "source": [
    "Dropping rows with with no name can impact the data. Also, this column may be required later. So, imputing the null values with 'no name'."
   ]
  },
  {
   "cell_type": "code",
   "execution_count": 12,
   "metadata": {},
   "outputs": [],
   "source": [
    "df_outcomes[\"name\"].fillna(\"no name\", inplace = True) "
   ]
  },
  {
   "cell_type": "code",
   "execution_count": 13,
   "metadata": {},
   "outputs": [
    {
     "data": {
      "text/plain": [
       "animal_id            0\n",
       "name                 0\n",
       "animal_type          0\n",
       "breed                0\n",
       "color                0\n",
       "date_of_birth        0\n",
       "datetime             0\n",
       "monthyear            0\n",
       "outcome_type        14\n",
       "sex_upon_outcome     2\n",
       "age_upon_outcome     8\n",
       "dtype: int64"
      ]
     },
     "execution_count": 13,
     "metadata": {},
     "output_type": "execute_result"
    }
   ],
   "source": [
    "df_outcomes.isna().sum()"
   ]
  },
  {
   "cell_type": "markdown",
   "metadata": {},
   "source": [
    "Rows that do not have an outcome type, will not be useful for our analysis. Also, compared to the total number of rows, 14 rows are pretty less and dropping them will not impact the dataset. Also, Sex_upon_outcome just have a row with a null value, so we can drop it."
   ]
  },
  {
   "cell_type": "code",
   "execution_count": 14,
   "metadata": {},
   "outputs": [],
   "source": [
    "df_outcomes.dropna(subset = ['outcome_type','sex_upon_outcome'], inplace = True)"
   ]
  },
  {
   "cell_type": "code",
   "execution_count": 15,
   "metadata": {},
   "outputs": [
    {
     "data": {
      "text/plain": [
       "animal_id           0\n",
       "name                0\n",
       "animal_type         0\n",
       "breed               0\n",
       "color               0\n",
       "date_of_birth       0\n",
       "datetime            0\n",
       "monthyear           0\n",
       "outcome_type        0\n",
       "sex_upon_outcome    0\n",
       "age_upon_outcome    6\n",
       "dtype: int64"
      ]
     },
     "execution_count": 15,
     "metadata": {},
     "output_type": "execute_result"
    }
   ],
   "source": [
    "df_outcomes.isna().sum()"
   ]
  },
  {
   "cell_type": "code",
   "execution_count": 16,
   "metadata": {},
   "outputs": [
    {
     "data": {
      "text/plain": [
       "array(['2 weeks', '1 year', '9 years', '5 months', '4 months', '1 month',\n",
       "       '3 months', '2 years', '2 months', '4 years', '3 weeks',\n",
       "       '8 months', '12 years', '7 years', '3 years', '6 years', '5 days',\n",
       "       '10 months', '4 weeks', '2 days', '10 years', '14 years',\n",
       "       '5 years', '8 years', '6 months', '11 months', '15 years',\n",
       "       '13 years', '11 years', '16 years', '3 days', '7 months',\n",
       "       '9 months', '6 days', '4 days', '5 weeks', '1 week', '1 day',\n",
       "       '1 weeks', '17 years', '0 years', '18 years', '20 years',\n",
       "       '19 years', '22 years', '25 years', nan], dtype=object)"
      ]
     },
     "execution_count": 16,
     "metadata": {},
     "output_type": "execute_result"
    }
   ],
   "source": [
    "df_outcomes.age_upon_outcome.unique()"
   ]
  },
  {
   "cell_type": "markdown",
   "metadata": {},
   "source": [
    "We need to convert ages to numerical values with units as days, so that we can impute age for null values."
   ]
  },
  {
   "cell_type": "code",
   "execution_count": 17,
   "metadata": {},
   "outputs": [],
   "source": [
    "def age_in_days_int(age):\n",
    "    \"\"\"\n",
    "    This function will convert age in months/years/weeks/days to days.\n",
    "    \"\"\"\n",
    "    if 'years' in str(age):\n",
    "        age=age.replace(' years', '')\n",
    "        age=int(age)\n",
    "        age=age*365\n",
    "        \n",
    "    elif 'year' in str(age):\n",
    "        age=age.replace(' year', '')\n",
    "        age=int(age)\n",
    "        age=age*365\n",
    "        \n",
    "    elif 'months' in str(age):\n",
    "        age=age.replace(' months', '')\n",
    "        age=float(age)\n",
    "        age=age*30\n",
    "        \n",
    "    elif 'month' in str(age):\n",
    "        age=age.replace(' month', '')\n",
    "        age=float(age)\n",
    "        age=age*30\n",
    "        \n",
    "    elif 'weeks' in str(age):\n",
    "        age=age.replace(' weeks', '')\n",
    "        age=int(age)\n",
    "        age=age*7\n",
    "        \n",
    "    elif 'week' in str(age):\n",
    "        age=age.replace(' week', '')\n",
    "        age=int(age)\n",
    "        age=age*7\n",
    "    \n",
    "    elif 'days' in str(age):\n",
    "        age=age.replace(' days', '')\n",
    "        age=int(age)\n",
    "\n",
    "    elif 'day' in str(age):\n",
    "        age=age.replace(' day', '')\n",
    "        age=int(age)\n",
    "        \n",
    "    return age\n",
    "        "
   ]
  },
  {
   "cell_type": "code",
   "execution_count": 18,
   "metadata": {},
   "outputs": [],
   "source": [
    "df_outcomes['age_upon_outcome'] = df_outcomes['age_upon_outcome'].apply(age_in_days_int)"
   ]
  },
  {
   "cell_type": "code",
   "execution_count": 19,
   "metadata": {},
   "outputs": [
    {
     "data": {
      "text/plain": [
       "array([1.400e+01, 3.650e+02, 3.285e+03, 1.500e+02, 1.200e+02, 3.000e+01,\n",
       "       9.000e+01, 7.300e+02, 6.000e+01, 1.460e+03, 2.100e+01, 2.400e+02,\n",
       "       4.380e+03, 2.555e+03, 1.095e+03, 2.190e+03, 5.000e+00, 3.000e+02,\n",
       "       2.800e+01, 2.000e+00, 3.650e+03, 5.110e+03, 1.825e+03, 2.920e+03,\n",
       "       1.800e+02, 3.300e+02, 5.475e+03, 4.745e+03, 4.015e+03, 5.840e+03,\n",
       "       3.000e+00, 2.100e+02, 2.700e+02, 6.000e+00, 4.000e+00, 3.500e+01,\n",
       "       7.000e+00, 1.000e+00, 6.205e+03, 0.000e+00, 6.570e+03, 7.300e+03,\n",
       "       6.935e+03, 8.030e+03, 9.125e+03,       nan])"
      ]
     },
     "execution_count": 19,
     "metadata": {},
     "output_type": "execute_result"
    }
   ],
   "source": [
    "df_outcomes['age_upon_outcome'].unique()"
   ]
  },
  {
   "cell_type": "code",
   "execution_count": 20,
   "metadata": {},
   "outputs": [],
   "source": [
    "#imputing age null values with mean of their breed group\n",
    "\n",
    "df_outcomes['age_upon_outcome'] = df_outcomes[['age_upon_outcome']].fillna(df_outcomes.groupby('breed').transform('mean'))"
   ]
  },
  {
   "cell_type": "code",
   "execution_count": 21,
   "metadata": {},
   "outputs": [
    {
     "data": {
      "text/plain": [
       "animal_id           0\n",
       "name                0\n",
       "animal_type         0\n",
       "breed               0\n",
       "color               0\n",
       "date_of_birth       0\n",
       "datetime            0\n",
       "monthyear           0\n",
       "outcome_type        0\n",
       "sex_upon_outcome    0\n",
       "age_upon_outcome    1\n",
       "dtype: int64"
      ]
     },
     "execution_count": 21,
     "metadata": {},
     "output_type": "execute_result"
    }
   ],
   "source": [
    "df_outcomes.isna().sum()"
   ]
  },
  {
   "cell_type": "code",
   "execution_count": 22,
   "metadata": {},
   "outputs": [
    {
     "data": {
      "text/html": [
       "<div>\n",
       "<style scoped>\n",
       "    .dataframe tbody tr th:only-of-type {\n",
       "        vertical-align: middle;\n",
       "    }\n",
       "\n",
       "    .dataframe tbody tr th {\n",
       "        vertical-align: top;\n",
       "    }\n",
       "\n",
       "    .dataframe thead th {\n",
       "        text-align: right;\n",
       "    }\n",
       "</style>\n",
       "<table border=\"1\" class=\"dataframe\">\n",
       "  <thead>\n",
       "    <tr style=\"text-align: right;\">\n",
       "      <th></th>\n",
       "      <th>animal_id</th>\n",
       "      <th>name</th>\n",
       "      <th>animal_type</th>\n",
       "      <th>breed</th>\n",
       "      <th>color</th>\n",
       "      <th>date_of_birth</th>\n",
       "      <th>datetime</th>\n",
       "      <th>monthyear</th>\n",
       "      <th>outcome_type</th>\n",
       "      <th>sex_upon_outcome</th>\n",
       "      <th>age_upon_outcome</th>\n",
       "    </tr>\n",
       "  </thead>\n",
       "  <tbody>\n",
       "    <tr>\n",
       "      <th>80344</th>\n",
       "      <td>A768766</td>\n",
       "      <td>no name</td>\n",
       "      <td>Bird</td>\n",
       "      <td>Guinea</td>\n",
       "      <td>Gray</td>\n",
       "      <td>2017-03-24T00:00:00</td>\n",
       "      <td>2018-03-29T11:59:00</td>\n",
       "      <td>2018-03-29T11:59:00</td>\n",
       "      <td>Transfer</td>\n",
       "      <td>Unknown</td>\n",
       "      <td>NaN</td>\n",
       "    </tr>\n",
       "  </tbody>\n",
       "</table>\n",
       "</div>"
      ],
      "text/plain": [
       "      animal_id     name animal_type   breed color        date_of_birth  \\\n",
       "80344   A768766  no name        Bird  Guinea  Gray  2017-03-24T00:00:00   \n",
       "\n",
       "                  datetime            monthyear outcome_type sex_upon_outcome  \\\n",
       "80344  2018-03-29T11:59:00  2018-03-29T11:59:00     Transfer          Unknown   \n",
       "\n",
       "       age_upon_outcome  \n",
       "80344               NaN  "
      ]
     },
     "execution_count": 22,
     "metadata": {},
     "output_type": "execute_result"
    }
   ],
   "source": [
    "df_outcomes[df_outcomes.age_upon_outcome.isnull()]"
   ]
  },
  {
   "cell_type": "code",
   "execution_count": 23,
   "metadata": {},
   "outputs": [
    {
     "data": {
      "text/html": [
       "<div>\n",
       "<style scoped>\n",
       "    .dataframe tbody tr th:only-of-type {\n",
       "        vertical-align: middle;\n",
       "    }\n",
       "\n",
       "    .dataframe tbody tr th {\n",
       "        vertical-align: top;\n",
       "    }\n",
       "\n",
       "    .dataframe thead th {\n",
       "        text-align: right;\n",
       "    }\n",
       "</style>\n",
       "<table border=\"1\" class=\"dataframe\">\n",
       "  <thead>\n",
       "    <tr style=\"text-align: right;\">\n",
       "      <th></th>\n",
       "      <th>animal_id</th>\n",
       "      <th>name</th>\n",
       "      <th>animal_type</th>\n",
       "      <th>breed</th>\n",
       "      <th>color</th>\n",
       "      <th>date_of_birth</th>\n",
       "      <th>datetime</th>\n",
       "      <th>monthyear</th>\n",
       "      <th>outcome_type</th>\n",
       "      <th>sex_upon_outcome</th>\n",
       "      <th>age_upon_outcome</th>\n",
       "    </tr>\n",
       "  </thead>\n",
       "  <tbody>\n",
       "    <tr>\n",
       "      <th>80344</th>\n",
       "      <td>A768766</td>\n",
       "      <td>no name</td>\n",
       "      <td>Bird</td>\n",
       "      <td>Guinea</td>\n",
       "      <td>Gray</td>\n",
       "      <td>2017-03-24T00:00:00</td>\n",
       "      <td>2018-03-29T11:59:00</td>\n",
       "      <td>2018-03-29T11:59:00</td>\n",
       "      <td>Transfer</td>\n",
       "      <td>Unknown</td>\n",
       "      <td>NaN</td>\n",
       "    </tr>\n",
       "  </tbody>\n",
       "</table>\n",
       "</div>"
      ],
      "text/plain": [
       "      animal_id     name animal_type   breed color        date_of_birth  \\\n",
       "80344   A768766  no name        Bird  Guinea  Gray  2017-03-24T00:00:00   \n",
       "\n",
       "                  datetime            monthyear outcome_type sex_upon_outcome  \\\n",
       "80344  2018-03-29T11:59:00  2018-03-29T11:59:00     Transfer          Unknown   \n",
       "\n",
       "       age_upon_outcome  \n",
       "80344               NaN  "
      ]
     },
     "execution_count": 23,
     "metadata": {},
     "output_type": "execute_result"
    }
   ],
   "source": [
    "df_outcomes[df_outcomes.breed == 'Guinea']"
   ]
  },
  {
   "cell_type": "code",
   "execution_count": 24,
   "metadata": {},
   "outputs": [],
   "source": [
    "#as only 1 row with null age value with no another row as same breed, so we can drop it \n",
    "df_outcomes.dropna(subset = ['age_upon_outcome'],inplace = True)"
   ]
  },
  {
   "cell_type": "code",
   "execution_count": 25,
   "metadata": {},
   "outputs": [
    {
     "data": {
      "text/plain": [
       "animal_id           0\n",
       "name                0\n",
       "animal_type         0\n",
       "breed               0\n",
       "color               0\n",
       "date_of_birth       0\n",
       "datetime            0\n",
       "monthyear           0\n",
       "outcome_type        0\n",
       "sex_upon_outcome    0\n",
       "age_upon_outcome    0\n",
       "dtype: int64"
      ]
     },
     "execution_count": 25,
     "metadata": {},
     "output_type": "execute_result"
    }
   ],
   "source": [
    "df_outcomes.isna().sum()"
   ]
  },
  {
   "cell_type": "markdown",
   "metadata": {},
   "source": [
    "So, we are done with missing values in outcomes dataframe."
   ]
  },
  {
   "cell_type": "markdown",
   "metadata": {},
   "source": [
    "Datetime and monthyear are duplicate columns. Check their duplicate rows and remove one of the columns."
   ]
  },
  {
   "cell_type": "code",
   "execution_count": 26,
   "metadata": {},
   "outputs": [
    {
     "name": "stdout",
     "output_type": "stream",
     "text": [
      "True\n"
     ]
    }
   ],
   "source": [
    "print(df_outcomes['datetime'].equals(df_outcomes['monthyear']))"
   ]
  },
  {
   "cell_type": "code",
   "execution_count": 27,
   "metadata": {},
   "outputs": [],
   "source": [
    "df_outcomes.drop(columns = ['monthyear'], inplace = True)"
   ]
  },
  {
   "cell_type": "markdown",
   "metadata": {},
   "source": [
    "Convert date_of_birth and datetime to datetime object datatype."
   ]
  },
  {
   "cell_type": "code",
   "execution_count": 28,
   "metadata": {},
   "outputs": [],
   "source": [
    "df_outcomes['datetime'] = pd.to_datetime(df_outcomes['datetime'])\n",
    "df_outcomes['date_of_birth'] = pd.to_datetime(df_outcomes['date_of_birth'])\n",
    "df_outcomes['age_upon_outcome'] = df_outcomes['age_upon_outcome'].astype(int)"
   ]
  },
  {
   "cell_type": "code",
   "execution_count": 29,
   "metadata": {},
   "outputs": [
    {
     "name": "stdout",
     "output_type": "stream",
     "text": [
      "<class 'pandas.core.frame.DataFrame'>\n",
      "Int64Index: 80665 entries, 0 to 80680\n",
      "Data columns (total 10 columns):\n",
      " #   Column            Non-Null Count  Dtype         \n",
      "---  ------            --------------  -----         \n",
      " 0   animal_id         80665 non-null  object        \n",
      " 1   name              80665 non-null  object        \n",
      " 2   animal_type       80665 non-null  object        \n",
      " 3   breed             80665 non-null  object        \n",
      " 4   color             80665 non-null  object        \n",
      " 5   date_of_birth     80665 non-null  datetime64[ns]\n",
      " 6   datetime          80665 non-null  datetime64[ns]\n",
      " 7   outcome_type      80665 non-null  object        \n",
      " 8   sex_upon_outcome  80665 non-null  object        \n",
      " 9   age_upon_outcome  80665 non-null  int32         \n",
      "dtypes: datetime64[ns](2), int32(1), object(7)\n",
      "memory usage: 6.5+ MB\n"
     ]
    }
   ],
   "source": [
    "df_outcomes.info()"
   ]
  },
  {
   "cell_type": "code",
   "execution_count": 30,
   "metadata": {},
   "outputs": [
    {
     "data": {
      "text/plain": [
       "array(['Cat', 'Dog', 'Other', 'Bird', 'Livestock'], dtype=object)"
      ]
     },
     "execution_count": 30,
     "metadata": {},
     "output_type": "execute_result"
    }
   ],
   "source": [
    "df_outcomes['animal_type'].unique()"
   ]
  },
  {
   "cell_type": "markdown",
   "metadata": {},
   "source": [
    "As we will be performing analysis for dogs and cats, so let us drop all other rows from the dataset."
   ]
  },
  {
   "cell_type": "code",
   "execution_count": 31,
   "metadata": {},
   "outputs": [],
   "source": [
    "df_outcomes = df_outcomes[(df_outcomes['animal_type'] == 'Dog') | (df_outcomes['animal_type'] == 'Cat')]"
   ]
  },
  {
   "cell_type": "code",
   "execution_count": 32,
   "metadata": {},
   "outputs": [
    {
     "data": {
      "text/plain": [
       "(75876, 10)"
      ]
     },
     "execution_count": 32,
     "metadata": {},
     "output_type": "execute_result"
    }
   ],
   "source": [
    "df_outcomes.shape"
   ]
  },
  {
   "cell_type": "code",
   "execution_count": 33,
   "metadata": {},
   "outputs": [
    {
     "data": {
      "text/plain": [
       "array(['Cat', 'Dog'], dtype=object)"
      ]
     },
     "execution_count": 33,
     "metadata": {},
     "output_type": "execute_result"
    }
   ],
   "source": [
    "df_outcomes['animal_type'].unique()"
   ]
  },
  {
   "cell_type": "markdown",
   "metadata": {},
   "source": [
    "So, we are done with cleaning for outcome dataset. Now, we will clean intake dataset similary."
   ]
  },
  {
   "cell_type": "markdown",
   "metadata": {},
   "source": [
    "Now, cleaning the animals intake dataframe as follows - <br>\n",
    "We should deal with missing values first:"
   ]
  },
  {
   "cell_type": "code",
   "execution_count": 34,
   "metadata": {},
   "outputs": [
    {
     "data": {
      "text/plain": [
       "animal_id               0\n",
       "name                24584\n",
       "animal_type             0\n",
       "breed                   0\n",
       "color                   0\n",
       "datetime                0\n",
       "datetime2               0\n",
       "found_location          0\n",
       "intake_condition        0\n",
       "intake_type             0\n",
       "sex_upon_intake         1\n",
       "age_upon_intake         0\n",
       "dtype: int64"
      ]
     },
     "execution_count": 34,
     "metadata": {},
     "output_type": "execute_result"
    }
   ],
   "source": [
    "df_intakes.isna().sum()"
   ]
  },
  {
   "cell_type": "markdown",
   "metadata": {},
   "source": [
    "Imputing values for name column and dropping null valued row for sex_upon intake -"
   ]
  },
  {
   "cell_type": "code",
   "execution_count": 35,
   "metadata": {},
   "outputs": [],
   "source": [
    "df_intakes[\"name\"].fillna(\"no name\", inplace = True) \n",
    "df_intakes.dropna(subset = ['sex_upon_intake'], inplace = True)"
   ]
  },
  {
   "cell_type": "code",
   "execution_count": 36,
   "metadata": {},
   "outputs": [
    {
     "data": {
      "text/plain": [
       "animal_id           0\n",
       "name                0\n",
       "animal_type         0\n",
       "breed               0\n",
       "color               0\n",
       "datetime            0\n",
       "datetime2           0\n",
       "found_location      0\n",
       "intake_condition    0\n",
       "intake_type         0\n",
       "sex_upon_intake     0\n",
       "age_upon_intake     0\n",
       "dtype: int64"
      ]
     },
     "execution_count": 36,
     "metadata": {},
     "output_type": "execute_result"
    }
   ],
   "source": [
    "df_intakes.isna().sum()"
   ]
  },
  {
   "cell_type": "markdown",
   "metadata": {},
   "source": [
    "Checking if datetime and datetime2 are duplicate columns. Remove one among them. Also, work on datatypes of columns of animals intake dataframe:"
   ]
  },
  {
   "cell_type": "code",
   "execution_count": 37,
   "metadata": {},
   "outputs": [
    {
     "name": "stdout",
     "output_type": "stream",
     "text": [
      "True\n"
     ]
    }
   ],
   "source": [
    "print(df_intakes['datetime'].equals(df_intakes['datetime2']))"
   ]
  },
  {
   "cell_type": "code",
   "execution_count": 38,
   "metadata": {},
   "outputs": [],
   "source": [
    "df_intakes.drop(columns = ['datetime2'], inplace = True)"
   ]
  },
  {
   "cell_type": "code",
   "execution_count": 39,
   "metadata": {},
   "outputs": [
    {
     "name": "stdout",
     "output_type": "stream",
     "text": [
      "<class 'pandas.core.frame.DataFrame'>\n",
      "Int64Index: 80186 entries, 0 to 80186\n",
      "Data columns (total 11 columns):\n",
      " #   Column            Non-Null Count  Dtype \n",
      "---  ------            --------------  ----- \n",
      " 0   animal_id         80186 non-null  object\n",
      " 1   name              80186 non-null  object\n",
      " 2   animal_type       80186 non-null  object\n",
      " 3   breed             80186 non-null  object\n",
      " 4   color             80186 non-null  object\n",
      " 5   datetime          80186 non-null  object\n",
      " 6   found_location    80186 non-null  object\n",
      " 7   intake_condition  80186 non-null  object\n",
      " 8   intake_type       80186 non-null  object\n",
      " 9   sex_upon_intake   80186 non-null  object\n",
      " 10  age_upon_intake   80186 non-null  object\n",
      "dtypes: object(11)\n",
      "memory usage: 7.3+ MB\n"
     ]
    }
   ],
   "source": [
    "df_intakes.info()"
   ]
  },
  {
   "cell_type": "code",
   "execution_count": 40,
   "metadata": {},
   "outputs": [
    {
     "data": {
      "text/plain": [
       "array(['8 years', '11 months', '4 weeks', '4 years', '2 years',\n",
       "       '5 months', '14 years', '1 month', '2 months', '18 years',\n",
       "       '4 months', '1 year', '4 days', '1 day', '2 weeks', '3 years',\n",
       "       '15 years', '6 years', '3 weeks', '6 months', '12 years', '1 week',\n",
       "       '10 years', '9 years', '7 months', '5 years', '9 months',\n",
       "       '1 weeks', '8 months', '3 months', '2 days', '7 years', '0 years',\n",
       "       '10 months', '5 days', '11 years', '13 years', '3 days',\n",
       "       '17 years', '5 weeks', '19 years', '6 days', '16 years',\n",
       "       '20 years', '22 years', '25 years'], dtype=object)"
      ]
     },
     "execution_count": 40,
     "metadata": {},
     "output_type": "execute_result"
    }
   ],
   "source": [
    "df_intakes['datetime'] = pd.to_datetime(df_intakes['datetime'])\n",
    "df_intakes['age_upon_intake'].unique()"
   ]
  },
  {
   "cell_type": "code",
   "execution_count": 41,
   "metadata": {},
   "outputs": [
    {
     "name": "stdout",
     "output_type": "stream",
     "text": [
      "<class 'pandas.core.frame.DataFrame'>\n",
      "Int64Index: 80186 entries, 0 to 80186\n",
      "Data columns (total 11 columns):\n",
      " #   Column            Non-Null Count  Dtype         \n",
      "---  ------            --------------  -----         \n",
      " 0   animal_id         80186 non-null  object        \n",
      " 1   name              80186 non-null  object        \n",
      " 2   animal_type       80186 non-null  object        \n",
      " 3   breed             80186 non-null  object        \n",
      " 4   color             80186 non-null  object        \n",
      " 5   datetime          80186 non-null  datetime64[ns]\n",
      " 6   found_location    80186 non-null  object        \n",
      " 7   intake_condition  80186 non-null  object        \n",
      " 8   intake_type       80186 non-null  object        \n",
      " 9   sex_upon_intake   80186 non-null  object        \n",
      " 10  age_upon_intake   80186 non-null  int32         \n",
      "dtypes: datetime64[ns](1), int32(1), object(9)\n",
      "memory usage: 7.0+ MB\n"
     ]
    }
   ],
   "source": [
    "df_intakes['age_upon_intake'] = df_intakes['age_upon_intake'].apply(age_in_days_int)\n",
    "df_intakes['age_upon_intake'] = df_intakes['age_upon_intake'].astype(int)\n",
    "df_intakes.info()"
   ]
  },
  {
   "cell_type": "code",
   "execution_count": 42,
   "metadata": {},
   "outputs": [],
   "source": [
    "df_intakes = df_intakes[(df_intakes['animal_type'] == 'Dog') | (df_intakes['animal_type'] == 'Cat')]"
   ]
  },
  {
   "cell_type": "code",
   "execution_count": 43,
   "metadata": {},
   "outputs": [
    {
     "data": {
      "text/plain": [
       "(75401, 11)"
      ]
     },
     "execution_count": 43,
     "metadata": {},
     "output_type": "execute_result"
    }
   ],
   "source": [
    "df_intakes.shape"
   ]
  },
  {
   "cell_type": "markdown",
   "metadata": {},
   "source": [
    "Now, we will merge both dataframes to create a final merged dataframe based on Animal IDs that will be used further for analysis:\n",
    "<br><b>Data Condensation:"
   ]
  },
  {
   "cell_type": "code",
   "execution_count": 44,
   "metadata": {},
   "outputs": [],
   "source": [
    "df_merge = pd.merge(df_intakes,df_outcomes,on='animal_id',how='inner')"
   ]
  },
  {
   "cell_type": "code",
   "execution_count": 45,
   "metadata": {},
   "outputs": [
    {
     "data": {
      "text/html": [
       "<div>\n",
       "<style scoped>\n",
       "    .dataframe tbody tr th:only-of-type {\n",
       "        vertical-align: middle;\n",
       "    }\n",
       "\n",
       "    .dataframe tbody tr th {\n",
       "        vertical-align: top;\n",
       "    }\n",
       "\n",
       "    .dataframe thead th {\n",
       "        text-align: right;\n",
       "    }\n",
       "</style>\n",
       "<table border=\"1\" class=\"dataframe\">\n",
       "  <thead>\n",
       "    <tr style=\"text-align: right;\">\n",
       "      <th></th>\n",
       "      <th>animal_id</th>\n",
       "      <th>name_x</th>\n",
       "      <th>animal_type_x</th>\n",
       "      <th>breed_x</th>\n",
       "      <th>color_x</th>\n",
       "      <th>datetime_x</th>\n",
       "      <th>found_location</th>\n",
       "      <th>intake_condition</th>\n",
       "      <th>intake_type</th>\n",
       "      <th>sex_upon_intake</th>\n",
       "      <th>age_upon_intake</th>\n",
       "      <th>name_y</th>\n",
       "      <th>animal_type_y</th>\n",
       "      <th>breed_y</th>\n",
       "      <th>color_y</th>\n",
       "      <th>date_of_birth</th>\n",
       "      <th>datetime_y</th>\n",
       "      <th>outcome_type</th>\n",
       "      <th>sex_upon_outcome</th>\n",
       "      <th>age_upon_outcome</th>\n",
       "    </tr>\n",
       "  </thead>\n",
       "  <tbody>\n",
       "    <tr>\n",
       "      <th>0</th>\n",
       "      <td>A706918</td>\n",
       "      <td>Belle</td>\n",
       "      <td>Dog</td>\n",
       "      <td>English Springer Spaniel</td>\n",
       "      <td>White/Liver</td>\n",
       "      <td>2015-07-05 12:59:00</td>\n",
       "      <td>9409 Bluegrass Dr in Austin (TX)</td>\n",
       "      <td>Normal</td>\n",
       "      <td>Stray</td>\n",
       "      <td>Spayed Female</td>\n",
       "      <td>2920</td>\n",
       "      <td>Belle</td>\n",
       "      <td>Dog</td>\n",
       "      <td>English Springer Spaniel</td>\n",
       "      <td>White/Liver</td>\n",
       "      <td>2007-07-05</td>\n",
       "      <td>2015-07-05 15:13:00</td>\n",
       "      <td>Return to Owner</td>\n",
       "      <td>Spayed Female</td>\n",
       "      <td>2920</td>\n",
       "    </tr>\n",
       "    <tr>\n",
       "      <th>1</th>\n",
       "      <td>A724273</td>\n",
       "      <td>Runster</td>\n",
       "      <td>Dog</td>\n",
       "      <td>Basenji Mix</td>\n",
       "      <td>Sable/White</td>\n",
       "      <td>2016-04-14 18:43:00</td>\n",
       "      <td>2818 Palomino Trail in Austin (TX)</td>\n",
       "      <td>Normal</td>\n",
       "      <td>Stray</td>\n",
       "      <td>Intact Male</td>\n",
       "      <td>330</td>\n",
       "      <td>Runster</td>\n",
       "      <td>Dog</td>\n",
       "      <td>Basenji Mix</td>\n",
       "      <td>Sable/White</td>\n",
       "      <td>2015-04-17</td>\n",
       "      <td>2016-04-21 17:17:00</td>\n",
       "      <td>Return to Owner</td>\n",
       "      <td>Neutered Male</td>\n",
       "      <td>365</td>\n",
       "    </tr>\n",
       "    <tr>\n",
       "      <th>2</th>\n",
       "      <td>A665644</td>\n",
       "      <td>no name</td>\n",
       "      <td>Cat</td>\n",
       "      <td>Domestic Shorthair Mix</td>\n",
       "      <td>Calico</td>\n",
       "      <td>2013-10-21 07:59:00</td>\n",
       "      <td>Austin (TX)</td>\n",
       "      <td>Sick</td>\n",
       "      <td>Stray</td>\n",
       "      <td>Intact Female</td>\n",
       "      <td>28</td>\n",
       "      <td>no name</td>\n",
       "      <td>Cat</td>\n",
       "      <td>Domestic Shorthair Mix</td>\n",
       "      <td>Calico</td>\n",
       "      <td>2013-09-21</td>\n",
       "      <td>2013-10-21 11:39:00</td>\n",
       "      <td>Transfer</td>\n",
       "      <td>Intact Female</td>\n",
       "      <td>28</td>\n",
       "    </tr>\n",
       "    <tr>\n",
       "      <th>3</th>\n",
       "      <td>A682524</td>\n",
       "      <td>Rio</td>\n",
       "      <td>Dog</td>\n",
       "      <td>Doberman Pinsch/Australian Cattle Dog</td>\n",
       "      <td>Tan/Gray</td>\n",
       "      <td>2014-06-29 10:38:00</td>\n",
       "      <td>800 Grove Blvd in Austin (TX)</td>\n",
       "      <td>Normal</td>\n",
       "      <td>Stray</td>\n",
       "      <td>Neutered Male</td>\n",
       "      <td>1460</td>\n",
       "      <td>Rio</td>\n",
       "      <td>Dog</td>\n",
       "      <td>Doberman Pinsch/Australian Cattle Dog</td>\n",
       "      <td>Tan/Gray</td>\n",
       "      <td>2010-06-29</td>\n",
       "      <td>2014-07-02 14:16:00</td>\n",
       "      <td>Return to Owner</td>\n",
       "      <td>Neutered Male</td>\n",
       "      <td>1460</td>\n",
       "    </tr>\n",
       "    <tr>\n",
       "      <th>4</th>\n",
       "      <td>A743852</td>\n",
       "      <td>Odin</td>\n",
       "      <td>Dog</td>\n",
       "      <td>Labrador Retriever Mix</td>\n",
       "      <td>Chocolate</td>\n",
       "      <td>2017-02-18 12:46:00</td>\n",
       "      <td>Austin (TX)</td>\n",
       "      <td>Normal</td>\n",
       "      <td>Owner Surrender</td>\n",
       "      <td>Neutered Male</td>\n",
       "      <td>730</td>\n",
       "      <td>Odin</td>\n",
       "      <td>Dog</td>\n",
       "      <td>Labrador Retriever Mix</td>\n",
       "      <td>Chocolate</td>\n",
       "      <td>2015-02-18</td>\n",
       "      <td>2017-02-21 17:44:00</td>\n",
       "      <td>Return to Owner</td>\n",
       "      <td>Neutered Male</td>\n",
       "      <td>730</td>\n",
       "    </tr>\n",
       "  </tbody>\n",
       "</table>\n",
       "</div>"
      ],
      "text/plain": [
       "  animal_id   name_x animal_type_x                                breed_x  \\\n",
       "0   A706918    Belle           Dog               English Springer Spaniel   \n",
       "1   A724273  Runster           Dog                            Basenji Mix   \n",
       "2   A665644  no name           Cat                 Domestic Shorthair Mix   \n",
       "3   A682524      Rio           Dog  Doberman Pinsch/Australian Cattle Dog   \n",
       "4   A743852     Odin           Dog                 Labrador Retriever Mix   \n",
       "\n",
       "       color_x          datetime_x                      found_location  \\\n",
       "0  White/Liver 2015-07-05 12:59:00    9409 Bluegrass Dr in Austin (TX)   \n",
       "1  Sable/White 2016-04-14 18:43:00  2818 Palomino Trail in Austin (TX)   \n",
       "2       Calico 2013-10-21 07:59:00                         Austin (TX)   \n",
       "3     Tan/Gray 2014-06-29 10:38:00       800 Grove Blvd in Austin (TX)   \n",
       "4    Chocolate 2017-02-18 12:46:00                         Austin (TX)   \n",
       "\n",
       "  intake_condition      intake_type sex_upon_intake  age_upon_intake   name_y  \\\n",
       "0           Normal            Stray   Spayed Female             2920    Belle   \n",
       "1           Normal            Stray     Intact Male              330  Runster   \n",
       "2             Sick            Stray   Intact Female               28  no name   \n",
       "3           Normal            Stray   Neutered Male             1460      Rio   \n",
       "4           Normal  Owner Surrender   Neutered Male              730     Odin   \n",
       "\n",
       "  animal_type_y                                breed_y      color_y  \\\n",
       "0           Dog               English Springer Spaniel  White/Liver   \n",
       "1           Dog                            Basenji Mix  Sable/White   \n",
       "2           Cat                 Domestic Shorthair Mix       Calico   \n",
       "3           Dog  Doberman Pinsch/Australian Cattle Dog     Tan/Gray   \n",
       "4           Dog                 Labrador Retriever Mix    Chocolate   \n",
       "\n",
       "  date_of_birth          datetime_y     outcome_type sex_upon_outcome  \\\n",
       "0    2007-07-05 2015-07-05 15:13:00  Return to Owner    Spayed Female   \n",
       "1    2015-04-17 2016-04-21 17:17:00  Return to Owner    Neutered Male   \n",
       "2    2013-09-21 2013-10-21 11:39:00         Transfer    Intact Female   \n",
       "3    2010-06-29 2014-07-02 14:16:00  Return to Owner    Neutered Male   \n",
       "4    2015-02-18 2017-02-21 17:44:00  Return to Owner    Neutered Male   \n",
       "\n",
       "   age_upon_outcome  \n",
       "0              2920  \n",
       "1               365  \n",
       "2                28  \n",
       "3              1460  \n",
       "4               730  "
      ]
     },
     "execution_count": 45,
     "metadata": {},
     "output_type": "execute_result"
    }
   ],
   "source": [
    "df_merge.head()"
   ]
  },
  {
   "cell_type": "code",
   "execution_count": 46,
   "metadata": {},
   "outputs": [
    {
     "name": "stdout",
     "output_type": "stream",
     "text": [
      "<class 'pandas.core.frame.DataFrame'>\n",
      "Int64Index: 95413 entries, 0 to 95412\n",
      "Data columns (total 20 columns):\n",
      " #   Column            Non-Null Count  Dtype         \n",
      "---  ------            --------------  -----         \n",
      " 0   animal_id         95413 non-null  object        \n",
      " 1   name_x            95413 non-null  object        \n",
      " 2   animal_type_x     95413 non-null  object        \n",
      " 3   breed_x           95413 non-null  object        \n",
      " 4   color_x           95413 non-null  object        \n",
      " 5   datetime_x        95413 non-null  datetime64[ns]\n",
      " 6   found_location    95413 non-null  object        \n",
      " 7   intake_condition  95413 non-null  object        \n",
      " 8   intake_type       95413 non-null  object        \n",
      " 9   sex_upon_intake   95413 non-null  object        \n",
      " 10  age_upon_intake   95413 non-null  int32         \n",
      " 11  name_y            95413 non-null  object        \n",
      " 12  animal_type_y     95413 non-null  object        \n",
      " 13  breed_y           95413 non-null  object        \n",
      " 14  color_y           95413 non-null  object        \n",
      " 15  date_of_birth     95413 non-null  datetime64[ns]\n",
      " 16  datetime_y        95413 non-null  datetime64[ns]\n",
      " 17  outcome_type      95413 non-null  object        \n",
      " 18  sex_upon_outcome  95413 non-null  object        \n",
      " 19  age_upon_outcome  95413 non-null  int32         \n",
      "dtypes: datetime64[ns](3), int32(2), object(15)\n",
      "memory usage: 14.6+ MB\n"
     ]
    }
   ],
   "source": [
    "df_merge.info()"
   ]
  },
  {
   "cell_type": "markdown",
   "metadata": {},
   "source": [
    "As we have lots of repeated columns, we will drop duplicated columns:"
   ]
  },
  {
   "cell_type": "code",
   "execution_count": 47,
   "metadata": {},
   "outputs": [],
   "source": [
    "df_merge.drop(columns = ['name_y','animal_type_y','breed_y','color_y','sex_upon_outcome'], inplace = True)"
   ]
  },
  {
   "cell_type": "code",
   "execution_count": 48,
   "metadata": {},
   "outputs": [],
   "source": [
    "df_merge.columns = ['animal_id', 'name', 'animal_type', 'breed', 'color', 'datetime_intake', 'found_location', 'intake_condition',\n",
    "                   'intake_type', 'sex', 'age_upon_intake', 'date_of_birth', 'datetime_outcome', 'outcome_type','age_upon_outcome']"
   ]
  },
  {
   "cell_type": "code",
   "execution_count": 49,
   "metadata": {},
   "outputs": [
    {
     "name": "stdout",
     "output_type": "stream",
     "text": [
      "<class 'pandas.core.frame.DataFrame'>\n",
      "Int64Index: 95413 entries, 0 to 95412\n",
      "Data columns (total 15 columns):\n",
      " #   Column            Non-Null Count  Dtype         \n",
      "---  ------            --------------  -----         \n",
      " 0   animal_id         95413 non-null  object        \n",
      " 1   name              95413 non-null  object        \n",
      " 2   animal_type       95413 non-null  object        \n",
      " 3   breed             95413 non-null  object        \n",
      " 4   color             95413 non-null  object        \n",
      " 5   datetime_intake   95413 non-null  datetime64[ns]\n",
      " 6   found_location    95413 non-null  object        \n",
      " 7   intake_condition  95413 non-null  object        \n",
      " 8   intake_type       95413 non-null  object        \n",
      " 9   sex               95413 non-null  object        \n",
      " 10  age_upon_intake   95413 non-null  int32         \n",
      " 11  date_of_birth     95413 non-null  datetime64[ns]\n",
      " 12  datetime_outcome  95413 non-null  datetime64[ns]\n",
      " 13  outcome_type      95413 non-null  object        \n",
      " 14  age_upon_outcome  95413 non-null  int32         \n",
      "dtypes: datetime64[ns](3), int32(2), object(10)\n",
      "memory usage: 10.9+ MB\n"
     ]
    }
   ],
   "source": [
    "df_merge.info()"
   ]
  },
  {
   "cell_type": "markdown",
   "metadata": {},
   "source": [
    "To check any duplicate rows in condensed data:"
   ]
  },
  {
   "cell_type": "code",
   "execution_count": 50,
   "metadata": {},
   "outputs": [
    {
     "data": {
      "text/plain": [
       "(44, 15)"
      ]
     },
     "execution_count": 50,
     "metadata": {},
     "output_type": "execute_result"
    }
   ],
   "source": [
    "df_merge[df_merge.duplicated()].shape"
   ]
  },
  {
   "cell_type": "code",
   "execution_count": 51,
   "metadata": {},
   "outputs": [],
   "source": [
    "df_merge.drop_duplicates(inplace = True)"
   ]
  },
  {
   "cell_type": "code",
   "execution_count": 52,
   "metadata": {},
   "outputs": [
    {
     "data": {
      "text/plain": [
       "(0, 15)"
      ]
     },
     "execution_count": 52,
     "metadata": {},
     "output_type": "execute_result"
    }
   ],
   "source": [
    "#to check if duplicate rows were deleted\n",
    "df_merge[df_merge.duplicated()].shape"
   ]
  },
  {
   "cell_type": "markdown",
   "metadata": {},
   "source": [
    "Finally, we got our required cleaned merged dataset to conduct further analysis."
   ]
  },
  {
   "cell_type": "markdown",
   "metadata": {},
   "source": [
    "<b>Exploratory Data Analysis:"
   ]
  },
  {
   "cell_type": "markdown",
   "metadata": {},
   "source": [
    "To plot animal_type for all categies of outcomes:"
   ]
  },
  {
   "cell_type": "code",
   "execution_count": 53,
   "metadata": {},
   "outputs": [
    {
     "data": {
      "text/plain": [
       "<seaborn.axisgrid.FacetGrid at 0x2789595e7b8>"
      ]
     },
     "execution_count": 53,
     "metadata": {},
     "output_type": "execute_result"
    },
    {
     "data": {
      "image/png": "[encoded data removed]",
      "text/plain": [
       "<Figure size 429.125x360 with 1 Axes>"
      ]
     },
     "metadata": {},
     "output_type": "display_data"
    }
   ],
   "source": [
    "outcome_plot = sns.catplot(x='outcome_type', data=df_merge, kind='count', hue='animal_type')\n",
    "outcome_plot.set_xticklabels(rotation=90, horizontalalignment='right')"
   ]
  },
  {
   "cell_type": "markdown",
   "metadata": {},
   "source": [
    "Mostly adopted or returned to owner animals are dogs in comparision to cats. However, cats in transfer category are more than dogs."
   ]
  },
  {
   "cell_type": "markdown",
   "metadata": {},
   "source": [
    "We will only be interested in 'Return to Owner', 'Adoption', 'Rto-Adopt' for our analysis as these are the only relevant outcomes in concern to our research question."
   ]
  },
  {
   "cell_type": "code",
   "execution_count": 54,
   "metadata": {},
   "outputs": [],
   "source": [
    "df_merge = df_merge[df_merge['outcome_type'].isin(['Return to Owner', 'Adoption', 'Rto-Adopt'])]"
   ]
  },
  {
   "cell_type": "code",
   "execution_count": 55,
   "metadata": {},
   "outputs": [
    {
     "data": {
      "text/plain": [
       "(66180, 15)"
      ]
     },
     "execution_count": 55,
     "metadata": {},
     "output_type": "execute_result"
    }
   ],
   "source": [
    "df_merge.shape"
   ]
  },
  {
   "cell_type": "code",
   "execution_count": 57,
   "metadata": {},
   "outputs": [],
   "source": [
    "adopted_animals_df = df_merge[df_merge['outcome_type'] == 'Adoption']\n",
    "#breed_plot = sns.catplot(x='breed', data=adopted_animals_df, kind='count')\n",
    "#breed_plot.set_xticklabels(rotation=90, horizontalalignment='right')"
   ]
  },
  {
   "cell_type": "markdown",
   "metadata": {},
   "source": [
    "After, trying to plot above graph for breed I realised there are numerous breeds for both cats and dogs. we might not need to consider all of them"
   ]
  },
  {
   "cell_type": "code",
   "execution_count": 58,
   "metadata": {},
   "outputs": [
    {
     "data": {
      "text/plain": [
       "1775"
      ]
     },
     "execution_count": 58,
     "metadata": {},
     "output_type": "execute_result"
    }
   ],
   "source": [
    "df_merge['breed'].nunique()"
   ]
  },
  {
   "cell_type": "code",
   "execution_count": 59,
   "metadata": {},
   "outputs": [
    {
     "data": {
      "text/plain": [
       "Domestic Shorthair Mix                     12533\n",
       "Pit Bull Mix                                7971\n",
       "Labrador Retriever Mix                      5292\n",
       "Chihuahua Shorthair Mix                     4299\n",
       "German Shepherd Mix                         2221\n",
       "                                           ...  \n",
       "Rhod Ridgeback/Plott Hound                     1\n",
       "Jack Russell Terrier/Manchester Terrier        1\n",
       "Miniature Pinscher/Maltese                     1\n",
       "Great Dane/Australian Shepherd                 1\n",
       "Bull Terrier/Pit Bull                          1\n",
       "Name: breed, Length: 1775, dtype: int64"
      ]
     },
     "execution_count": 59,
     "metadata": {},
     "output_type": "execute_result"
    }
   ],
   "source": [
    "df_merge['breed'].value_counts()"
   ]
  },
  {
   "cell_type": "code",
   "execution_count": 60,
   "metadata": {},
   "outputs": [
    {
     "data": {
      "text/plain": [
       "Pit Bull Mix                 7971\n",
       "Labrador Retriever Mix       5292\n",
       "Chihuahua Shorthair Mix      4299\n",
       "German Shepherd Mix          2221\n",
       "Australian Cattle Dog Mix    1175\n",
       "Boxer Mix                     778\n",
       "Border Collie Mix             758\n",
       "Miniature Poodle Mix          715\n",
       "Dachshund Mix                 713\n",
       "Rat Terrier Mix               612\n",
       "Siberian Husky Mix            589\n",
       "Catahoula Mix                 580\n",
       "Staffordshire Mix             539\n",
       "Australian Shepherd Mix       470\n",
       "Jack Russell Terrier Mix      434\n",
       "Name: breed, dtype: int64"
      ]
     },
     "execution_count": 60,
     "metadata": {},
     "output_type": "execute_result"
    }
   ],
   "source": [
    "df_merge[df_merge['animal_type'] == 'Dog']['breed'].value_counts()[0:15]"
   ]
  },
  {
   "cell_type": "code",
   "execution_count": 61,
   "metadata": {},
   "outputs": [
    {
     "data": {
      "text/plain": [
       "Domestic Shorthair Mix      12533\n",
       "Domestic Medium Hair Mix     1299\n",
       "Domestic Longhair Mix         778\n",
       "Siamese Mix                   612\n",
       "Domestic Shorthair            237\n",
       "American Shorthair Mix        103\n",
       "Snowshoe Mix                   85\n",
       "Maine Coon Mix                 84\n",
       "Domestic Medium Hair           75\n",
       "Russian Blue Mix               64\n",
       "Manx Mix                       55\n",
       "Siamese                        42\n",
       "Himalayan Mix                  34\n",
       "Domestic Longhair              30\n",
       "Persian Mix                    16\n",
       "Name: breed, dtype: int64"
      ]
     },
     "execution_count": 61,
     "metadata": {},
     "output_type": "execute_result"
    }
   ],
   "source": [
    "df_merge[df_merge['animal_type'] == 'Cat']['breed'].value_counts()[0:15]"
   ]
  },
  {
   "cell_type": "markdown",
   "metadata": {},
   "source": [
    "To have a good mixture of dogs and cats, I choose to have 15 dog breeds and top 15 cat breeds."
   ]
  },
  {
   "cell_type": "code",
   "execution_count": 62,
   "metadata": {},
   "outputs": [
    {
     "data": {
      "text/plain": [
       "['Pit Bull Mix',\n",
       " 'Labrador Retriever Mix',\n",
       " 'Chihuahua Shorthair Mix',\n",
       " 'German Shepherd Mix',\n",
       " 'Australian Cattle Dog Mix',\n",
       " 'Boxer Mix',\n",
       " 'Border Collie Mix',\n",
       " 'Miniature Poodle Mix',\n",
       " 'Dachshund Mix',\n",
       " 'Rat Terrier Mix',\n",
       " 'Siberian Husky Mix',\n",
       " 'Catahoula Mix',\n",
       " 'Staffordshire Mix',\n",
       " 'Australian Shepherd Mix',\n",
       " 'Jack Russell Terrier Mix',\n",
       " 'Domestic Shorthair Mix',\n",
       " 'Domestic Medium Hair Mix',\n",
       " 'Domestic Longhair Mix',\n",
       " 'Siamese Mix',\n",
       " 'Domestic Shorthair',\n",
       " 'American Shorthair Mix',\n",
       " 'Snowshoe Mix',\n",
       " 'Maine Coon Mix',\n",
       " 'Domestic Medium Hair',\n",
       " 'Russian Blue Mix',\n",
       " 'Manx Mix',\n",
       " 'Siamese',\n",
       " 'Himalayan Mix',\n",
       " 'Domestic Longhair',\n",
       " 'Persian Mix']"
      ]
     },
     "execution_count": 62,
     "metadata": {},
     "output_type": "execute_result"
    }
   ],
   "source": [
    "top_dog_breeds = list(df_merge[df_merge['animal_type'] == 'Dog']['breed'].value_counts().nlargest(n=15).index)\n",
    "top_cat_breeds = list(df_merge[df_merge['animal_type'] == 'Cat']['breed'].value_counts().nlargest(n=15).index)\n",
    "top_breeds = top_dog_breeds + top_cat_breeds\n",
    "top_breeds"
   ]
  },
  {
   "cell_type": "code",
   "execution_count": 63,
   "metadata": {},
   "outputs": [],
   "source": [
    "df_merge = df_merge[df_merge['breed'].isin(top_breeds)]"
   ]
  },
  {
   "cell_type": "code",
   "execution_count": 64,
   "metadata": {},
   "outputs": [
    {
     "data": {
      "text/plain": [
       "(43193, 15)"
      ]
     },
     "execution_count": 64,
     "metadata": {},
     "output_type": "execute_result"
    }
   ],
   "source": [
    "df_merge.shape"
   ]
  },
  {
   "cell_type": "code",
   "execution_count": 66,
   "metadata": {},
   "outputs": [
    {
     "data": {
      "text/plain": [
       "Dog    27146\n",
       "Cat    16047\n",
       "Name: animal_type, dtype: int64"
      ]
     },
     "execution_count": 66,
     "metadata": {},
     "output_type": "execute_result"
    }
   ],
   "source": [
    "df_merge.animal_type.value_counts() "
   ]
  },
  {
   "cell_type": "code",
   "execution_count": 68,
   "metadata": {},
   "outputs": [
    {
     "data": {
      "text/plain": [
       "Adoption           29649\n",
       "Return to Owner    13364\n",
       "Rto-Adopt            180\n",
       "Name: outcome_type, dtype: int64"
      ]
     },
     "execution_count": 68,
     "metadata": {},
     "output_type": "execute_result"
    }
   ],
   "source": [
    "df_merge.outcome_type.value_counts() "
   ]
  },
  {
   "cell_type": "code",
   "execution_count": 69,
   "metadata": {},
   "outputs": [
    {
     "data": {
      "text/plain": [
       "30"
      ]
     },
     "execution_count": 69,
     "metadata": {},
     "output_type": "execute_result"
    }
   ],
   "source": [
    "df_merge.breed.nunique()"
   ]
  },
  {
   "cell_type": "markdown",
   "metadata": {},
   "source": [
    "Let's check if any of the other nominal features are not having categoeries in abundance like breed had."
   ]
  },
  {
   "cell_type": "code",
   "execution_count": 70,
   "metadata": {},
   "outputs": [
    {
     "data": {
      "text/plain": [
       "350"
      ]
     },
     "execution_count": 70,
     "metadata": {},
     "output_type": "execute_result"
    }
   ],
   "source": [
    "df_merge.color.nunique() #it seems to be an issue further, we need to reduce numbe of color categories"
   ]
  },
  {
   "cell_type": "code",
   "execution_count": 71,
   "metadata": {},
   "outputs": [
    {
     "data": {
      "text/plain": [
       "16423"
      ]
     },
     "execution_count": 71,
     "metadata": {},
     "output_type": "execute_result"
    }
   ],
   "source": [
    "df_merge.found_location.nunique() #it should also be taken care of as so many categories"
   ]
  },
  {
   "cell_type": "code",
   "execution_count": 72,
   "metadata": {},
   "outputs": [
    {
     "data": {
      "text/plain": [
       "8"
      ]
     },
     "execution_count": 72,
     "metadata": {},
     "output_type": "execute_result"
    }
   ],
   "source": [
    "df_merge.intake_condition.nunique()"
   ]
  },
  {
   "cell_type": "code",
   "execution_count": 73,
   "metadata": {},
   "outputs": [
    {
     "data": {
      "text/plain": [
       "4"
      ]
     },
     "execution_count": 73,
     "metadata": {},
     "output_type": "execute_result"
    }
   ],
   "source": [
    "df_merge.intake_type.nunique()"
   ]
  },
  {
   "cell_type": "code",
   "execution_count": 74,
   "metadata": {},
   "outputs": [
    {
     "data": {
      "text/plain": [
       "5"
      ]
     },
     "execution_count": 74,
     "metadata": {},
     "output_type": "execute_result"
    }
   ],
   "source": [
    "df_merge.sex.nunique()"
   ]
  },
  {
   "cell_type": "markdown",
   "metadata": {},
   "source": [
    "Working with the found locaton feature in the dataset- "
   ]
  },
  {
   "cell_type": "code",
   "execution_count": 75,
   "metadata": {},
   "outputs": [
    {
     "data": {
      "text/plain": [
       "Austin (TX)                                   9713\n",
       "Outside Jurisdiction                           758\n",
       "Travis (TX)                                    529\n",
       "7201 Levander Loop in Austin (TX)              265\n",
       "Pflugerville (TX)                              232\n",
       "                                              ... \n",
       "18120 River Timber Drive in Travis (TX)          1\n",
       "Hwy 290 And Parmer Ln in Travis (TX)             1\n",
       "9701 Eastwend in Austin (TX)                     1\n",
       "6306 Fm 1327 in Austin (TX)                      1\n",
       "Teri Rd. & Nuckols Crossing in Austin (TX)       1\n",
       "Name: found_location, Length: 16423, dtype: int64"
      ]
     },
     "execution_count": 75,
     "metadata": {},
     "output_type": "execute_result"
    }
   ],
   "source": [
    "df_merge.found_location.value_counts()"
   ]
  },
  {
   "cell_type": "markdown",
   "metadata": {},
   "source": [
    "Majority of the animals were found in Austin, Texas, that makes sense as the shelter is located in Austin,Texas. So, its quite expected to have majority of animals from same place. As, found location does not make sense for the outcome variable, so we will drop this column. Logically, found location for an animal does not contributes to its adoption or other outcome values."
   ]
  },
  {
   "cell_type": "code",
   "execution_count": 76,
   "metadata": {},
   "outputs": [],
   "source": [
    "df_merge.drop(columns = ['found_location'], inplace = True)"
   ]
  },
  {
   "cell_type": "markdown",
   "metadata": {},
   "source": [
    "Working with the color feature in the dataset:"
   ]
  },
  {
   "cell_type": "code",
   "execution_count": 77,
   "metadata": {},
   "outputs": [
    {
     "data": {
      "text/plain": [
       "array(['Chocolate', 'Black/White', 'Cream Tabby', 'Brown Tabby/White',\n",
       "       'Torbie', 'Black', 'Blue', 'Tortie', 'Brown Tabby', 'White/Blue',\n",
       "       'Blue Tabby', 'Yellow', 'White/Black', 'Black/Tan', 'Blue/White',\n",
       "       'Tan/White', 'Cream/White', 'White/Cream', 'Orange Tabby/White',\n",
       "       'Brown', 'Black/Brown', 'Tricolor', 'Red/White', 'Lynx Point',\n",
       "       'White/Brown', 'Brown Brindle', 'Brown/White', 'Blue Cream/White',\n",
       "       'Black/Black', 'Calico', 'Tan', 'White/Tan', 'Brown/Black',\n",
       "       'Black/Blue', 'White', 'Orange Tabby', 'Gold/White',\n",
       "       'Tricolor/White', 'Black Smoke/White', 'Seal Point/White',\n",
       "       'Tan/Brown', 'Blue Merle', 'Tan/Black', 'Blue Tabby/White', 'Fawn',\n",
       "       'Sable', 'Red', 'White/Tricolor', 'Calico/White',\n",
       "       'Black Brindle/White', 'Blue/Tan', 'Blue Cream', 'Gray/White',\n",
       "       'Seal Point', 'Brown Brindle/White', 'Fawn/White', 'White/Red',\n",
       "       'Tortie/White', 'Torbie/White', 'Black Smoke', 'Blue Merle/Cream',\n",
       "       'Buff/White', 'Chocolate/Tan', 'Lynx Point/Tan',\n",
       "       'Brown Merle/White', 'Blue Merle/Red', 'Cream Tabby/Orange Tabby',\n",
       "       'Blue Merle/White', 'Chocolate/White', 'Chocolate Point',\n",
       "       'Black/Brown Brindle', 'Red Merle/White', 'Lilac Point',\n",
       "       'Blue Point', 'Torbie/Calico', 'Brown/Tan', 'Red Merle/Black',\n",
       "       'Cream/Black', 'White/Black Brindle', 'Cream', 'Black/Blue Tick',\n",
       "       'Buff', 'Gray Tabby/White', 'Flame Point', 'Red/Cream',\n",
       "       'Chocolate/Tricolor', 'Brown Brindle/Black', 'Silver Tabby/White',\n",
       "       'Black/Gray', 'Liver/White', 'Black/Cream', 'White/Chocolate',\n",
       "       'Brown Merle', 'Red Tick', 'Cream/Tan', 'White/Orange Tabby',\n",
       "       'Cream Tabby/White', 'White/Orange', 'White/Brown Brindle',\n",
       "       'Blue Tick', 'Red/Black', 'Blue Tiger/White', 'Orange Tabby/Cream',\n",
       "       'Blue/Black', 'Sable/White', 'White/Black Tabby', 'Tan/Tan',\n",
       "       'Gold', 'Brown Tabby/Orange', 'Gray', 'Gray/Black',\n",
       "       'White/Blue Tabby', 'White/Brown Tabby', 'Lynx Point/White',\n",
       "       'Gray Tabby', 'Sable/Black', 'White/Brown Merle',\n",
       "       'Black/Brown Tabby', 'White/White', 'Red Tick/White',\n",
       "       'Tortie Point', 'Silver Lynx Point/Gray', 'Cream/Silver',\n",
       "       'Black/Buff', 'Red Merle', 'Red/Tan', 'Blue Merle/Tan',\n",
       "       'Yellow Brindle/White', 'Brown/Chocolate', 'Black Tabby',\n",
       "       'Black/Tricolor', 'Blue Tabby/Cream', 'Yellow/White',\n",
       "       'White/Gray Tabby', 'Calico Point', 'White/Gray', 'White/Buff',\n",
       "       'Brown Tabby/Brown', 'Yellow Brindle', 'Tricolor/Black',\n",
       "       'Brown Brindle/Tan', 'Apricot', 'White/Liver', 'Black Tabby/White',\n",
       "       'Blue Tick/Tan', 'Blue Smoke', 'Chocolate Point/White',\n",
       "       'Brown/Red', 'Blue Tick/Brown', 'Red/Yellow', 'Gray/Tortie',\n",
       "       'Black/Blue Merle', 'Apricot/White', 'Brown/Gray', 'Gray/Gray',\n",
       "       'Black/Black Brindle', 'Orange/White', 'Tricolor/Brown Brindle',\n",
       "       'Blue Merle/Brown', 'Tortie/Black', 'White/Yellow Brindle',\n",
       "       'Silver/White', 'Sable/Red Merle', 'Blue Tick/Black', 'Buff/Tan',\n",
       "       'White/Yellow', 'Red/Red Tick', 'White/Red Merle',\n",
       "       'Silver Lynx Point', 'Brown Tabby/Black', 'Gray Tabby/Black',\n",
       "       'Red/Brown', 'Black Brindle/Brown', 'Tricolor/Tan', 'Blue Tiger',\n",
       "       'Black/Red', 'White/Calico', 'Sable/Brown', 'Silver', 'Tan/Cream',\n",
       "       'White/Cream Tabby', 'Tan/Buff', 'Blue Merle/Tricolor',\n",
       "       'Sable/Cream', 'Chocolate/Brown Brindle', 'Torbie/Blue Cream',\n",
       "       'Agouti', 'Brown/Tricolor', 'Brown Tabby/Cream', 'Silver Tabby',\n",
       "       'Tricolor/Blue Tick', 'Tan/Gold', 'Blue Merle/Black', 'Sable/Buff',\n",
       "       'Tan/Red', 'Calico Point/White', 'Liver/Chocolate',\n",
       "       'Black Brindle', 'Tortie/Tortie', 'Brown/Buff', 'Blue/Tortie',\n",
       "       'Apricot/Brown', 'White/Blue Merle', 'White/Lynx Point',\n",
       "       'Blue/Brown Brindle', 'Tan/Blue', 'White/Red Tick',\n",
       "       'Fawn/Tricolor', 'Tricolor/Blue', 'Silver/Tan', 'White/Seal Point',\n",
       "       'Brown/Cream', 'Liver', 'Fawn/Tan', 'Black/Seal Point',\n",
       "       'Fawn/Blue', 'Chocolate/Cream', 'Calico/Brown Tabby', 'Orange',\n",
       "       'Black Tabby/Orange', 'Brown Brindle/Brown', 'Brown Tabby/Tortie',\n",
       "       'Calico/Tricolor', 'Red/Red Merle', 'Yellow/Cream',\n",
       "       'Tortie Point/White', 'Cream/Seal Point', 'Brown/Brown',\n",
       "       'Tricolor/Brown', 'Brown/Blue Merle', 'Tan/Gray',\n",
       "       'Tortie/Blue Cream', 'Blue/Brown', 'Blue Tick/White',\n",
       "       'Yellow Brindle/Blue', 'Cream/Blue Point', 'Calico/Brown',\n",
       "       'Sable/Tan', 'Brown Tiger', 'Buff/Black', 'Brown/Black Brindle',\n",
       "       'Red Tick/Brown', 'Yellow/Orange', 'Red Tick/Red',\n",
       "       'Gray Tabby/Orange', 'Blue Tabby/Tan', 'Blue Cream/Blue Tabby',\n",
       "       'White/Black Smoke', 'Tan/Silver', 'Tan/Yellow', 'Brown Merle/Tan',\n",
       "       'Black/Brown Merle', 'Blue Smoke/White', 'Sable/Red', 'Gray/Brown',\n",
       "       'Blue Tabby/Black', 'Buff/Yellow', 'Chocolate/Brown',\n",
       "       'Tortie/Orange', 'Tan/Brown Merle', 'Tan/Tricolor', 'Liver/Tan',\n",
       "       'White/Apricot', 'Brown/Silver', 'Black Brindle/Black',\n",
       "       'Red Merle/Tan', 'Orange Tabby/Orange', 'Blue/Calico',\n",
       "       'Torbie/Black', 'Silver/Black', 'Brown/Brown Brindle',\n",
       "       'Lynx Point/Blue', 'Blue/Tricolor', 'Calico/Black',\n",
       "       'Seal Point/Brown', 'White/Silver', 'Black/Yellow',\n",
       "       'Black Tabby/Gray', 'Calico/Calico', 'Blue/Cream',\n",
       "       'White/Lilac Point', 'Flame Point/Cream', 'Calico/Orange Tabby',\n",
       "       'Cream/Yellow', 'Red Tick/Tan', 'Cream Tabby/Cream Tabby',\n",
       "       'Brown/Red Tick', 'White/Fawn', 'Calico/Blue Cream',\n",
       "       'White/Blue Cream', 'Brown Tiger/White', 'Black/Silver',\n",
       "       'Black Tiger', 'White/Flame Point', 'Yellow/Brown',\n",
       "       'Tortie/Black Smoke', 'Black/Yellow Brindle', 'Yellow/Tan',\n",
       "       'Brown Merle/Brown', 'Brown/Yellow', 'Brown/Red Merle',\n",
       "       'Red Tick/Brown Merle', 'Tan/Red Tick', 'Gray/Tricolor',\n",
       "       'Blue/Gray', 'Liver Tick', 'Gray/Cream',\n",
       "       'Brown Tabby/Black Brindle', 'Cream/Red', 'Brown/Blue',\n",
       "       'White/Pink', 'Yellow/Gray', 'Blue Smoke/Gray', 'Brown/Apricot',\n",
       "       'Fawn/Black', 'Blue Tabby/Blue Cream', 'Cream/Orange',\n",
       "       'Torbie/Blue Tabby', 'Blue/Orange', 'Black/Orange',\n",
       "       'Blue Point/Cream', 'Red/Tricolor', 'Brown Tiger/Brown',\n",
       "       'Lynx Point/Tortie Point', 'Blue Point/White', 'Fawn/Brown',\n",
       "       'Lilac Point/White', 'Brown Merle/Blue Merle',\n",
       "       'Orange Tabby/Brown', 'White/Blue Tick', 'Blue Cream/Tortie',\n",
       "       'Agouti/Brown Tabby', 'Blue Merle/Blue Merle', 'Blue/Blue',\n",
       "       'Black Tiger/White', 'White/Calico Point', 'Red/Red',\n",
       "       'Brown Tabby/Orange Tabby', 'Black Smoke/Black', 'Black/Chocolate',\n",
       "       'Tricolor/Blue Merle', 'Silver Lynx Point/White',\n",
       "       'Black Smoke/Blue Tick', 'Blue Merle/Brown Brindle',\n",
       "       'Flame Point/White', 'Tortie/Blue Tabby', 'Tortie Point/Blue',\n",
       "       'Fawn/Gray', 'Tricolor/Tricolor', 'Gold/Gold'], dtype=object)"
      ]
     },
     "execution_count": 77,
     "metadata": {},
     "output_type": "execute_result"
    }
   ],
   "source": [
    "df_merge['color'].unique()"
   ]
  },
  {
   "cell_type": "code",
   "execution_count": 78,
   "metadata": {},
   "outputs": [
    {
     "data": {
      "text/plain": [
       "Black/White            3763\n",
       "Brown/White            1759\n",
       "Black                  1679\n",
       "Tan/White              1597\n",
       "Blue/White             1378\n",
       "Tan                    1091\n",
       "White                  1088\n",
       "Brown Brindle/White    1009\n",
       "Brown                   990\n",
       "Tricolor                934\n",
       "White/Brown             916\n",
       "White/Black             854\n",
       "Black/Tan               841\n",
       "White/Tan               690\n",
       "Black/Brown             659\n",
       "Brown/Black             532\n",
       "Red/White               472\n",
       "Chocolate/White         451\n",
       "Yellow                  420\n",
       "Red                     387\n",
       "Name: color, dtype: int64"
      ]
     },
     "execution_count": 78,
     "metadata": {},
     "output_type": "execute_result"
    }
   ],
   "source": [
    "df_merge[df_merge['animal_type'] == 'Dog']['color'].value_counts()[0:20]"
   ]
  },
  {
   "cell_type": "code",
   "execution_count": 79,
   "metadata": {},
   "outputs": [
    {
     "data": {
      "text/plain": [
       "Brown Tabby           2325\n",
       "Black                 1999\n",
       "Black/White           1474\n",
       "Brown Tabby/White     1410\n",
       "Orange Tabby          1132\n",
       "Calico                 787\n",
       "Tortie                 687\n",
       "Orange Tabby/White     676\n",
       "Blue Tabby             633\n",
       "Blue                   587\n",
       "Torbie                 500\n",
       "Blue/White             450\n",
       "Blue Tabby/White       348\n",
       "Lynx Point             280\n",
       "White/Black            273\n",
       "Cream Tabby            271\n",
       "White/Brown Tabby      172\n",
       "Seal Point             153\n",
       "Cream Tabby/White      150\n",
       "Flame Point            139\n",
       "Name: color, dtype: int64"
      ]
     },
     "execution_count": 79,
     "metadata": {},
     "output_type": "execute_result"
    }
   ],
   "source": [
    "df_merge[df_merge['animal_type'] == 'Cat']['color'].value_counts()[0:20]"
   ]
  },
  {
   "cell_type": "code",
   "execution_count": 80,
   "metadata": {},
   "outputs": [
    {
     "data": {
      "text/plain": [
       "['Black/White',\n",
       " 'Brown/White',\n",
       " 'Black',\n",
       " 'Tan/White',\n",
       " 'Blue/White',\n",
       " 'Tan',\n",
       " 'White',\n",
       " 'Brown Brindle/White',\n",
       " 'Brown',\n",
       " 'Tricolor',\n",
       " 'White/Brown',\n",
       " 'White/Black',\n",
       " 'Black/Tan',\n",
       " 'White/Tan',\n",
       " 'Black/Brown',\n",
       " 'Brown/Black',\n",
       " 'Red/White',\n",
       " 'Chocolate/White',\n",
       " 'Yellow',\n",
       " 'Red',\n",
       " 'Brown Tabby',\n",
       " 'Black',\n",
       " 'Black/White',\n",
       " 'Brown Tabby/White',\n",
       " 'Orange Tabby',\n",
       " 'Calico',\n",
       " 'Tortie',\n",
       " 'Orange Tabby/White',\n",
       " 'Blue Tabby',\n",
       " 'Blue',\n",
       " 'Torbie',\n",
       " 'Blue/White',\n",
       " 'Blue Tabby/White',\n",
       " 'Lynx Point',\n",
       " 'White/Black',\n",
       " 'Cream Tabby',\n",
       " 'White/Brown Tabby',\n",
       " 'Seal Point',\n",
       " 'Cream Tabby/White',\n",
       " 'Flame Point']"
      ]
     },
     "execution_count": 80,
     "metadata": {},
     "output_type": "execute_result"
    }
   ],
   "source": [
    "top_dog_colors = list(df_merge[df_merge['animal_type'] == 'Dog']['color'].value_counts().nlargest(n=20).index)\n",
    "top_cat_colors = list(df_merge[df_merge['animal_type'] == 'Cat']['color'].value_counts().nlargest(n=20).index)\n",
    "top_colors = top_dog_colors + top_cat_colors\n",
    "top_colors"
   ]
  },
  {
   "cell_type": "code",
   "execution_count": 81,
   "metadata": {},
   "outputs": [
    {
     "data": {
      "text/plain": [
       "(36354, 14)"
      ]
     },
     "execution_count": 81,
     "metadata": {},
     "output_type": "execute_result"
    }
   ],
   "source": [
    "df_merge = df_merge[df_merge['color'].isin(top_colors)]\n",
    "df_merge.shape"
   ]
  },
  {
   "cell_type": "markdown",
   "metadata": {},
   "source": [
    "Finally, I have relevant number of categories in all nominal columns."
   ]
  },
  {
   "cell_type": "code",
   "execution_count": 82,
   "metadata": {},
   "outputs": [],
   "source": [
    "#to find number of days animal had been in the shelter\n",
    "df_merge['time_duration_shelter']=(df_merge['datetime_outcome']-df_merge['datetime_intake'])"
   ]
  },
  {
   "cell_type": "code",
   "execution_count": 83,
   "metadata": {},
   "outputs": [
    {
     "data": {
      "text/html": [
       "<div>\n",
       "<style scoped>\n",
       "    .dataframe tbody tr th:only-of-type {\n",
       "        vertical-align: middle;\n",
       "    }\n",
       "\n",
       "    .dataframe tbody tr th {\n",
       "        vertical-align: top;\n",
       "    }\n",
       "\n",
       "    .dataframe thead th {\n",
       "        text-align: right;\n",
       "    }\n",
       "</style>\n",
       "<table border=\"1\" class=\"dataframe\">\n",
       "  <thead>\n",
       "    <tr style=\"text-align: right;\">\n",
       "      <th></th>\n",
       "      <th>animal_id</th>\n",
       "      <th>name</th>\n",
       "      <th>animal_type</th>\n",
       "      <th>breed</th>\n",
       "      <th>color</th>\n",
       "      <th>datetime_intake</th>\n",
       "      <th>intake_condition</th>\n",
       "      <th>intake_type</th>\n",
       "      <th>sex</th>\n",
       "      <th>age_upon_intake</th>\n",
       "      <th>date_of_birth</th>\n",
       "      <th>datetime_outcome</th>\n",
       "      <th>outcome_type</th>\n",
       "      <th>age_upon_outcome</th>\n",
       "      <th>time_duration_shelter</th>\n",
       "      <th>adoption_in_month</th>\n",
       "    </tr>\n",
       "  </thead>\n",
       "  <tbody>\n",
       "    <tr>\n",
       "      <th>5</th>\n",
       "      <td>A708452</td>\n",
       "      <td>Mumble</td>\n",
       "      <td>Dog</td>\n",
       "      <td>Labrador Retriever Mix</td>\n",
       "      <td>Black/White</td>\n",
       "      <td>2015-07-30 14:37:00</td>\n",
       "      <td>Normal</td>\n",
       "      <td>Public Assist</td>\n",
       "      <td>Intact Male</td>\n",
       "      <td>730</td>\n",
       "      <td>2013-07-28</td>\n",
       "      <td>2015-08-04 18:17:00</td>\n",
       "      <td>Return to Owner</td>\n",
       "      <td>730</td>\n",
       "      <td>5 days 03:40:00</td>\n",
       "      <td>True</td>\n",
       "    </tr>\n",
       "    <tr>\n",
       "      <th>7</th>\n",
       "      <td>A731435</td>\n",
       "      <td>*Casey</td>\n",
       "      <td>Cat</td>\n",
       "      <td>Domestic Shorthair Mix</td>\n",
       "      <td>Cream Tabby</td>\n",
       "      <td>2016-08-08 17:52:00</td>\n",
       "      <td>Normal</td>\n",
       "      <td>Owner Surrender</td>\n",
       "      <td>Neutered Male</td>\n",
       "      <td>150</td>\n",
       "      <td>2016-02-22</td>\n",
       "      <td>2016-07-29 19:00:00</td>\n",
       "      <td>Adoption</td>\n",
       "      <td>150</td>\n",
       "      <td>-10 days +01:08:00</td>\n",
       "      <td>True</td>\n",
       "    </tr>\n",
       "    <tr>\n",
       "      <th>9</th>\n",
       "      <td>A731435</td>\n",
       "      <td>*Casey</td>\n",
       "      <td>Cat</td>\n",
       "      <td>Domestic Shorthair Mix</td>\n",
       "      <td>Cream Tabby</td>\n",
       "      <td>2016-07-22 10:44:00</td>\n",
       "      <td>Normal</td>\n",
       "      <td>Stray</td>\n",
       "      <td>Intact Male</td>\n",
       "      <td>120</td>\n",
       "      <td>2016-02-22</td>\n",
       "      <td>2016-07-29 19:00:00</td>\n",
       "      <td>Adoption</td>\n",
       "      <td>150</td>\n",
       "      <td>7 days 08:16:00</td>\n",
       "      <td>True</td>\n",
       "    </tr>\n",
       "    <tr>\n",
       "      <th>14</th>\n",
       "      <td>A657188</td>\n",
       "      <td>Tommy</td>\n",
       "      <td>Cat</td>\n",
       "      <td>Domestic Shorthair Mix</td>\n",
       "      <td>Brown Tabby/White</td>\n",
       "      <td>2013-11-10 17:19:00</td>\n",
       "      <td>Normal</td>\n",
       "      <td>Owner Surrender</td>\n",
       "      <td>Neutered Male</td>\n",
       "      <td>5110</td>\n",
       "      <td>1999-06-24</td>\n",
       "      <td>2013-10-29 11:07:00</td>\n",
       "      <td>Adoption</td>\n",
       "      <td>5110</td>\n",
       "      <td>-13 days +17:48:00</td>\n",
       "      <td>True</td>\n",
       "    </tr>\n",
       "    <tr>\n",
       "      <th>15</th>\n",
       "      <td>A657188</td>\n",
       "      <td>Tommy</td>\n",
       "      <td>Cat</td>\n",
       "      <td>Domestic Shorthair Mix</td>\n",
       "      <td>Brown Tabby/White</td>\n",
       "      <td>2013-11-10 17:19:00</td>\n",
       "      <td>Normal</td>\n",
       "      <td>Owner Surrender</td>\n",
       "      <td>Neutered Male</td>\n",
       "      <td>5110</td>\n",
       "      <td>1999-06-24</td>\n",
       "      <td>2014-01-26 16:24:00</td>\n",
       "      <td>Adoption</td>\n",
       "      <td>5110</td>\n",
       "      <td>76 days 23:05:00</td>\n",
       "      <td>False</td>\n",
       "    </tr>\n",
       "  </tbody>\n",
       "</table>\n",
       "</div>"
      ],
      "text/plain": [
       "   animal_id    name animal_type                   breed              color  \\\n",
       "5    A708452  Mumble         Dog  Labrador Retriever Mix        Black/White   \n",
       "7    A731435  *Casey         Cat  Domestic Shorthair Mix        Cream Tabby   \n",
       "9    A731435  *Casey         Cat  Domestic Shorthair Mix        Cream Tabby   \n",
       "14   A657188   Tommy         Cat  Domestic Shorthair Mix  Brown Tabby/White   \n",
       "15   A657188   Tommy         Cat  Domestic Shorthair Mix  Brown Tabby/White   \n",
       "\n",
       "       datetime_intake intake_condition      intake_type            sex  \\\n",
       "5  2015-07-30 14:37:00           Normal    Public Assist    Intact Male   \n",
       "7  2016-08-08 17:52:00           Normal  Owner Surrender  Neutered Male   \n",
       "9  2016-07-22 10:44:00           Normal            Stray    Intact Male   \n",
       "14 2013-11-10 17:19:00           Normal  Owner Surrender  Neutered Male   \n",
       "15 2013-11-10 17:19:00           Normal  Owner Surrender  Neutered Male   \n",
       "\n",
       "    age_upon_intake date_of_birth    datetime_outcome     outcome_type  \\\n",
       "5               730    2013-07-28 2015-08-04 18:17:00  Return to Owner   \n",
       "7               150    2016-02-22 2016-07-29 19:00:00         Adoption   \n",
       "9               120    2016-02-22 2016-07-29 19:00:00         Adoption   \n",
       "14             5110    1999-06-24 2013-10-29 11:07:00         Adoption   \n",
       "15             5110    1999-06-24 2014-01-26 16:24:00         Adoption   \n",
       "\n",
       "    age_upon_outcome time_duration_shelter  adoption_in_month  \n",
       "5                730       5 days 03:40:00               True  \n",
       "7                150    -10 days +01:08:00               True  \n",
       "9                150       7 days 08:16:00               True  \n",
       "14              5110    -13 days +17:48:00               True  \n",
       "15              5110      76 days 23:05:00              False  "
      ]
     },
     "execution_count": 83,
     "metadata": {},
     "output_type": "execute_result"
    }
   ],
   "source": [
    "#as per analysis we require cases that were adopted in 30days(1 month of intake)\n",
    "\n",
    "time_threshold = datetime.timedelta(days=30)\n",
    "df_merge['adoption_in_month']=df_merge['time_duration_shelter'] < time_threshold\n",
    "df_merge.head()"
   ]
  },
  {
   "cell_type": "code",
   "execution_count": 84,
   "metadata": {},
   "outputs": [],
   "source": [
    "#dropping columns that will not be useful for the model\n",
    "df_merge.drop(columns = ['animal_id','name','datetime_intake','date_of_birth','datetime_outcome','age_upon_outcome','time_duration_shelter','outcome_type'], inplace = True)"
   ]
  },
  {
   "cell_type": "code",
   "execution_count": 85,
   "metadata": {},
   "outputs": [],
   "source": [
    "tf_map = {True: 1, False : 0}\n",
    "df_merge['adoption_in_month'] = df_merge['adoption_in_month'].map(tf_map)"
   ]
  },
  {
   "cell_type": "code",
   "execution_count": 86,
   "metadata": {},
   "outputs": [
    {
     "data": {
      "text/html": [
       "<div>\n",
       "<style scoped>\n",
       "    .dataframe tbody tr th:only-of-type {\n",
       "        vertical-align: middle;\n",
       "    }\n",
       "\n",
       "    .dataframe tbody tr th {\n",
       "        vertical-align: top;\n",
       "    }\n",
       "\n",
       "    .dataframe thead th {\n",
       "        text-align: right;\n",
       "    }\n",
       "</style>\n",
       "<table border=\"1\" class=\"dataframe\">\n",
       "  <thead>\n",
       "    <tr style=\"text-align: right;\">\n",
       "      <th></th>\n",
       "      <th>animal_type</th>\n",
       "      <th>breed</th>\n",
       "      <th>color</th>\n",
       "      <th>intake_condition</th>\n",
       "      <th>intake_type</th>\n",
       "      <th>sex</th>\n",
       "      <th>age_upon_intake</th>\n",
       "      <th>adoption_in_month</th>\n",
       "    </tr>\n",
       "  </thead>\n",
       "  <tbody>\n",
       "    <tr>\n",
       "      <th>5</th>\n",
       "      <td>Dog</td>\n",
       "      <td>Labrador Retriever Mix</td>\n",
       "      <td>Black/White</td>\n",
       "      <td>Normal</td>\n",
       "      <td>Public Assist</td>\n",
       "      <td>Intact Male</td>\n",
       "      <td>730</td>\n",
       "      <td>1</td>\n",
       "    </tr>\n",
       "    <tr>\n",
       "      <th>7</th>\n",
       "      <td>Cat</td>\n",
       "      <td>Domestic Shorthair Mix</td>\n",
       "      <td>Cream Tabby</td>\n",
       "      <td>Normal</td>\n",
       "      <td>Owner Surrender</td>\n",
       "      <td>Neutered Male</td>\n",
       "      <td>150</td>\n",
       "      <td>1</td>\n",
       "    </tr>\n",
       "    <tr>\n",
       "      <th>9</th>\n",
       "      <td>Cat</td>\n",
       "      <td>Domestic Shorthair Mix</td>\n",
       "      <td>Cream Tabby</td>\n",
       "      <td>Normal</td>\n",
       "      <td>Stray</td>\n",
       "      <td>Intact Male</td>\n",
       "      <td>120</td>\n",
       "      <td>1</td>\n",
       "    </tr>\n",
       "    <tr>\n",
       "      <th>14</th>\n",
       "      <td>Cat</td>\n",
       "      <td>Domestic Shorthair Mix</td>\n",
       "      <td>Brown Tabby/White</td>\n",
       "      <td>Normal</td>\n",
       "      <td>Owner Surrender</td>\n",
       "      <td>Neutered Male</td>\n",
       "      <td>5110</td>\n",
       "      <td>1</td>\n",
       "    </tr>\n",
       "    <tr>\n",
       "      <th>15</th>\n",
       "      <td>Cat</td>\n",
       "      <td>Domestic Shorthair Mix</td>\n",
       "      <td>Brown Tabby/White</td>\n",
       "      <td>Normal</td>\n",
       "      <td>Owner Surrender</td>\n",
       "      <td>Neutered Male</td>\n",
       "      <td>5110</td>\n",
       "      <td>0</td>\n",
       "    </tr>\n",
       "  </tbody>\n",
       "</table>\n",
       "</div>"
      ],
      "text/plain": [
       "   animal_type                   breed              color intake_condition  \\\n",
       "5          Dog  Labrador Retriever Mix        Black/White           Normal   \n",
       "7          Cat  Domestic Shorthair Mix        Cream Tabby           Normal   \n",
       "9          Cat  Domestic Shorthair Mix        Cream Tabby           Normal   \n",
       "14         Cat  Domestic Shorthair Mix  Brown Tabby/White           Normal   \n",
       "15         Cat  Domestic Shorthair Mix  Brown Tabby/White           Normal   \n",
       "\n",
       "        intake_type            sex  age_upon_intake  adoption_in_month  \n",
       "5     Public Assist    Intact Male              730                  1  \n",
       "7   Owner Surrender  Neutered Male              150                  1  \n",
       "9             Stray    Intact Male              120                  1  \n",
       "14  Owner Surrender  Neutered Male             5110                  1  \n",
       "15  Owner Surrender  Neutered Male             5110                  0  "
      ]
     },
     "execution_count": 86,
     "metadata": {},
     "output_type": "execute_result"
    }
   ],
   "source": [
    "df_merge.head()"
   ]
  },
  {
   "cell_type": "markdown",
   "metadata": {},
   "source": [
    "Let's check the correlation between the predictor features and outcome:"
   ]
  },
  {
   "cell_type": "code",
   "execution_count": 87,
   "metadata": {},
   "outputs": [],
   "source": [
    "def cramers_v(confusion_matrix):\n",
    "    \"\"\" calculate Cramers V statistic for categorial-categorial association.\n",
    "        uses correction from Bergsma and Wicher,\n",
    "        Journal of the Korean Statistical Society 42 (2013): 323-328\n",
    "    \"\"\"\n",
    "    chi2 = ss.chi2_contingency(confusion_matrix)[0]\n",
    "    n = confusion_matrix.sum()\n",
    "    n = n.sum()\n",
    "    phi2 = chi2 / n\n",
    "    r, k = confusion_matrix.shape\n",
    "    phi2corr = max(0, phi2 - ((k-1)*(r-1))/(n-1))\n",
    "    rcorr = r - ((r-1)**2)/(n-1)\n",
    "    kcorr = k - ((k-1)**2)/(n-1)\n",
    "    return np.sqrt(phi2corr / min((kcorr-1), (rcorr-1)))"
   ]
  },
  {
   "cell_type": "code",
   "execution_count": 88,
   "metadata": {},
   "outputs": [
    {
     "data": {
      "text/plain": [
       "0.23342946333457015"
      ]
     },
     "execution_count": 88,
     "metadata": {},
     "output_type": "execute_result"
    }
   ],
   "source": [
    "adopted_breed_table = pd.crosstab(df_merge['breed'], df_merge['adoption_in_month'])\n",
    "cramers_v(adopted_breed_table)"
   ]
  },
  {
   "cell_type": "code",
   "execution_count": 89,
   "metadata": {},
   "outputs": [
    {
     "data": {
      "text/plain": [
       "0.19457853840110015"
      ]
     },
     "execution_count": 89,
     "metadata": {},
     "output_type": "execute_result"
    }
   ],
   "source": [
    "adopted_animal_table = pd.crosstab(df_merge['animal_type'], df_merge['adoption_in_month'])\n",
    "cramers_v(adopted_animal_table)"
   ]
  },
  {
   "cell_type": "code",
   "execution_count": 90,
   "metadata": {},
   "outputs": [
    {
     "data": {
      "text/plain": [
       "0.17365021867516225"
      ]
     },
     "execution_count": 90,
     "metadata": {},
     "output_type": "execute_result"
    }
   ],
   "source": [
    "adopted_color_table = pd.crosstab(df_merge['color'], df_merge['adoption_in_month'])\n",
    "cramers_v(adopted_color_table)"
   ]
  },
  {
   "cell_type": "code",
   "execution_count": 91,
   "metadata": {},
   "outputs": [
    {
     "data": {
      "text/plain": [
       "0.13410016167390593"
      ]
     },
     "execution_count": 91,
     "metadata": {},
     "output_type": "execute_result"
    }
   ],
   "source": [
    "adopted_cond_table = pd.crosstab(df_merge['intake_condition'], df_merge['adoption_in_month'])\n",
    "cramers_v(adopted_cond_table)"
   ]
  },
  {
   "cell_type": "code",
   "execution_count": 92,
   "metadata": {},
   "outputs": [
    {
     "data": {
      "text/plain": [
       "0.18101039728264912"
      ]
     },
     "execution_count": 92,
     "metadata": {},
     "output_type": "execute_result"
    }
   ],
   "source": [
    "adopted_sex_table = pd.crosstab(df_merge['sex'], df_merge['adoption_in_month'])\n",
    "cramers_v(adopted_sex_table)"
   ]
  },
  {
   "cell_type": "markdown",
   "metadata": {},
   "source": [
    "Surprisingly, there is poor correlation between any predictor feature and the outcome. So, any linear relationship does not make sense."
   ]
  },
  {
   "cell_type": "code",
   "execution_count": 93,
   "metadata": {},
   "outputs": [
    {
     "name": "stderr",
     "output_type": "stream",
     "text": [
      "C:\\Users\\anshu\\AppData\\Roaming\\Python\\Python36\\site-packages\\seaborn\\distributions.py:2551: FutureWarning: `distplot` is a deprecated function and will be removed in a future version. Please adapt your code to use either `displot` (a figure-level function with similar flexibility) or `histplot` (an axes-level function for histograms).\n",
      "  warnings.warn(msg, FutureWarning)\n"
     ]
    },
    {
     "data": {
      "text/plain": [
       "<AxesSubplot:ylabel='Density'>"
      ]
     },
     "execution_count": 93,
     "metadata": {},
     "output_type": "execute_result"
    },
    {
     "data": {
      "image/png": "[encoded data removed]",
      "text/plain": [
       "<Figure size 432x288 with 1 Axes>"
      ]
     },
     "metadata": {},
     "output_type": "display_data"
    }
   ],
   "source": [
    "#check distribution of age\n",
    "sns.distplot(x = df_merge['age_upon_intake'])"
   ]
  },
  {
   "cell_type": "code",
   "execution_count": 94,
   "metadata": {},
   "outputs": [
    {
     "data": {
      "text/plain": [
       "<AxesSubplot:xlabel='animal_type', ylabel='age_upon_intake'>"
      ]
     },
     "execution_count": 94,
     "metadata": {},
     "output_type": "execute_result"
    },
    {
     "data": {
      "image/png": "[encoded data removed]",
      "text/plain": [
       "<Figure size 432x288 with 1 Axes>"
      ]
     },
     "metadata": {},
     "output_type": "display_data"
    }
   ],
   "source": [
    "sns.boxplot(x = df_merge['animal_type'], y = df_merge['age_upon_intake'])"
   ]
  },
  {
   "cell_type": "markdown",
   "metadata": {},
   "source": [
    "Age feature distribution in skewed as per normality. Median is around 500 days and most of the animals age fall under 1000 days. There are outliers data points as well after 2000. Cats age are lesser than dogs age mostly. Also, more outliers in cat than dog."
   ]
  },
  {
   "cell_type": "code",
   "execution_count": 95,
   "metadata": {},
   "outputs": [
    {
     "data": {
      "text/plain": [
       "<seaborn.axisgrid.FacetGrid at 0x278a855b400>"
      ]
     },
     "execution_count": 95,
     "metadata": {},
     "output_type": "execute_result"
    },
    {
     "data": {
      "image/png": "[encoded data removed]",
      "text/plain": [
       "<Figure size 495.375x360 with 1 Axes>"
      ]
     },
     "metadata": {},
     "output_type": "display_data"
    },
    {
     "data": {
      "image/png": "[encoded data removed]",
      "text/plain": [
       "<Figure size 495.375x360 with 1 Axes>"
      ]
     },
     "metadata": {},
     "output_type": "display_data"
    }
   ],
   "source": [
    "#check the distribution of animals sex and intake type in the dataset\n",
    "\n",
    "df_dog = df_merge[(df_merge['animal_type'] == 'Dog') & (df_merge['adoption_in_month'] == 1)]\n",
    "df_cat = df_merge[(df_merge['animal_type'] == 'Cat') & (df_merge['adoption_in_month'] == 1)]\n",
    "\n",
    "dogs_plot = sns.catplot(x='sex', data=df_dog, kind='count', hue = 'intake_type')\n",
    "dogs_plot.set_xticklabels(rotation=90, horizontalalignment='right')\n",
    "\n",
    "cats_plot = sns.catplot(x='sex', data=df_cat, kind='count', hue = 'intake_type')\n",
    "cats_plot.set_xticklabels(rotation=90, horizontalalignment='right')"
   ]
  },
  {
   "cell_type": "markdown",
   "metadata": {},
   "source": [
    "In case of dogs, most were stray for all intake types. Also, owner surrendered for spayed female and neutered males significantly.\n",
    "In case of cats, most of the cats were surrendred by owners in case of spayed female and neutered males. However, mostly cats were also stray.\n",
    "Most of the dogs - cats are stray or surrendred by the owner."
   ]
  },
  {
   "cell_type": "code",
   "execution_count": 96,
   "metadata": {},
   "outputs": [
    {
     "data": {
      "text/plain": [
       "<seaborn.axisgrid.FacetGrid at 0x278a84d3a90>"
      ]
     },
     "execution_count": 96,
     "metadata": {},
     "output_type": "execute_result"
    },
    {
     "data": {
      "image/png": "[encoded data removed]",
      "text/plain": [
       "<Figure size 463.375x360 with 1 Axes>"
      ]
     },
     "metadata": {},
     "output_type": "display_data"
    },
    {
     "data": {
      "image/png": "[encoded data removed]",
      "text/plain": [
       "<Figure size 463.375x360 with 1 Axes>"
      ]
     },
     "metadata": {},
     "output_type": "display_data"
    }
   ],
   "source": [
    "df_dog = df_merge[(df_merge['animal_type'] == 'Dog')]\n",
    "df_cat = df_merge[(df_merge['animal_type'] == 'Cat')]\n",
    "\n",
    "ogs_plot = sns.catplot(x='intake_condition', data=df_dog, kind='count', hue = 'adoption_in_month')\n",
    "dogs_plot.set_xticklabels(rotation=90, horizontalalignment='right')\n",
    "\n",
    "ogs_plot = sns.catplot(x='intake_condition', data=df_dog, kind='count', hue = 'adoption_in_month')\n",
    "dogs_plot.set_xticklabels(rotation=90, horizontalalignment='right')"
   ]
  },
  {
   "cell_type": "markdown",
   "metadata": {},
   "source": [
    "By majority, normal condition animals have greater chances to get adopted in a month significantly."
   ]
  },
  {
   "cell_type": "code",
   "execution_count": 97,
   "metadata": {},
   "outputs": [
    {
     "data": {
      "text/plain": [
       "(30210, 8)"
      ]
     },
     "execution_count": 97,
     "metadata": {},
     "output_type": "execute_result"
    }
   ],
   "source": [
    "#as per visualization, removing all the outliers\n",
    "\n",
    "df_merge = df_merge[df_merge['age_upon_intake'] < 2000]\n",
    "df_merge = df_merge[df_merge['sex'] != 'Unknown']\n",
    "df_merge = df_merge[df_merge['intake_type'] != 'Euthanasia Request']\n",
    "df_merge = df_merge[df_merge['intake_condition'].isin(['Normal','injured'])]\n",
    "\n",
    "df_merge.shape"
   ]
  },
  {
   "cell_type": "code",
   "execution_count": 98,
   "metadata": {},
   "outputs": [
    {
     "data": {
      "text/plain": [
       "1    21451\n",
       "0     8759\n",
       "Name: adoption_in_month, dtype: int64"
      ]
     },
     "execution_count": 98,
     "metadata": {},
     "output_type": "execute_result"
    }
   ],
   "source": [
    "df_merge.adoption_in_month.value_counts()"
   ]
  },
  {
   "cell_type": "markdown",
   "metadata": {},
   "source": [
    "As we got an imbalanced dataset that can cause biased results or poor performance for the model. We need to re sample the dataset to make it a balanced dataset. We will apply SMOTE algorithm to handle this issue further."
   ]
  },
  {
   "cell_type": "markdown",
   "metadata": {},
   "source": [
    "<b>Data Modelling:"
   ]
  },
  {
   "cell_type": "code",
   "execution_count": 99,
   "metadata": {},
   "outputs": [],
   "source": [
    "#one-hot encoding for nominal features\n",
    "df_merge = pd.get_dummies(df_merge, drop_first=True)"
   ]
  },
  {
   "cell_type": "code",
   "execution_count": 100,
   "metadata": {},
   "outputs": [
    {
     "name": "stdout",
     "output_type": "stream",
     "text": [
      "<class 'pandas.core.frame.DataFrame'>\n",
      "Int64Index: 30210 entries, 5 to 95406\n",
      "Data columns (total 72 columns):\n",
      " #   Column                           Non-Null Count  Dtype\n",
      "---  ------                           --------------  -----\n",
      " 0   age_upon_intake                  30210 non-null  int32\n",
      " 1   adoption_in_month                30210 non-null  int64\n",
      " 2   animal_type_Dog                  30210 non-null  uint8\n",
      " 3   breed_Australian Cattle Dog Mix  30210 non-null  uint8\n",
      " 4   breed_Australian Shepherd Mix    30210 non-null  uint8\n",
      " 5   breed_Border Collie Mix          30210 non-null  uint8\n",
      " 6   breed_Boxer Mix                  30210 non-null  uint8\n",
      " 7   breed_Catahoula Mix              30210 non-null  uint8\n",
      " 8   breed_Chihuahua Shorthair Mix    30210 non-null  uint8\n",
      " 9   breed_Dachshund Mix              30210 non-null  uint8\n",
      " 10  breed_Domestic Longhair          30210 non-null  uint8\n",
      " 11  breed_Domestic Longhair Mix      30210 non-null  uint8\n",
      " 12  breed_Domestic Medium Hair       30210 non-null  uint8\n",
      " 13  breed_Domestic Medium Hair Mix   30210 non-null  uint8\n",
      " 14  breed_Domestic Shorthair         30210 non-null  uint8\n",
      " 15  breed_Domestic Shorthair Mix     30210 non-null  uint8\n",
      " 16  breed_German Shepherd Mix        30210 non-null  uint8\n",
      " 17  breed_Himalayan Mix              30210 non-null  uint8\n",
      " 18  breed_Jack Russell Terrier Mix   30210 non-null  uint8\n",
      " 19  breed_Labrador Retriever Mix     30210 non-null  uint8\n",
      " 20  breed_Maine Coon Mix             30210 non-null  uint8\n",
      " 21  breed_Manx Mix                   30210 non-null  uint8\n",
      " 22  breed_Miniature Poodle Mix       30210 non-null  uint8\n",
      " 23  breed_Persian Mix                30210 non-null  uint8\n",
      " 24  breed_Pit Bull Mix               30210 non-null  uint8\n",
      " 25  breed_Rat Terrier Mix            30210 non-null  uint8\n",
      " 26  breed_Russian Blue Mix           30210 non-null  uint8\n",
      " 27  breed_Siamese                    30210 non-null  uint8\n",
      " 28  breed_Siamese Mix                30210 non-null  uint8\n",
      " 29  breed_Siberian Husky Mix         30210 non-null  uint8\n",
      " 30  breed_Snowshoe Mix               30210 non-null  uint8\n",
      " 31  breed_Staffordshire Mix          30210 non-null  uint8\n",
      " 32  color_Black/Brown                30210 non-null  uint8\n",
      " 33  color_Black/Tan                  30210 non-null  uint8\n",
      " 34  color_Black/White                30210 non-null  uint8\n",
      " 35  color_Blue                       30210 non-null  uint8\n",
      " 36  color_Blue Tabby                 30210 non-null  uint8\n",
      " 37  color_Blue Tabby/White           30210 non-null  uint8\n",
      " 38  color_Blue/White                 30210 non-null  uint8\n",
      " 39  color_Brown                      30210 non-null  uint8\n",
      " 40  color_Brown Brindle/White        30210 non-null  uint8\n",
      " 41  color_Brown Tabby                30210 non-null  uint8\n",
      " 42  color_Brown Tabby/White          30210 non-null  uint8\n",
      " 43  color_Brown/Black                30210 non-null  uint8\n",
      " 44  color_Brown/White                30210 non-null  uint8\n",
      " 45  color_Calico                     30210 non-null  uint8\n",
      " 46  color_Chocolate/White            30210 non-null  uint8\n",
      " 47  color_Cream Tabby                30210 non-null  uint8\n",
      " 48  color_Cream Tabby/White          30210 non-null  uint8\n",
      " 49  color_Flame Point                30210 non-null  uint8\n",
      " 50  color_Lynx Point                 30210 non-null  uint8\n",
      " 51  color_Orange Tabby               30210 non-null  uint8\n",
      " 52  color_Orange Tabby/White         30210 non-null  uint8\n",
      " 53  color_Red                        30210 non-null  uint8\n",
      " 54  color_Red/White                  30210 non-null  uint8\n",
      " 55  color_Seal Point                 30210 non-null  uint8\n",
      " 56  color_Tan                        30210 non-null  uint8\n",
      " 57  color_Tan/White                  30210 non-null  uint8\n",
      " 58  color_Torbie                     30210 non-null  uint8\n",
      " 59  color_Tortie                     30210 non-null  uint8\n",
      " 60  color_Tricolor                   30210 non-null  uint8\n",
      " 61  color_White                      30210 non-null  uint8\n",
      " 62  color_White/Black                30210 non-null  uint8\n",
      " 63  color_White/Brown                30210 non-null  uint8\n",
      " 64  color_White/Brown Tabby          30210 non-null  uint8\n",
      " 65  color_White/Tan                  30210 non-null  uint8\n",
      " 66  color_Yellow                     30210 non-null  uint8\n",
      " 67  intake_type_Public Assist        30210 non-null  uint8\n",
      " 68  intake_type_Stray                30210 non-null  uint8\n",
      " 69  sex_Intact Male                  30210 non-null  uint8\n",
      " 70  sex_Neutered Male                30210 non-null  uint8\n",
      " 71  sex_Spayed Female                30210 non-null  uint8\n",
      "dtypes: int32(1), int64(1), uint8(70)\n",
      "memory usage: 2.6 MB\n"
     ]
    }
   ],
   "source": [
    "df_merge.info()"
   ]
  },
  {
   "cell_type": "code",
   "execution_count": 101,
   "metadata": {},
   "outputs": [
    {
     "data": {
      "text/html": [
       "<div>\n",
       "<style scoped>\n",
       "    .dataframe tbody tr th:only-of-type {\n",
       "        vertical-align: middle;\n",
       "    }\n",
       "\n",
       "    .dataframe tbody tr th {\n",
       "        vertical-align: top;\n",
       "    }\n",
       "\n",
       "    .dataframe thead th {\n",
       "        text-align: right;\n",
       "    }\n",
       "</style>\n",
       "<table border=\"1\" class=\"dataframe\">\n",
       "  <thead>\n",
       "    <tr style=\"text-align: right;\">\n",
       "      <th></th>\n",
       "      <th>adoption_in_month</th>\n",
       "      <th>age_upon_intake</th>\n",
       "      <th>animal_type_Dog</th>\n",
       "      <th>breed_Australian Cattle Dog Mix</th>\n",
       "      <th>breed_Australian Shepherd Mix</th>\n",
       "      <th>breed_Border Collie Mix</th>\n",
       "      <th>breed_Boxer Mix</th>\n",
       "      <th>breed_Catahoula Mix</th>\n",
       "      <th>breed_Chihuahua Shorthair Mix</th>\n",
       "      <th>breed_Dachshund Mix</th>\n",
       "      <th>...</th>\n",
       "      <th>color_White/Black</th>\n",
       "      <th>color_White/Brown</th>\n",
       "      <th>color_White/Brown Tabby</th>\n",
       "      <th>color_White/Tan</th>\n",
       "      <th>color_Yellow</th>\n",
       "      <th>intake_type_Public Assist</th>\n",
       "      <th>intake_type_Stray</th>\n",
       "      <th>sex_Intact Male</th>\n",
       "      <th>sex_Neutered Male</th>\n",
       "      <th>sex_Spayed Female</th>\n",
       "    </tr>\n",
       "  </thead>\n",
       "  <tbody>\n",
       "    <tr>\n",
       "      <th>5</th>\n",
       "      <td>1</td>\n",
       "      <td>730</td>\n",
       "      <td>1</td>\n",
       "      <td>0</td>\n",
       "      <td>0</td>\n",
       "      <td>0</td>\n",
       "      <td>0</td>\n",
       "      <td>0</td>\n",
       "      <td>0</td>\n",
       "      <td>0</td>\n",
       "      <td>...</td>\n",
       "      <td>0</td>\n",
       "      <td>0</td>\n",
       "      <td>0</td>\n",
       "      <td>0</td>\n",
       "      <td>0</td>\n",
       "      <td>1</td>\n",
       "      <td>0</td>\n",
       "      <td>1</td>\n",
       "      <td>0</td>\n",
       "      <td>0</td>\n",
       "    </tr>\n",
       "    <tr>\n",
       "      <th>7</th>\n",
       "      <td>1</td>\n",
       "      <td>150</td>\n",
       "      <td>0</td>\n",
       "      <td>0</td>\n",
       "      <td>0</td>\n",
       "      <td>0</td>\n",
       "      <td>0</td>\n",
       "      <td>0</td>\n",
       "      <td>0</td>\n",
       "      <td>0</td>\n",
       "      <td>...</td>\n",
       "      <td>0</td>\n",
       "      <td>0</td>\n",
       "      <td>0</td>\n",
       "      <td>0</td>\n",
       "      <td>0</td>\n",
       "      <td>0</td>\n",
       "      <td>0</td>\n",
       "      <td>0</td>\n",
       "      <td>1</td>\n",
       "      <td>0</td>\n",
       "    </tr>\n",
       "    <tr>\n",
       "      <th>9</th>\n",
       "      <td>1</td>\n",
       "      <td>120</td>\n",
       "      <td>0</td>\n",
       "      <td>0</td>\n",
       "      <td>0</td>\n",
       "      <td>0</td>\n",
       "      <td>0</td>\n",
       "      <td>0</td>\n",
       "      <td>0</td>\n",
       "      <td>0</td>\n",
       "      <td>...</td>\n",
       "      <td>0</td>\n",
       "      <td>0</td>\n",
       "      <td>0</td>\n",
       "      <td>0</td>\n",
       "      <td>0</td>\n",
       "      <td>0</td>\n",
       "      <td>1</td>\n",
       "      <td>1</td>\n",
       "      <td>0</td>\n",
       "      <td>0</td>\n",
       "    </tr>\n",
       "    <tr>\n",
       "      <th>16</th>\n",
       "      <td>0</td>\n",
       "      <td>28</td>\n",
       "      <td>0</td>\n",
       "      <td>0</td>\n",
       "      <td>0</td>\n",
       "      <td>0</td>\n",
       "      <td>0</td>\n",
       "      <td>0</td>\n",
       "      <td>0</td>\n",
       "      <td>0</td>\n",
       "      <td>...</td>\n",
       "      <td>0</td>\n",
       "      <td>0</td>\n",
       "      <td>0</td>\n",
       "      <td>0</td>\n",
       "      <td>0</td>\n",
       "      <td>0</td>\n",
       "      <td>1</td>\n",
       "      <td>0</td>\n",
       "      <td>0</td>\n",
       "      <td>0</td>\n",
       "    </tr>\n",
       "    <tr>\n",
       "      <th>17</th>\n",
       "      <td>1</td>\n",
       "      <td>30</td>\n",
       "      <td>0</td>\n",
       "      <td>0</td>\n",
       "      <td>0</td>\n",
       "      <td>0</td>\n",
       "      <td>0</td>\n",
       "      <td>0</td>\n",
       "      <td>0</td>\n",
       "      <td>0</td>\n",
       "      <td>...</td>\n",
       "      <td>0</td>\n",
       "      <td>0</td>\n",
       "      <td>0</td>\n",
       "      <td>0</td>\n",
       "      <td>0</td>\n",
       "      <td>0</td>\n",
       "      <td>1</td>\n",
       "      <td>0</td>\n",
       "      <td>0</td>\n",
       "      <td>0</td>\n",
       "    </tr>\n",
       "  </tbody>\n",
       "</table>\n",
       "<p>5 rows × 72 columns</p>\n",
       "</div>"
      ],
      "text/plain": [
       "    adoption_in_month  age_upon_intake  animal_type_Dog  \\\n",
       "5                   1              730                1   \n",
       "7                   1              150                0   \n",
       "9                   1              120                0   \n",
       "16                  0               28                0   \n",
       "17                  1               30                0   \n",
       "\n",
       "    breed_Australian Cattle Dog Mix  breed_Australian Shepherd Mix  \\\n",
       "5                                 0                              0   \n",
       "7                                 0                              0   \n",
       "9                                 0                              0   \n",
       "16                                0                              0   \n",
       "17                                0                              0   \n",
       "\n",
       "    breed_Border Collie Mix  breed_Boxer Mix  breed_Catahoula Mix  \\\n",
       "5                         0                0                    0   \n",
       "7                         0                0                    0   \n",
       "9                         0                0                    0   \n",
       "16                        0                0                    0   \n",
       "17                        0                0                    0   \n",
       "\n",
       "    breed_Chihuahua Shorthair Mix  breed_Dachshund Mix  ...  \\\n",
       "5                               0                    0  ...   \n",
       "7                               0                    0  ...   \n",
       "9                               0                    0  ...   \n",
       "16                              0                    0  ...   \n",
       "17                              0                    0  ...   \n",
       "\n",
       "    color_White/Black  color_White/Brown  color_White/Brown Tabby  \\\n",
       "5                   0                  0                        0   \n",
       "7                   0                  0                        0   \n",
       "9                   0                  0                        0   \n",
       "16                  0                  0                        0   \n",
       "17                  0                  0                        0   \n",
       "\n",
       "    color_White/Tan  color_Yellow  intake_type_Public Assist  \\\n",
       "5                 0             0                          1   \n",
       "7                 0             0                          0   \n",
       "9                 0             0                          0   \n",
       "16                0             0                          0   \n",
       "17                0             0                          0   \n",
       "\n",
       "    intake_type_Stray  sex_Intact Male  sex_Neutered Male  sex_Spayed Female  \n",
       "5                   0                1                  0                  0  \n",
       "7                   0                0                  1                  0  \n",
       "9                   1                1                  0                  0  \n",
       "16                  1                0                  0                  0  \n",
       "17                  1                0                  0                  0  \n",
       "\n",
       "[5 rows x 72 columns]"
      ]
     },
     "execution_count": 101,
     "metadata": {},
     "output_type": "execute_result"
    }
   ],
   "source": [
    "move_outcome_column = df_merge.pop('adoption_in_month')\n",
    "df_merge.insert(0, move_outcome_column.name, move_outcome_column)\n",
    "df_merge.head()"
   ]
  },
  {
   "cell_type": "code",
   "execution_count": 102,
   "metadata": {},
   "outputs": [
    {
     "data": {
      "text/plain": [
       "(30032, 71)"
      ]
     },
     "execution_count": 102,
     "metadata": {},
     "output_type": "execute_result"
    }
   ],
   "source": [
    "#splitting data into training and testing set\n",
    "X, y = df_merge.iloc[:, 1:].values, df_merge.iloc[:, 0].values\n",
    "X_train, X_test, y_train, y_test =\\\n",
    "    train_test_split(X, y, \n",
    "                     test_size=0.3, \n",
    "                     random_state=1, \n",
    "                     stratify=y) \n",
    "\n",
    "#using smote for imbalance issue in the dataset\n",
    "sm = SMOTE(random_state = 2) \n",
    "X_train_res, y_train_res = sm.fit_sample(X_train, y_train.ravel()) \n",
    "X_train_res.shape"
   ]
  },
  {
   "cell_type": "code",
   "execution_count": 103,
   "metadata": {},
   "outputs": [],
   "source": [
    "#we need to standardize our dataset\n",
    "from sklearn.preprocessing import StandardScaler\n",
    "std_scale = StandardScaler()\n",
    "X_train_std = std_scale.fit_transform(X_train_res)"
   ]
  },
  {
   "cell_type": "code",
   "execution_count": 104,
   "metadata": {},
   "outputs": [
    {
     "name": "stdout",
     "output_type": "stream",
     "text": [
      "\n",
      "confusion_matrix from Gaussian naive bayes:\n",
      "[[1114 1514]\n",
      " [ 670 5765]]\n",
      "accuracy = 0.7590201919894075\n"
     ]
    }
   ],
   "source": [
    "#fitting gaussian naive bayes algorithm classifier\n",
    "\n",
    "model = GaussianNB()\n",
    "model.fit(X_train_std,y_train_res)\n",
    "gausianNB_predicted = model.predict(X_test)\n",
    "\n",
    "print('\\nconfusion_matrix from Gaussian naive bayes:')\n",
    "print(confusion_matrix( y_test, gausianNB_predicted ) )\n",
    "\n",
    "accuracy = accuracy_score(y_test, gausianNB_predicted)\n",
    "print('accuracy = ' + str(accuracy))"
   ]
  },
  {
   "cell_type": "markdown",
   "metadata": {},
   "source": [
    "<b>Conclusion:"
   ]
  },
  {
   "cell_type": "markdown",
   "metadata": {},
   "source": [
    "Naive bayes classifier gave ~76% accuracy. So, we can further improve the accuracy of by using feature selection methods, hyperparameter tuning and different sampling methods.For an Naive Bayes classifier, categorical values are the easiest to deal with as it uses probability for doing its predictive analysis, so we got a fair accuracy score.\n",
    "Also, the data was normally scaled that helped the gaussian naive bayes algorithm to perform well. So, we can predict a month adoption with given factors significantly."
   ]
  },
  {
   "cell_type": "code",
   "execution_count": null,
   "metadata": {},
   "outputs": [],
   "source": []
  }
 ],
 "metadata": {
  "kernelspec": {
   "display_name": "Python 3",
   "language": "python",
   "name": "python3"
  },
  "language_info": {
   "codemirror_mode": {
    "name": "ipython",
    "version": 3
   },
   "file_extension": ".py",
   "mimetype": "text/x-python",
   "name": "python",
   "nbconvert_exporter": "python",
   "pygments_lexer": "ipython3",
   "version": "3.6.5"
  }
 },
 "nbformat": 4,
 "nbformat_minor": 2
}
