{
 "cells": [
  {
   "cell_type": "markdown",
   "metadata": {},
   "source": [
    "## Customer Behavioural Analysis & Product Recommendation System (E-commerce)"
   ]
  },
  {
   "cell_type": "code",
   "execution_count": 1,
   "metadata": {},
   "outputs": [],
   "source": [
    "#import required libraries\n",
    "import dask\n",
    "import dask.dataframe as dd\n",
    "import pandas as pd\n",
    "import numpy as np\n",
    "import seaborn as sns\n",
    "import random\n",
    "import matplotlib.pyplot as plt\n",
    "from sklearn.decomposition import TruncatedSVD\n",
    "from sklearn.model_selection import train_test_split\n",
    "from scipy.stats import pearsonr\n",
    "import scipy.stats as stats\n",
    "from scipy.stats import iqr\n",
    "from sklearn.decomposition import PCA\n",
    "from sklearn.cluster import KMeans\n",
    "from collections import defaultdict\n",
    "from sklearn.metrics.pairwise import euclidean_distances\n",
    "from sklearn.preprocessing import StandardScaler\n",
    "from sklearn.linear_model import LogisticRegression\n",
    "import mlxtend\n",
    "from mlxtend.frequent_patterns import apriori\n",
    "from mlxtend.frequent_patterns import association_rules"
   ]
  },
  {
   "cell_type": "markdown",
   "metadata": {},
   "source": [
    "### Data Collection:"
   ]
  },
  {
   "cell_type": "markdown",
   "metadata": {},
   "source": [
    "Dataset - https://www.kaggle.com/mkechinov/ecommerce-behavior-data-from-multi-category-store?select=2019-Oct.csv"
   ]
  },
  {
   "cell_type": "markdown",
   "metadata": {},
   "source": [
    "#### October 2019 Customer Data for a e-commerce store(One Month Data)"
   ]
  },
  {
   "cell_type": "markdown",
   "metadata": {},
   "source": [
    "Due to scaliblity issues, I have used both Dask and pandas dataframes as per requirements for the customer analysis and recommendation modelling."
   ]
  },
  {
   "cell_type": "code",
   "execution_count": 2,
   "metadata": {},
   "outputs": [],
   "source": [
    "#read data into dask datframes\n",
    "df = dd.read_csv('../../../../../Downloads/2019-Oct.csv/2019-Oct.csv')"
   ]
  },
  {
   "cell_type": "code",
   "execution_count": 3,
   "metadata": {},
   "outputs": [
    {
     "data": {
      "text/html": [
       "<div>\n",
       "<style scoped>\n",
       "    .dataframe tbody tr th:only-of-type {\n",
       "        vertical-align: middle;\n",
       "    }\n",
       "\n",
       "    .dataframe tbody tr th {\n",
       "        vertical-align: top;\n",
       "    }\n",
       "\n",
       "    .dataframe thead th {\n",
       "        text-align: right;\n",
       "    }\n",
       "</style>\n",
       "<table border=\"1\" class=\"dataframe\">\n",
       "  <thead>\n",
       "    <tr style=\"text-align: right;\">\n",
       "      <th></th>\n",
       "      <th>event_time</th>\n",
       "      <th>event_type</th>\n",
       "      <th>product_id</th>\n",
       "      <th>category_id</th>\n",
       "      <th>category_code</th>\n",
       "      <th>brand</th>\n",
       "      <th>price</th>\n",
       "      <th>user_id</th>\n",
       "      <th>user_session</th>\n",
       "    </tr>\n",
       "  </thead>\n",
       "  <tbody>\n",
       "    <tr>\n",
       "      <th>0</th>\n",
       "      <td>2019-10-01 00:00:00 UTC</td>\n",
       "      <td>view</td>\n",
       "      <td>44600062</td>\n",
       "      <td>2103807459595387724</td>\n",
       "      <td>NaN</td>\n",
       "      <td>shiseido</td>\n",
       "      <td>35.79</td>\n",
       "      <td>541312140</td>\n",
       "      <td>72d76fde-8bb3-4e00-8c23-a032dfed738c</td>\n",
       "    </tr>\n",
       "    <tr>\n",
       "      <th>1</th>\n",
       "      <td>2019-10-01 00:00:00 UTC</td>\n",
       "      <td>view</td>\n",
       "      <td>3900821</td>\n",
       "      <td>2053013552326770905</td>\n",
       "      <td>appliances.environment.water_heater</td>\n",
       "      <td>aqua</td>\n",
       "      <td>33.20</td>\n",
       "      <td>554748717</td>\n",
       "      <td>9333dfbd-b87a-4708-9857-6336556b0fcc</td>\n",
       "    </tr>\n",
       "    <tr>\n",
       "      <th>2</th>\n",
       "      <td>2019-10-01 00:00:01 UTC</td>\n",
       "      <td>view</td>\n",
       "      <td>17200506</td>\n",
       "      <td>2053013559792632471</td>\n",
       "      <td>furniture.living_room.sofa</td>\n",
       "      <td>NaN</td>\n",
       "      <td>543.10</td>\n",
       "      <td>519107250</td>\n",
       "      <td>566511c2-e2e3-422b-b695-cf8e6e792ca8</td>\n",
       "    </tr>\n",
       "    <tr>\n",
       "      <th>3</th>\n",
       "      <td>2019-10-01 00:00:01 UTC</td>\n",
       "      <td>view</td>\n",
       "      <td>1307067</td>\n",
       "      <td>2053013558920217191</td>\n",
       "      <td>computers.notebook</td>\n",
       "      <td>lenovo</td>\n",
       "      <td>251.74</td>\n",
       "      <td>550050854</td>\n",
       "      <td>7c90fc70-0e80-4590-96f3-13c02c18c713</td>\n",
       "    </tr>\n",
       "    <tr>\n",
       "      <th>4</th>\n",
       "      <td>2019-10-01 00:00:04 UTC</td>\n",
       "      <td>view</td>\n",
       "      <td>1004237</td>\n",
       "      <td>2053013555631882655</td>\n",
       "      <td>electronics.smartphone</td>\n",
       "      <td>apple</td>\n",
       "      <td>1081.98</td>\n",
       "      <td>535871217</td>\n",
       "      <td>c6bd7419-2748-4c56-95b4-8cec9ff8b80d</td>\n",
       "    </tr>\n",
       "  </tbody>\n",
       "</table>\n",
       "</div>"
      ],
      "text/plain": [
       "                event_time event_type  product_id          category_id  \\\n",
       "0  2019-10-01 00:00:00 UTC       view    44600062  2103807459595387724   \n",
       "1  2019-10-01 00:00:00 UTC       view     3900821  2053013552326770905   \n",
       "2  2019-10-01 00:00:01 UTC       view    17200506  2053013559792632471   \n",
       "3  2019-10-01 00:00:01 UTC       view     1307067  2053013558920217191   \n",
       "4  2019-10-01 00:00:04 UTC       view     1004237  2053013555631882655   \n",
       "\n",
       "                         category_code     brand    price    user_id  \\\n",
       "0                                  NaN  shiseido    35.79  541312140   \n",
       "1  appliances.environment.water_heater      aqua    33.20  554748717   \n",
       "2           furniture.living_room.sofa       NaN   543.10  519107250   \n",
       "3                   computers.notebook    lenovo   251.74  550050854   \n",
       "4               electronics.smartphone     apple  1081.98  535871217   \n",
       "\n",
       "                           user_session  \n",
       "0  72d76fde-8bb3-4e00-8c23-a032dfed738c  \n",
       "1  9333dfbd-b87a-4708-9857-6336556b0fcc  \n",
       "2  566511c2-e2e3-422b-b695-cf8e6e792ca8  \n",
       "3  7c90fc70-0e80-4590-96f3-13c02c18c713  \n",
       "4  c6bd7419-2748-4c56-95b4-8cec9ff8b80d  "
      ]
     },
     "execution_count": 3,
     "metadata": {},
     "output_type": "execute_result"
    }
   ],
   "source": [
    "df.head()"
   ]
  },
  {
   "cell_type": "code",
   "execution_count": 4,
   "metadata": {},
   "outputs": [
    {
     "name": "stdout",
     "output_type": "stream",
     "text": [
      "<class 'dask.dataframe.core.DataFrame'>\n",
      "Columns: 9 entries, event_time to user_session\n",
      "dtypes: object(5), float64(1), int64(3)"
     ]
    }
   ],
   "source": [
    "# to get details about df\n",
    "df.info()"
   ]
  },
  {
   "cell_type": "code",
   "execution_count": 5,
   "metadata": {},
   "outputs": [
    {
     "data": {
      "text/plain": [
       "42448764"
      ]
     },
     "execution_count": 5,
     "metadata": {},
     "output_type": "execute_result"
    }
   ],
   "source": [
    "# to get number of rows in df\n",
    "len(df)"
   ]
  },
  {
   "cell_type": "markdown",
   "metadata": {},
   "source": [
    "### Data Exploration :"
   ]
  },
  {
   "cell_type": "code",
   "execution_count": 9,
   "metadata": {},
   "outputs": [
    {
     "data": {
      "text/plain": [
       "event_time              0\n",
       "event_type              0\n",
       "product_id              0\n",
       "category_id             0\n",
       "category_code    13515609\n",
       "brand             6117080\n",
       "price                   0\n",
       "user_id                 0\n",
       "user_session            2\n",
       "dtype: int64"
      ]
     },
     "execution_count": 9,
     "metadata": {},
     "output_type": "execute_result"
    }
   ],
   "source": [
    "# to get all the null values in the df\n",
    "df.isnull().sum().compute()"
   ]
  },
  {
   "cell_type": "code",
   "execution_count": 10,
   "metadata": {},
   "outputs": [
    {
     "data": {
      "text/html": [
       "<div>\n",
       "<style scoped>\n",
       "    .dataframe tbody tr th:only-of-type {\n",
       "        vertical-align: middle;\n",
       "    }\n",
       "\n",
       "    .dataframe tbody tr th {\n",
       "        vertical-align: top;\n",
       "    }\n",
       "\n",
       "    .dataframe thead th {\n",
       "        text-align: right;\n",
       "    }\n",
       "</style>\n",
       "<table border=\"1\" class=\"dataframe\">\n",
       "  <thead>\n",
       "    <tr style=\"text-align: right;\">\n",
       "      <th></th>\n",
       "      <th>event_time</th>\n",
       "      <th>event_type</th>\n",
       "      <th>product_id</th>\n",
       "      <th>category_id</th>\n",
       "      <th>category_code</th>\n",
       "      <th>brand</th>\n",
       "      <th>price</th>\n",
       "      <th>user_id</th>\n",
       "      <th>user_session</th>\n",
       "    </tr>\n",
       "  </thead>\n",
       "  <tbody>\n",
       "    <tr>\n",
       "      <th>0</th>\n",
       "      <td>2019-10-01 00:00:00 UTC</td>\n",
       "      <td>view</td>\n",
       "      <td>44600062</td>\n",
       "      <td>2103807459595387724</td>\n",
       "      <td>NaN</td>\n",
       "      <td>shiseido</td>\n",
       "      <td>35.79</td>\n",
       "      <td>541312140</td>\n",
       "      <td>72d76fde-8bb3-4e00-8c23-a032dfed738c</td>\n",
       "    </tr>\n",
       "    <tr>\n",
       "      <th>6</th>\n",
       "      <td>2019-10-01 00:00:08 UTC</td>\n",
       "      <td>view</td>\n",
       "      <td>17300353</td>\n",
       "      <td>2053013553853497655</td>\n",
       "      <td>NaN</td>\n",
       "      <td>creed</td>\n",
       "      <td>380.96</td>\n",
       "      <td>555447699</td>\n",
       "      <td>4fe811e9-91de-46da-90c3-bbd87ed3a65d</td>\n",
       "    </tr>\n",
       "    <tr>\n",
       "      <th>7</th>\n",
       "      <td>2019-10-01 00:00:08 UTC</td>\n",
       "      <td>view</td>\n",
       "      <td>31500053</td>\n",
       "      <td>2053013558031024687</td>\n",
       "      <td>NaN</td>\n",
       "      <td>luminarc</td>\n",
       "      <td>41.16</td>\n",
       "      <td>550978835</td>\n",
       "      <td>6280d577-25c8-4147-99a7-abc6048498d6</td>\n",
       "    </tr>\n",
       "    <tr>\n",
       "      <th>13</th>\n",
       "      <td>2019-10-01 00:00:15 UTC</td>\n",
       "      <td>view</td>\n",
       "      <td>44600062</td>\n",
       "      <td>2103807459595387724</td>\n",
       "      <td>NaN</td>\n",
       "      <td>shiseido</td>\n",
       "      <td>35.79</td>\n",
       "      <td>541312140</td>\n",
       "      <td>72d76fde-8bb3-4e00-8c23-a032dfed738c</td>\n",
       "    </tr>\n",
       "    <tr>\n",
       "      <th>15</th>\n",
       "      <td>2019-10-01 00:00:17 UTC</td>\n",
       "      <td>view</td>\n",
       "      <td>23100006</td>\n",
       "      <td>2053013561638126333</td>\n",
       "      <td>NaN</td>\n",
       "      <td>NaN</td>\n",
       "      <td>357.79</td>\n",
       "      <td>513642368</td>\n",
       "      <td>17566c27-0a8f-4506-9f30-c6a2ccbf583b</td>\n",
       "    </tr>\n",
       "    <tr>\n",
       "      <th>26</th>\n",
       "      <td>2019-10-01 00:00:24 UTC</td>\n",
       "      <td>view</td>\n",
       "      <td>34700031</td>\n",
       "      <td>2061717937420501730</td>\n",
       "      <td>NaN</td>\n",
       "      <td>NaN</td>\n",
       "      <td>151.87</td>\n",
       "      <td>539512263</td>\n",
       "      <td>f27a45f8-fb98-459a-96a6-45271f56a987</td>\n",
       "    </tr>\n",
       "    <tr>\n",
       "      <th>28</th>\n",
       "      <td>2019-10-01 00:00:25 UTC</td>\n",
       "      <td>view</td>\n",
       "      <td>27500014</td>\n",
       "      <td>2053013554692358509</td>\n",
       "      <td>NaN</td>\n",
       "      <td>redmond</td>\n",
       "      <td>37.98</td>\n",
       "      <td>555217733</td>\n",
       "      <td>74d40a28-41f9-4325-bbae-b179bd2c0a38</td>\n",
       "    </tr>\n",
       "    <tr>\n",
       "      <th>29</th>\n",
       "      <td>2019-10-01 00:00:25 UTC</td>\n",
       "      <td>view</td>\n",
       "      <td>19001139</td>\n",
       "      <td>2053013557225718275</td>\n",
       "      <td>NaN</td>\n",
       "      <td>gran-stone</td>\n",
       "      <td>67.58</td>\n",
       "      <td>525734504</td>\n",
       "      <td>83f584ed-c7f7-442e-8ae9-713cb27fdece</td>\n",
       "    </tr>\n",
       "    <tr>\n",
       "      <th>32</th>\n",
       "      <td>2019-10-01 00:00:27 UTC</td>\n",
       "      <td>view</td>\n",
       "      <td>31501072</td>\n",
       "      <td>2053013558031024687</td>\n",
       "      <td>NaN</td>\n",
       "      <td>NaN</td>\n",
       "      <td>165.64</td>\n",
       "      <td>550978835</td>\n",
       "      <td>6280d577-25c8-4147-99a7-abc6048498d6</td>\n",
       "    </tr>\n",
       "    <tr>\n",
       "      <th>33</th>\n",
       "      <td>2019-10-01 00:00:27 UTC</td>\n",
       "      <td>view</td>\n",
       "      <td>10800001</td>\n",
       "      <td>2053013554994348409</td>\n",
       "      <td>NaN</td>\n",
       "      <td>maxwell</td>\n",
       "      <td>32.92</td>\n",
       "      <td>539194858</td>\n",
       "      <td>5fe9d0a0-0de6-47de-a55a-eae9f89475cd</td>\n",
       "    </tr>\n",
       "    <tr>\n",
       "      <th>34</th>\n",
       "      <td>2019-10-01 00:00:28 UTC</td>\n",
       "      <td>view</td>\n",
       "      <td>28600026</td>\n",
       "      <td>2053013558282682943</td>\n",
       "      <td>NaN</td>\n",
       "      <td>NaN</td>\n",
       "      <td>399.73</td>\n",
       "      <td>555447224</td>\n",
       "      <td>889da81c-2cfc-4df6-a038-ed436c79ee80</td>\n",
       "    </tr>\n",
       "    <tr>\n",
       "      <th>35</th>\n",
       "      <td>2019-10-01 00:00:28 UTC</td>\n",
       "      <td>view</td>\n",
       "      <td>26200591</td>\n",
       "      <td>2053013563693335403</td>\n",
       "      <td>NaN</td>\n",
       "      <td>NaN</td>\n",
       "      <td>203.35</td>\n",
       "      <td>548449430</td>\n",
       "      <td>99617d1c-1b5a-42f8-99f1-42ad83a6155f</td>\n",
       "    </tr>\n",
       "    <tr>\n",
       "      <th>42</th>\n",
       "      <td>2019-10-01 00:00:34 UTC</td>\n",
       "      <td>view</td>\n",
       "      <td>26200591</td>\n",
       "      <td>2053013563693335403</td>\n",
       "      <td>NaN</td>\n",
       "      <td>NaN</td>\n",
       "      <td>203.35</td>\n",
       "      <td>555447748</td>\n",
       "      <td>b50d1ae8-1948-4517-8460-09b7601ceef6</td>\n",
       "    </tr>\n",
       "    <tr>\n",
       "      <th>44</th>\n",
       "      <td>2019-10-01 00:00:35 UTC</td>\n",
       "      <td>view</td>\n",
       "      <td>4300070</td>\n",
       "      <td>2053013552385491165</td>\n",
       "      <td>NaN</td>\n",
       "      <td>timberk</td>\n",
       "      <td>38.59</td>\n",
       "      <td>544648245</td>\n",
       "      <td>bb8e28c8-d11f-428a-95e7-056e974fe835</td>\n",
       "    </tr>\n",
       "    <tr>\n",
       "      <th>46</th>\n",
       "      <td>2019-10-01 00:00:36 UTC</td>\n",
       "      <td>view</td>\n",
       "      <td>12712064</td>\n",
       "      <td>2053013553559896355</td>\n",
       "      <td>NaN</td>\n",
       "      <td>triangle</td>\n",
       "      <td>30.89</td>\n",
       "      <td>515454339</td>\n",
       "      <td>828dbd8e-8683-409b-aef6-6a94ac983b45</td>\n",
       "    </tr>\n",
       "    <tr>\n",
       "      <th>53</th>\n",
       "      <td>2019-10-01 00:00:42 UTC</td>\n",
       "      <td>view</td>\n",
       "      <td>26400291</td>\n",
       "      <td>2053013563651392361</td>\n",
       "      <td>NaN</td>\n",
       "      <td>lucente</td>\n",
       "      <td>188.94</td>\n",
       "      <td>551331813</td>\n",
       "      <td>19ded3e3-823b-4f51-ad00-ab84f364f5ef</td>\n",
       "    </tr>\n",
       "    <tr>\n",
       "      <th>55</th>\n",
       "      <td>2019-10-01 00:00:44 UTC</td>\n",
       "      <td>view</td>\n",
       "      <td>23100006</td>\n",
       "      <td>2053013561638126333</td>\n",
       "      <td>NaN</td>\n",
       "      <td>NaN</td>\n",
       "      <td>357.79</td>\n",
       "      <td>513642368</td>\n",
       "      <td>17566c27-0a8f-4506-9f30-c6a2ccbf583b</td>\n",
       "    </tr>\n",
       "    <tr>\n",
       "      <th>56</th>\n",
       "      <td>2019-10-01 00:00:44 UTC</td>\n",
       "      <td>view</td>\n",
       "      <td>31501163</td>\n",
       "      <td>2053013558031024687</td>\n",
       "      <td>NaN</td>\n",
       "      <td>luminarc</td>\n",
       "      <td>128.45</td>\n",
       "      <td>550978835</td>\n",
       "      <td>6280d577-25c8-4147-99a7-abc6048498d6</td>\n",
       "    </tr>\n",
       "    <tr>\n",
       "      <th>58</th>\n",
       "      <td>2019-10-01 00:00:44 UTC</td>\n",
       "      <td>view</td>\n",
       "      <td>26500313</td>\n",
       "      <td>2053013563550729061</td>\n",
       "      <td>NaN</td>\n",
       "      <td>lucente</td>\n",
       "      <td>267.19</td>\n",
       "      <td>525856698</td>\n",
       "      <td>f72ea16b-4ec3-44f8-8fcd-35d89984b744</td>\n",
       "    </tr>\n",
       "    <tr>\n",
       "      <th>60</th>\n",
       "      <td>2019-10-01 00:00:46 UTC</td>\n",
       "      <td>view</td>\n",
       "      <td>4100126</td>\n",
       "      <td>2053013561218695907</td>\n",
       "      <td>NaN</td>\n",
       "      <td>sony</td>\n",
       "      <td>326.62</td>\n",
       "      <td>519885473</td>\n",
       "      <td>b70cb218-db90-4011-b582-0bd237109df1</td>\n",
       "    </tr>\n",
       "    <tr>\n",
       "      <th>61</th>\n",
       "      <td>2019-10-01 00:00:50 UTC</td>\n",
       "      <td>view</td>\n",
       "      <td>19000296</td>\n",
       "      <td>2053013557225718275</td>\n",
       "      <td>NaN</td>\n",
       "      <td>gran-stone</td>\n",
       "      <td>64.93</td>\n",
       "      <td>525734504</td>\n",
       "      <td>83f584ed-c7f7-442e-8ae9-713cb27fdece</td>\n",
       "    </tr>\n",
       "    <tr>\n",
       "      <th>62</th>\n",
       "      <td>2019-10-01 00:00:50 UTC</td>\n",
       "      <td>view</td>\n",
       "      <td>28717211</td>\n",
       "      <td>2053013565882762215</td>\n",
       "      <td>NaN</td>\n",
       "      <td>respect</td>\n",
       "      <td>76.96</td>\n",
       "      <td>555447577</td>\n",
       "      <td>4337a670-6520-4159-aff4-fd620d2599f9</td>\n",
       "    </tr>\n",
       "    <tr>\n",
       "      <th>65</th>\n",
       "      <td>2019-10-01 00:00:51 UTC</td>\n",
       "      <td>view</td>\n",
       "      <td>27500014</td>\n",
       "      <td>2053013554692358509</td>\n",
       "      <td>NaN</td>\n",
       "      <td>redmond</td>\n",
       "      <td>37.98</td>\n",
       "      <td>555217733</td>\n",
       "      <td>74d40a28-41f9-4325-bbae-b179bd2c0a38</td>\n",
       "    </tr>\n",
       "    <tr>\n",
       "      <th>73</th>\n",
       "      <td>2019-10-01 00:01:00 UTC</td>\n",
       "      <td>view</td>\n",
       "      <td>4300262</td>\n",
       "      <td>2053013552385491165</td>\n",
       "      <td>NaN</td>\n",
       "      <td>vitek</td>\n",
       "      <td>72.00</td>\n",
       "      <td>523239174</td>\n",
       "      <td>464a96b0-03ee-420d-92fb-643469379b89</td>\n",
       "    </tr>\n",
       "    <tr>\n",
       "      <th>74</th>\n",
       "      <td>2019-10-01 00:01:02 UTC</td>\n",
       "      <td>view</td>\n",
       "      <td>27500015</td>\n",
       "      <td>2053013554692358509</td>\n",
       "      <td>NaN</td>\n",
       "      <td>kelli</td>\n",
       "      <td>36.60</td>\n",
       "      <td>555217733</td>\n",
       "      <td>74d40a28-41f9-4325-bbae-b179bd2c0a38</td>\n",
       "    </tr>\n",
       "    <tr>\n",
       "      <th>82</th>\n",
       "      <td>2019-10-01 00:01:09 UTC</td>\n",
       "      <td>view</td>\n",
       "      <td>15100337</td>\n",
       "      <td>2053013557024391671</td>\n",
       "      <td>NaN</td>\n",
       "      <td>NaN</td>\n",
       "      <td>257.15</td>\n",
       "      <td>519107250</td>\n",
       "      <td>566511c2-e2e3-422b-b695-cf8e6e792ca8</td>\n",
       "    </tr>\n",
       "    <tr>\n",
       "      <th>83</th>\n",
       "      <td>2019-10-01 00:01:10 UTC</td>\n",
       "      <td>view</td>\n",
       "      <td>4100126</td>\n",
       "      <td>2053013561218695907</td>\n",
       "      <td>NaN</td>\n",
       "      <td>sony</td>\n",
       "      <td>326.62</td>\n",
       "      <td>519885473</td>\n",
       "      <td>b70cb218-db90-4011-b582-0bd237109df1</td>\n",
       "    </tr>\n",
       "    <tr>\n",
       "      <th>85</th>\n",
       "      <td>2019-10-01 00:01:12 UTC</td>\n",
       "      <td>view</td>\n",
       "      <td>26500144</td>\n",
       "      <td>2053013563550729061</td>\n",
       "      <td>NaN</td>\n",
       "      <td>lucente</td>\n",
       "      <td>259.21</td>\n",
       "      <td>525856698</td>\n",
       "      <td>f72ea16b-4ec3-44f8-8fcd-35d89984b744</td>\n",
       "    </tr>\n",
       "    <tr>\n",
       "      <th>87</th>\n",
       "      <td>2019-10-01 00:01:14 UTC</td>\n",
       "      <td>view</td>\n",
       "      <td>32601078</td>\n",
       "      <td>2053013566587404305</td>\n",
       "      <td>NaN</td>\n",
       "      <td>okuma</td>\n",
       "      <td>32.18</td>\n",
       "      <td>513696314</td>\n",
       "      <td>1c073854-b838-4cf9-bfe9-b30b742b1751</td>\n",
       "    </tr>\n",
       "    <tr>\n",
       "      <th>90</th>\n",
       "      <td>2019-10-01 00:01:17 UTC</td>\n",
       "      <td>view</td>\n",
       "      <td>50500080</td>\n",
       "      <td>2127425438190928416</td>\n",
       "      <td>NaN</td>\n",
       "      <td>krause</td>\n",
       "      <td>77.69</td>\n",
       "      <td>513642368</td>\n",
       "      <td>17566c27-0a8f-4506-9f30-c6a2ccbf583b</td>\n",
       "    </tr>\n",
       "    <tr>\n",
       "      <th>...</th>\n",
       "      <td>...</td>\n",
       "      <td>...</td>\n",
       "      <td>...</td>\n",
       "      <td>...</td>\n",
       "      <td>...</td>\n",
       "      <td>...</td>\n",
       "      <td>...</td>\n",
       "      <td>...</td>\n",
       "      <td>...</td>\n",
       "    </tr>\n",
       "    <tr>\n",
       "      <th>274787</th>\n",
       "      <td>2019-10-31 23:59:24 UTC</td>\n",
       "      <td>view</td>\n",
       "      <td>42200138</td>\n",
       "      <td>2095518917320508073</td>\n",
       "      <td>NaN</td>\n",
       "      <td>NaN</td>\n",
       "      <td>10.81</td>\n",
       "      <td>515474976</td>\n",
       "      <td>222c370b-0fac-4287-982b-e340f5eaf3a1</td>\n",
       "    </tr>\n",
       "    <tr>\n",
       "      <th>274788</th>\n",
       "      <td>2019-10-31 23:59:25 UTC</td>\n",
       "      <td>view</td>\n",
       "      <td>5100607</td>\n",
       "      <td>2053013553375346967</td>\n",
       "      <td>NaN</td>\n",
       "      <td>ritmix</td>\n",
       "      <td>24.71</td>\n",
       "      <td>556727865</td>\n",
       "      <td>4478e949-dcde-412f-a1aa-987c62243398</td>\n",
       "    </tr>\n",
       "    <tr>\n",
       "      <th>274789</th>\n",
       "      <td>2019-10-31 23:59:25 UTC</td>\n",
       "      <td>view</td>\n",
       "      <td>12711986</td>\n",
       "      <td>2053013553559896355</td>\n",
       "      <td>NaN</td>\n",
       "      <td>triangle</td>\n",
       "      <td>39.90</td>\n",
       "      <td>513131687</td>\n",
       "      <td>f055b83d-02a3-43ca-bc16-2128c26c671b</td>\n",
       "    </tr>\n",
       "    <tr>\n",
       "      <th>274792</th>\n",
       "      <td>2019-10-31 23:59:26 UTC</td>\n",
       "      <td>view</td>\n",
       "      <td>13400306</td>\n",
       "      <td>2053013557066334713</td>\n",
       "      <td>NaN</td>\n",
       "      <td>NaN</td>\n",
       "      <td>246.85</td>\n",
       "      <td>565762943</td>\n",
       "      <td>f33d9a2a-2ed1-464a-a116-fa239845b613</td>\n",
       "    </tr>\n",
       "    <tr>\n",
       "      <th>274794</th>\n",
       "      <td>2019-10-31 23:59:26 UTC</td>\n",
       "      <td>view</td>\n",
       "      <td>37900033</td>\n",
       "      <td>2152167773222993940</td>\n",
       "      <td>NaN</td>\n",
       "      <td>merelani</td>\n",
       "      <td>97.81</td>\n",
       "      <td>565098257</td>\n",
       "      <td>dfbfd3f3-9347-45a1-b572-ec3897d327dc</td>\n",
       "    </tr>\n",
       "    <tr>\n",
       "      <th>274795</th>\n",
       "      <td>2019-10-31 23:59:27 UTC</td>\n",
       "      <td>view</td>\n",
       "      <td>17300316</td>\n",
       "      <td>2053013553853497655</td>\n",
       "      <td>NaN</td>\n",
       "      <td>trussardi</td>\n",
       "      <td>38.49</td>\n",
       "      <td>563769246</td>\n",
       "      <td>95ab5d5d-be19-4118-84e9-534d65b7a687</td>\n",
       "    </tr>\n",
       "    <tr>\n",
       "      <th>274801</th>\n",
       "      <td>2019-10-31 23:59:29 UTC</td>\n",
       "      <td>view</td>\n",
       "      <td>34600104</td>\n",
       "      <td>2060981320581906480</td>\n",
       "      <td>NaN</td>\n",
       "      <td>fenix</td>\n",
       "      <td>59.18</td>\n",
       "      <td>512416379</td>\n",
       "      <td>4dfe2c67-e537-4dc2-ae69-0b65263db091</td>\n",
       "    </tr>\n",
       "    <tr>\n",
       "      <th>274802</th>\n",
       "      <td>2019-10-31 23:59:29 UTC</td>\n",
       "      <td>view</td>\n",
       "      <td>17302664</td>\n",
       "      <td>2053013553853497655</td>\n",
       "      <td>NaN</td>\n",
       "      <td>creed</td>\n",
       "      <td>28.31</td>\n",
       "      <td>561587266</td>\n",
       "      <td>755422e7-9040-477b-9bd2-6a6e8fd97387</td>\n",
       "    </tr>\n",
       "    <tr>\n",
       "      <th>274808</th>\n",
       "      <td>2019-10-31 23:59:31 UTC</td>\n",
       "      <td>view</td>\n",
       "      <td>16000004</td>\n",
       "      <td>2053013558223962683</td>\n",
       "      <td>NaN</td>\n",
       "      <td>rondell</td>\n",
       "      <td>43.73</td>\n",
       "      <td>516203869</td>\n",
       "      <td>f57ed95e-820f-40ef-ab55-09f87fdf4703</td>\n",
       "    </tr>\n",
       "    <tr>\n",
       "      <th>274811</th>\n",
       "      <td>2019-10-31 23:59:33 UTC</td>\n",
       "      <td>view</td>\n",
       "      <td>13105144</td>\n",
       "      <td>2053013553526341921</td>\n",
       "      <td>NaN</td>\n",
       "      <td>skad</td>\n",
       "      <td>180.18</td>\n",
       "      <td>558616292</td>\n",
       "      <td>b94f66e7-6fbc-4e0b-a381-24186c9ca89b</td>\n",
       "    </tr>\n",
       "    <tr>\n",
       "      <th>274812</th>\n",
       "      <td>2019-10-31 23:59:33 UTC</td>\n",
       "      <td>view</td>\n",
       "      <td>2200885</td>\n",
       "      <td>2053013560555995845</td>\n",
       "      <td>NaN</td>\n",
       "      <td>nikon</td>\n",
       "      <td>220.17</td>\n",
       "      <td>517811633</td>\n",
       "      <td>97dc1638-90ea-450a-8499-a31fd8f2e9b1</td>\n",
       "    </tr>\n",
       "    <tr>\n",
       "      <th>274814</th>\n",
       "      <td>2019-10-31 23:59:34 UTC</td>\n",
       "      <td>view</td>\n",
       "      <td>31501191</td>\n",
       "      <td>2053013558031024687</td>\n",
       "      <td>NaN</td>\n",
       "      <td>luminarc</td>\n",
       "      <td>100.36</td>\n",
       "      <td>490267683</td>\n",
       "      <td>e20858c6-a702-45fc-b316-b7adae772ecf</td>\n",
       "    </tr>\n",
       "    <tr>\n",
       "      <th>274817</th>\n",
       "      <td>2019-10-31 23:59:35 UTC</td>\n",
       "      <td>view</td>\n",
       "      <td>20100131</td>\n",
       "      <td>2053013559473865347</td>\n",
       "      <td>NaN</td>\n",
       "      <td>NaN</td>\n",
       "      <td>17.99</td>\n",
       "      <td>565131688</td>\n",
       "      <td>95c9377b-f56e-4775-ae49-abd8d952915b</td>\n",
       "    </tr>\n",
       "    <tr>\n",
       "      <th>274818</th>\n",
       "      <td>2019-10-31 23:59:36 UTC</td>\n",
       "      <td>view</td>\n",
       "      <td>15100145</td>\n",
       "      <td>2053013557024391671</td>\n",
       "      <td>NaN</td>\n",
       "      <td>lider</td>\n",
       "      <td>345.93</td>\n",
       "      <td>513506820</td>\n",
       "      <td>60123f50-1fa6-4fa0-8e60-22d806acb3e4</td>\n",
       "    </tr>\n",
       "    <tr>\n",
       "      <th>274823</th>\n",
       "      <td>2019-10-31 23:59:39 UTC</td>\n",
       "      <td>view</td>\n",
       "      <td>34600102</td>\n",
       "      <td>2060981320581906480</td>\n",
       "      <td>NaN</td>\n",
       "      <td>fenix</td>\n",
       "      <td>77.20</td>\n",
       "      <td>512416379</td>\n",
       "      <td>4dfe2c67-e537-4dc2-ae69-0b65263db091</td>\n",
       "    </tr>\n",
       "    <tr>\n",
       "      <th>274829</th>\n",
       "      <td>2019-10-31 23:59:43 UTC</td>\n",
       "      <td>view</td>\n",
       "      <td>12719732</td>\n",
       "      <td>2053013553559896355</td>\n",
       "      <td>NaN</td>\n",
       "      <td>ovation</td>\n",
       "      <td>57.14</td>\n",
       "      <td>542985695</td>\n",
       "      <td>2ec95ba2-fd6a-43ea-8aac-84a23e807ed6</td>\n",
       "    </tr>\n",
       "    <tr>\n",
       "      <th>274830</th>\n",
       "      <td>2019-10-31 23:59:43 UTC</td>\n",
       "      <td>view</td>\n",
       "      <td>15800070</td>\n",
       "      <td>2053013560144954031</td>\n",
       "      <td>NaN</td>\n",
       "      <td>huter</td>\n",
       "      <td>67.22</td>\n",
       "      <td>540634732</td>\n",
       "      <td>27999416-d083-44c4-aedd-fa36be5080ea</td>\n",
       "    </tr>\n",
       "    <tr>\n",
       "      <th>274833</th>\n",
       "      <td>2019-10-31 23:59:44 UTC</td>\n",
       "      <td>view</td>\n",
       "      <td>26019863</td>\n",
       "      <td>2053013562837697343</td>\n",
       "      <td>NaN</td>\n",
       "      <td>NaN</td>\n",
       "      <td>11.79</td>\n",
       "      <td>566280860</td>\n",
       "      <td>341a87d8-8cf4-4b4a-8b7d-749380697af1</td>\n",
       "    </tr>\n",
       "    <tr>\n",
       "      <th>274835</th>\n",
       "      <td>2019-10-31 23:59:46 UTC</td>\n",
       "      <td>view</td>\n",
       "      <td>41100040</td>\n",
       "      <td>2090228413959766319</td>\n",
       "      <td>NaN</td>\n",
       "      <td>brw</td>\n",
       "      <td>93.95</td>\n",
       "      <td>562234311</td>\n",
       "      <td>4cbd502f-b1df-4bcf-a1cb-78bb18c37e70</td>\n",
       "    </tr>\n",
       "    <tr>\n",
       "      <th>274843</th>\n",
       "      <td>2019-10-31 23:59:50 UTC</td>\n",
       "      <td>view</td>\n",
       "      <td>22700524</td>\n",
       "      <td>2053013556168753601</td>\n",
       "      <td>NaN</td>\n",
       "      <td>force</td>\n",
       "      <td>239.36</td>\n",
       "      <td>548645138</td>\n",
       "      <td>4e61a6a1-0876-4acb-a913-a25c690982e1</td>\n",
       "    </tr>\n",
       "    <tr>\n",
       "      <th>274844</th>\n",
       "      <td>2019-10-31 23:59:50 UTC</td>\n",
       "      <td>view</td>\n",
       "      <td>13104838</td>\n",
       "      <td>2053013553526341921</td>\n",
       "      <td>NaN</td>\n",
       "      <td>remain</td>\n",
       "      <td>207.98</td>\n",
       "      <td>525530673</td>\n",
       "      <td>58da4d41-bb51-4bc1-99e1-9ae571957fd6</td>\n",
       "    </tr>\n",
       "    <tr>\n",
       "      <th>274849</th>\n",
       "      <td>2019-10-31 23:59:52 UTC</td>\n",
       "      <td>view</td>\n",
       "      <td>5100767</td>\n",
       "      <td>2053013553375346967</td>\n",
       "      <td>NaN</td>\n",
       "      <td>samsung</td>\n",
       "      <td>29.86</td>\n",
       "      <td>556727865</td>\n",
       "      <td>4478e949-dcde-412f-a1aa-987c62243398</td>\n",
       "    </tr>\n",
       "    <tr>\n",
       "      <th>274852</th>\n",
       "      <td>2019-10-31 23:59:53 UTC</td>\n",
       "      <td>view</td>\n",
       "      <td>52000065</td>\n",
       "      <td>2137704922018218396</td>\n",
       "      <td>NaN</td>\n",
       "      <td>tomfarr</td>\n",
       "      <td>75.16</td>\n",
       "      <td>517702267</td>\n",
       "      <td>42599d98-752a-4fd8-a485-d8d03a753dbb</td>\n",
       "    </tr>\n",
       "    <tr>\n",
       "      <th>274853</th>\n",
       "      <td>2019-10-31 23:59:53 UTC</td>\n",
       "      <td>view</td>\n",
       "      <td>31000152</td>\n",
       "      <td>2055156924315337497</td>\n",
       "      <td>NaN</td>\n",
       "      <td>humminbird</td>\n",
       "      <td>733.61</td>\n",
       "      <td>565841773</td>\n",
       "      <td>5b102238-1d7c-455a-91b9-11a8299b3d7d</td>\n",
       "    </tr>\n",
       "    <tr>\n",
       "      <th>274857</th>\n",
       "      <td>2019-10-31 23:59:54 UTC</td>\n",
       "      <td>view</td>\n",
       "      <td>25600078</td>\n",
       "      <td>2053013559675191951</td>\n",
       "      <td>NaN</td>\n",
       "      <td>NaN</td>\n",
       "      <td>81.86</td>\n",
       "      <td>522031876</td>\n",
       "      <td>39d48518-9fca-4df3-9724-950cd6ec44eb</td>\n",
       "    </tr>\n",
       "    <tr>\n",
       "      <th>274860</th>\n",
       "      <td>2019-10-31 23:59:55 UTC</td>\n",
       "      <td>view</td>\n",
       "      <td>42200036</td>\n",
       "      <td>2095518917320508073</td>\n",
       "      <td>NaN</td>\n",
       "      <td>NaN</td>\n",
       "      <td>17.50</td>\n",
       "      <td>515474976</td>\n",
       "      <td>222c370b-0fac-4287-982b-e340f5eaf3a1</td>\n",
       "    </tr>\n",
       "    <tr>\n",
       "      <th>274865</th>\n",
       "      <td>2019-10-31 23:59:58 UTC</td>\n",
       "      <td>view</td>\n",
       "      <td>12800151</td>\n",
       "      <td>2053013552788144369</td>\n",
       "      <td>NaN</td>\n",
       "      <td>sony</td>\n",
       "      <td>8.49</td>\n",
       "      <td>544578298</td>\n",
       "      <td>fb46b2fb-493b-477c-8d18-ea1c24c04020</td>\n",
       "    </tr>\n",
       "    <tr>\n",
       "      <th>274866</th>\n",
       "      <td>2019-10-31 23:59:58 UTC</td>\n",
       "      <td>view</td>\n",
       "      <td>5100816</td>\n",
       "      <td>2053013553375346967</td>\n",
       "      <td>NaN</td>\n",
       "      <td>xiaomi</td>\n",
       "      <td>29.58</td>\n",
       "      <td>543653226</td>\n",
       "      <td>ab310b47-1eb2-45f8-8e5b-21ab2010925a</td>\n",
       "    </tr>\n",
       "    <tr>\n",
       "      <th>274870</th>\n",
       "      <td>2019-10-31 23:59:58 UTC</td>\n",
       "      <td>view</td>\n",
       "      <td>10800172</td>\n",
       "      <td>2053013554994348409</td>\n",
       "      <td>NaN</td>\n",
       "      <td>redmond</td>\n",
       "      <td>61.75</td>\n",
       "      <td>527322328</td>\n",
       "      <td>5054190a-46cb-4211-a8f1-16fc1a060ed8</td>\n",
       "    </tr>\n",
       "    <tr>\n",
       "      <th>274873</th>\n",
       "      <td>2019-10-31 23:59:59 UTC</td>\n",
       "      <td>view</td>\n",
       "      <td>13300120</td>\n",
       "      <td>2053013557166998015</td>\n",
       "      <td>NaN</td>\n",
       "      <td>swisshome</td>\n",
       "      <td>155.73</td>\n",
       "      <td>525266378</td>\n",
       "      <td>6e57d2d7-6022-46e6-81d6-fa77f14cefd8</td>\n",
       "    </tr>\n",
       "  </tbody>\n",
       "</table>\n",
       "<p>13515609 rows × 9 columns</p>\n",
       "</div>"
      ],
      "text/plain": [
       "                     event_time event_type  product_id          category_id  \\\n",
       "0       2019-10-01 00:00:00 UTC       view    44600062  2103807459595387724   \n",
       "6       2019-10-01 00:00:08 UTC       view    17300353  2053013553853497655   \n",
       "7       2019-10-01 00:00:08 UTC       view    31500053  2053013558031024687   \n",
       "13      2019-10-01 00:00:15 UTC       view    44600062  2103807459595387724   \n",
       "15      2019-10-01 00:00:17 UTC       view    23100006  2053013561638126333   \n",
       "26      2019-10-01 00:00:24 UTC       view    34700031  2061717937420501730   \n",
       "28      2019-10-01 00:00:25 UTC       view    27500014  2053013554692358509   \n",
       "29      2019-10-01 00:00:25 UTC       view    19001139  2053013557225718275   \n",
       "32      2019-10-01 00:00:27 UTC       view    31501072  2053013558031024687   \n",
       "33      2019-10-01 00:00:27 UTC       view    10800001  2053013554994348409   \n",
       "34      2019-10-01 00:00:28 UTC       view    28600026  2053013558282682943   \n",
       "35      2019-10-01 00:00:28 UTC       view    26200591  2053013563693335403   \n",
       "42      2019-10-01 00:00:34 UTC       view    26200591  2053013563693335403   \n",
       "44      2019-10-01 00:00:35 UTC       view     4300070  2053013552385491165   \n",
       "46      2019-10-01 00:00:36 UTC       view    12712064  2053013553559896355   \n",
       "53      2019-10-01 00:00:42 UTC       view    26400291  2053013563651392361   \n",
       "55      2019-10-01 00:00:44 UTC       view    23100006  2053013561638126333   \n",
       "56      2019-10-01 00:00:44 UTC       view    31501163  2053013558031024687   \n",
       "58      2019-10-01 00:00:44 UTC       view    26500313  2053013563550729061   \n",
       "60      2019-10-01 00:00:46 UTC       view     4100126  2053013561218695907   \n",
       "61      2019-10-01 00:00:50 UTC       view    19000296  2053013557225718275   \n",
       "62      2019-10-01 00:00:50 UTC       view    28717211  2053013565882762215   \n",
       "65      2019-10-01 00:00:51 UTC       view    27500014  2053013554692358509   \n",
       "73      2019-10-01 00:01:00 UTC       view     4300262  2053013552385491165   \n",
       "74      2019-10-01 00:01:02 UTC       view    27500015  2053013554692358509   \n",
       "82      2019-10-01 00:01:09 UTC       view    15100337  2053013557024391671   \n",
       "83      2019-10-01 00:01:10 UTC       view     4100126  2053013561218695907   \n",
       "85      2019-10-01 00:01:12 UTC       view    26500144  2053013563550729061   \n",
       "87      2019-10-01 00:01:14 UTC       view    32601078  2053013566587404305   \n",
       "90      2019-10-01 00:01:17 UTC       view    50500080  2127425438190928416   \n",
       "...                         ...        ...         ...                  ...   \n",
       "274787  2019-10-31 23:59:24 UTC       view    42200138  2095518917320508073   \n",
       "274788  2019-10-31 23:59:25 UTC       view     5100607  2053013553375346967   \n",
       "274789  2019-10-31 23:59:25 UTC       view    12711986  2053013553559896355   \n",
       "274792  2019-10-31 23:59:26 UTC       view    13400306  2053013557066334713   \n",
       "274794  2019-10-31 23:59:26 UTC       view    37900033  2152167773222993940   \n",
       "274795  2019-10-31 23:59:27 UTC       view    17300316  2053013553853497655   \n",
       "274801  2019-10-31 23:59:29 UTC       view    34600104  2060981320581906480   \n",
       "274802  2019-10-31 23:59:29 UTC       view    17302664  2053013553853497655   \n",
       "274808  2019-10-31 23:59:31 UTC       view    16000004  2053013558223962683   \n",
       "274811  2019-10-31 23:59:33 UTC       view    13105144  2053013553526341921   \n",
       "274812  2019-10-31 23:59:33 UTC       view     2200885  2053013560555995845   \n",
       "274814  2019-10-31 23:59:34 UTC       view    31501191  2053013558031024687   \n",
       "274817  2019-10-31 23:59:35 UTC       view    20100131  2053013559473865347   \n",
       "274818  2019-10-31 23:59:36 UTC       view    15100145  2053013557024391671   \n",
       "274823  2019-10-31 23:59:39 UTC       view    34600102  2060981320581906480   \n",
       "274829  2019-10-31 23:59:43 UTC       view    12719732  2053013553559896355   \n",
       "274830  2019-10-31 23:59:43 UTC       view    15800070  2053013560144954031   \n",
       "274833  2019-10-31 23:59:44 UTC       view    26019863  2053013562837697343   \n",
       "274835  2019-10-31 23:59:46 UTC       view    41100040  2090228413959766319   \n",
       "274843  2019-10-31 23:59:50 UTC       view    22700524  2053013556168753601   \n",
       "274844  2019-10-31 23:59:50 UTC       view    13104838  2053013553526341921   \n",
       "274849  2019-10-31 23:59:52 UTC       view     5100767  2053013553375346967   \n",
       "274852  2019-10-31 23:59:53 UTC       view    52000065  2137704922018218396   \n",
       "274853  2019-10-31 23:59:53 UTC       view    31000152  2055156924315337497   \n",
       "274857  2019-10-31 23:59:54 UTC       view    25600078  2053013559675191951   \n",
       "274860  2019-10-31 23:59:55 UTC       view    42200036  2095518917320508073   \n",
       "274865  2019-10-31 23:59:58 UTC       view    12800151  2053013552788144369   \n",
       "274866  2019-10-31 23:59:58 UTC       view     5100816  2053013553375346967   \n",
       "274870  2019-10-31 23:59:58 UTC       view    10800172  2053013554994348409   \n",
       "274873  2019-10-31 23:59:59 UTC       view    13300120  2053013557166998015   \n",
       "\n",
       "       category_code       brand   price    user_id  \\\n",
       "0                NaN    shiseido   35.79  541312140   \n",
       "6                NaN       creed  380.96  555447699   \n",
       "7                NaN    luminarc   41.16  550978835   \n",
       "13               NaN    shiseido   35.79  541312140   \n",
       "15               NaN         NaN  357.79  513642368   \n",
       "26               NaN         NaN  151.87  539512263   \n",
       "28               NaN     redmond   37.98  555217733   \n",
       "29               NaN  gran-stone   67.58  525734504   \n",
       "32               NaN         NaN  165.64  550978835   \n",
       "33               NaN     maxwell   32.92  539194858   \n",
       "34               NaN         NaN  399.73  555447224   \n",
       "35               NaN         NaN  203.35  548449430   \n",
       "42               NaN         NaN  203.35  555447748   \n",
       "44               NaN     timberk   38.59  544648245   \n",
       "46               NaN    triangle   30.89  515454339   \n",
       "53               NaN     lucente  188.94  551331813   \n",
       "55               NaN         NaN  357.79  513642368   \n",
       "56               NaN    luminarc  128.45  550978835   \n",
       "58               NaN     lucente  267.19  525856698   \n",
       "60               NaN        sony  326.62  519885473   \n",
       "61               NaN  gran-stone   64.93  525734504   \n",
       "62               NaN     respect   76.96  555447577   \n",
       "65               NaN     redmond   37.98  555217733   \n",
       "73               NaN       vitek   72.00  523239174   \n",
       "74               NaN       kelli   36.60  555217733   \n",
       "82               NaN         NaN  257.15  519107250   \n",
       "83               NaN        sony  326.62  519885473   \n",
       "85               NaN     lucente  259.21  525856698   \n",
       "87               NaN       okuma   32.18  513696314   \n",
       "90               NaN      krause   77.69  513642368   \n",
       "...              ...         ...     ...        ...   \n",
       "274787           NaN         NaN   10.81  515474976   \n",
       "274788           NaN      ritmix   24.71  556727865   \n",
       "274789           NaN    triangle   39.90  513131687   \n",
       "274792           NaN         NaN  246.85  565762943   \n",
       "274794           NaN    merelani   97.81  565098257   \n",
       "274795           NaN   trussardi   38.49  563769246   \n",
       "274801           NaN       fenix   59.18  512416379   \n",
       "274802           NaN       creed   28.31  561587266   \n",
       "274808           NaN     rondell   43.73  516203869   \n",
       "274811           NaN        skad  180.18  558616292   \n",
       "274812           NaN       nikon  220.17  517811633   \n",
       "274814           NaN    luminarc  100.36  490267683   \n",
       "274817           NaN         NaN   17.99  565131688   \n",
       "274818           NaN       lider  345.93  513506820   \n",
       "274823           NaN       fenix   77.20  512416379   \n",
       "274829           NaN     ovation   57.14  542985695   \n",
       "274830           NaN       huter   67.22  540634732   \n",
       "274833           NaN         NaN   11.79  566280860   \n",
       "274835           NaN         brw   93.95  562234311   \n",
       "274843           NaN       force  239.36  548645138   \n",
       "274844           NaN      remain  207.98  525530673   \n",
       "274849           NaN     samsung   29.86  556727865   \n",
       "274852           NaN     tomfarr   75.16  517702267   \n",
       "274853           NaN  humminbird  733.61  565841773   \n",
       "274857           NaN         NaN   81.86  522031876   \n",
       "274860           NaN         NaN   17.50  515474976   \n",
       "274865           NaN        sony    8.49  544578298   \n",
       "274866           NaN      xiaomi   29.58  543653226   \n",
       "274870           NaN     redmond   61.75  527322328   \n",
       "274873           NaN   swisshome  155.73  525266378   \n",
       "\n",
       "                                user_session  \n",
       "0       72d76fde-8bb3-4e00-8c23-a032dfed738c  \n",
       "6       4fe811e9-91de-46da-90c3-bbd87ed3a65d  \n",
       "7       6280d577-25c8-4147-99a7-abc6048498d6  \n",
       "13      72d76fde-8bb3-4e00-8c23-a032dfed738c  \n",
       "15      17566c27-0a8f-4506-9f30-c6a2ccbf583b  \n",
       "26      f27a45f8-fb98-459a-96a6-45271f56a987  \n",
       "28      74d40a28-41f9-4325-bbae-b179bd2c0a38  \n",
       "29      83f584ed-c7f7-442e-8ae9-713cb27fdece  \n",
       "32      6280d577-25c8-4147-99a7-abc6048498d6  \n",
       "33      5fe9d0a0-0de6-47de-a55a-eae9f89475cd  \n",
       "34      889da81c-2cfc-4df6-a038-ed436c79ee80  \n",
       "35      99617d1c-1b5a-42f8-99f1-42ad83a6155f  \n",
       "42      b50d1ae8-1948-4517-8460-09b7601ceef6  \n",
       "44      bb8e28c8-d11f-428a-95e7-056e974fe835  \n",
       "46      828dbd8e-8683-409b-aef6-6a94ac983b45  \n",
       "53      19ded3e3-823b-4f51-ad00-ab84f364f5ef  \n",
       "55      17566c27-0a8f-4506-9f30-c6a2ccbf583b  \n",
       "56      6280d577-25c8-4147-99a7-abc6048498d6  \n",
       "58      f72ea16b-4ec3-44f8-8fcd-35d89984b744  \n",
       "60      b70cb218-db90-4011-b582-0bd237109df1  \n",
       "61      83f584ed-c7f7-442e-8ae9-713cb27fdece  \n",
       "62      4337a670-6520-4159-aff4-fd620d2599f9  \n",
       "65      74d40a28-41f9-4325-bbae-b179bd2c0a38  \n",
       "73      464a96b0-03ee-420d-92fb-643469379b89  \n",
       "74      74d40a28-41f9-4325-bbae-b179bd2c0a38  \n",
       "82      566511c2-e2e3-422b-b695-cf8e6e792ca8  \n",
       "83      b70cb218-db90-4011-b582-0bd237109df1  \n",
       "85      f72ea16b-4ec3-44f8-8fcd-35d89984b744  \n",
       "87      1c073854-b838-4cf9-bfe9-b30b742b1751  \n",
       "90      17566c27-0a8f-4506-9f30-c6a2ccbf583b  \n",
       "...                                      ...  \n",
       "274787  222c370b-0fac-4287-982b-e340f5eaf3a1  \n",
       "274788  4478e949-dcde-412f-a1aa-987c62243398  \n",
       "274789  f055b83d-02a3-43ca-bc16-2128c26c671b  \n",
       "274792  f33d9a2a-2ed1-464a-a116-fa239845b613  \n",
       "274794  dfbfd3f3-9347-45a1-b572-ec3897d327dc  \n",
       "274795  95ab5d5d-be19-4118-84e9-534d65b7a687  \n",
       "274801  4dfe2c67-e537-4dc2-ae69-0b65263db091  \n",
       "274802  755422e7-9040-477b-9bd2-6a6e8fd97387  \n",
       "274808  f57ed95e-820f-40ef-ab55-09f87fdf4703  \n",
       "274811  b94f66e7-6fbc-4e0b-a381-24186c9ca89b  \n",
       "274812  97dc1638-90ea-450a-8499-a31fd8f2e9b1  \n",
       "274814  e20858c6-a702-45fc-b316-b7adae772ecf  \n",
       "274817  95c9377b-f56e-4775-ae49-abd8d952915b  \n",
       "274818  60123f50-1fa6-4fa0-8e60-22d806acb3e4  \n",
       "274823  4dfe2c67-e537-4dc2-ae69-0b65263db091  \n",
       "274829  2ec95ba2-fd6a-43ea-8aac-84a23e807ed6  \n",
       "274830  27999416-d083-44c4-aedd-fa36be5080ea  \n",
       "274833  341a87d8-8cf4-4b4a-8b7d-749380697af1  \n",
       "274835  4cbd502f-b1df-4bcf-a1cb-78bb18c37e70  \n",
       "274843  4e61a6a1-0876-4acb-a913-a25c690982e1  \n",
       "274844  58da4d41-bb51-4bc1-99e1-9ae571957fd6  \n",
       "274849  4478e949-dcde-412f-a1aa-987c62243398  \n",
       "274852  42599d98-752a-4fd8-a485-d8d03a753dbb  \n",
       "274853  5b102238-1d7c-455a-91b9-11a8299b3d7d  \n",
       "274857  39d48518-9fca-4df3-9724-950cd6ec44eb  \n",
       "274860  222c370b-0fac-4287-982b-e340f5eaf3a1  \n",
       "274865  fb46b2fb-493b-477c-8d18-ea1c24c04020  \n",
       "274866  ab310b47-1eb2-45f8-8e5b-21ab2010925a  \n",
       "274870  5054190a-46cb-4211-a8f1-16fc1a060ed8  \n",
       "274873  6e57d2d7-6022-46e6-81d6-fa77f14cefd8  \n",
       "\n",
       "[13515609 rows x 9 columns]"
      ]
     },
     "execution_count": 10,
     "metadata": {},
     "output_type": "execute_result"
    }
   ],
   "source": [
    "#to check records with category as null value\n",
    "df[df['category_code'].isnull()].compute()"
   ]
  },
  {
   "cell_type": "markdown",
   "metadata": {},
   "source": [
    "Let's check if we can derive missing category names from their id"
   ]
  },
  {
   "cell_type": "code",
   "execution_count": 11,
   "metadata": {},
   "outputs": [
    {
     "data": {
      "text/plain": [
       "5493"
      ]
     },
     "execution_count": 11,
     "metadata": {},
     "output_type": "execute_result"
    }
   ],
   "source": [
    "cat = df[df['category_id'] == 2103807459595387724]['category_code']\n",
    "len(cat)"
   ]
  },
  {
   "cell_type": "code",
   "execution_count": 12,
   "metadata": {},
   "outputs": [
    {
     "data": {
      "text/plain": [
       "5493"
      ]
     },
     "execution_count": 12,
     "metadata": {},
     "output_type": "execute_result"
    }
   ],
   "source": [
    "cat.isnull().sum().compute()"
   ]
  },
  {
   "cell_type": "code",
   "execution_count": 13,
   "metadata": {},
   "outputs": [
    {
     "name": "stdout",
     "output_type": "stream",
     "text": [
      "352114\n",
      "352114\n"
     ]
    }
   ],
   "source": [
    "cat2 = df[df['category_id'] == 2053013553853497655]['category_code']\n",
    "print(len(cat2))\n",
    "print(cat2.isnull().sum().compute())"
   ]
  },
  {
   "cell_type": "code",
   "execution_count": 14,
   "metadata": {},
   "outputs": [
    {
     "name": "stdout",
     "output_type": "stream",
     "text": [
      "126087\n",
      "126087\n"
     ]
    }
   ],
   "source": [
    "cat3 = df[df['category_id'] == 2053013558031024687]['category_code']\n",
    "print(len(cat3))\n",
    "print(cat3.isnull().sum().compute())"
   ]
  },
  {
   "cell_type": "markdown",
   "metadata": {},
   "source": [
    "So, the category code with null values cannot be retrived via id because all codes are nulls for those category ids. So, we can impute or drop the rows."
   ]
  },
  {
   "cell_type": "code",
   "execution_count": 9,
   "metadata": {},
   "outputs": [],
   "source": [
    "#let's impute the missing values to save data loss further as huge number of records have missing category_code and brand\n",
    "#df = df['category_code'].fillna('No category_code')"
   ]
  },
  {
   "cell_type": "markdown",
   "metadata": {},
   "source": [
    "Known bug with dask version for fome functions like fillna - 'Series getitem in only supported for other series objects with matching partition structure'. The upgrade version(2.3.0) might also break some features in app. So, I will perform the data cleaning group wise as below using pandas."
   ]
  },
  {
   "cell_type": "markdown",
   "metadata": {},
   "source": [
    "### We need to change datatype of event_time column and missing values in other columns. It is hangled in below section of data cleaning"
   ]
  },
  {
   "cell_type": "code",
   "execution_count": 15,
   "metadata": {},
   "outputs": [
    {
     "data": {
      "text/plain": [
       "89"
      ]
     },
     "execution_count": 15,
     "metadata": {},
     "output_type": "execute_result"
    }
   ],
   "source": [
    "#checking number of partitions\n",
    "df.npartitions"
   ]
  },
  {
   "cell_type": "code",
   "execution_count": 4,
   "metadata": {},
   "outputs": [
    {
     "data": {
      "text/html": [
       "<div>\n",
       "<style scoped>\n",
       "    .dataframe tbody tr th:only-of-type {\n",
       "        vertical-align: middle;\n",
       "    }\n",
       "\n",
       "    .dataframe tbody tr th {\n",
       "        vertical-align: top;\n",
       "    }\n",
       "\n",
       "    .dataframe thead th {\n",
       "        text-align: right;\n",
       "    }\n",
       "</style>\n",
       "<table border=\"1\" class=\"dataframe\">\n",
       "  <thead>\n",
       "    <tr style=\"text-align: right;\">\n",
       "      <th></th>\n",
       "      <th>event_time</th>\n",
       "      <th>event_type</th>\n",
       "      <th>product_id</th>\n",
       "      <th>category_id</th>\n",
       "      <th>category_code</th>\n",
       "      <th>brand</th>\n",
       "      <th>price</th>\n",
       "      <th>user_session</th>\n",
       "    </tr>\n",
       "    <tr>\n",
       "      <th>user_id</th>\n",
       "      <th></th>\n",
       "      <th></th>\n",
       "      <th></th>\n",
       "      <th></th>\n",
       "      <th></th>\n",
       "      <th></th>\n",
       "      <th></th>\n",
       "      <th></th>\n",
       "    </tr>\n",
       "  </thead>\n",
       "  <tbody>\n",
       "    <tr>\n",
       "      <th>244951053</th>\n",
       "      <td>15</td>\n",
       "      <td>15</td>\n",
       "      <td>15</td>\n",
       "      <td>15</td>\n",
       "      <td>15</td>\n",
       "      <td>12</td>\n",
       "      <td>15</td>\n",
       "      <td>15</td>\n",
       "    </tr>\n",
       "    <tr>\n",
       "      <th>306441847</th>\n",
       "      <td>9</td>\n",
       "      <td>9</td>\n",
       "      <td>9</td>\n",
       "      <td>9</td>\n",
       "      <td>9</td>\n",
       "      <td>9</td>\n",
       "      <td>9</td>\n",
       "      <td>9</td>\n",
       "    </tr>\n",
       "    <tr>\n",
       "      <th>321655812</th>\n",
       "      <td>16</td>\n",
       "      <td>16</td>\n",
       "      <td>16</td>\n",
       "      <td>16</td>\n",
       "      <td>16</td>\n",
       "      <td>13</td>\n",
       "      <td>16</td>\n",
       "      <td>16</td>\n",
       "    </tr>\n",
       "    <tr>\n",
       "      <th>330585300</th>\n",
       "      <td>6</td>\n",
       "      <td>6</td>\n",
       "      <td>6</td>\n",
       "      <td>6</td>\n",
       "      <td>6</td>\n",
       "      <td>6</td>\n",
       "      <td>6</td>\n",
       "      <td>6</td>\n",
       "    </tr>\n",
       "    <tr>\n",
       "      <th>332550649</th>\n",
       "      <td>7</td>\n",
       "      <td>7</td>\n",
       "      <td>7</td>\n",
       "      <td>7</td>\n",
       "      <td>1</td>\n",
       "      <td>4</td>\n",
       "      <td>7</td>\n",
       "      <td>7</td>\n",
       "    </tr>\n",
       "  </tbody>\n",
       "</table>\n",
       "</div>"
      ],
      "text/plain": [
       "           event_time  event_type  product_id  category_id  category_code  \\\n",
       "user_id                                                                     \n",
       "244951053          15          15          15           15             15   \n",
       "306441847           9           9           9            9              9   \n",
       "321655812          16          16          16           16             16   \n",
       "330585300           6           6           6            6              6   \n",
       "332550649           7           7           7            7              1   \n",
       "\n",
       "           brand  price  user_session  \n",
       "user_id                                \n",
       "244951053     12     15            15  \n",
       "306441847      9      9             9  \n",
       "321655812     13     16            16  \n",
       "330585300      6      6             6  \n",
       "332550649      4      7             7  "
      ]
     },
     "execution_count": 4,
     "metadata": {},
     "output_type": "execute_result"
    }
   ],
   "source": [
    "#to check user-wise data\n",
    "users_counts_grp = df.groupby(['user_id']).count().compute()\n",
    "users_counts_grp.head()"
   ]
  },
  {
   "cell_type": "code",
   "execution_count": 5,
   "metadata": {},
   "outputs": [
    {
     "name": "stdout",
     "output_type": "stream",
     "text": [
      "<class 'pandas.core.frame.DataFrame'>\n",
      "Int64Index: 3022290 entries, 244951053 to 566280860\n",
      "Data columns (total 8 columns):\n",
      "event_time       int64\n",
      "event_type       int64\n",
      "product_id       int64\n",
      "category_id      int64\n",
      "category_code    int64\n",
      "brand            int64\n",
      "price            int64\n",
      "user_session     int64\n",
      "dtypes: int64(8)\n",
      "memory usage: 207.5 MB\n"
     ]
    }
   ],
   "source": [
    "#converting to pandas dataframe all the user groups to work with more pandas functionalities \n",
    "df_pd_users = pd.DataFrame(users_counts_grp)\n",
    "df_pd_users.info()"
   ]
  },
  {
   "cell_type": "markdown",
   "metadata": {},
   "source": [
    "We have 3022290 number of users in our data set."
   ]
  },
  {
   "cell_type": "code",
   "execution_count": 18,
   "metadata": {},
   "outputs": [
    {
     "data": {
      "text/plain": [
       "count   3022290.00000\n",
       "mean         14.04523\n",
       "std          32.77411\n",
       "min           1.00000\n",
       "25%           2.00000\n",
       "50%           4.00000\n",
       "75%          13.00000\n",
       "max        7436.00000\n",
       "Name: event_time, dtype: float64"
      ]
     },
     "execution_count": 18,
     "metadata": {},
     "output_type": "execute_result"
    }
   ],
   "source": [
    "#to check range of visit and quantiles of visits of the users (visit is the primary attribute to \n",
    "#capture the user-engagement activity traits)\n",
    "pd.set_option('display.float_format', lambda x: '%.5f' % x)\n",
    "users_counts_grp['event_time'].describe()"
   ]
  },
  {
   "cell_type": "markdown",
   "metadata": {},
   "source": [
    "Looks like, our user's distribution for the activities is in different categories - We have 25% users with 2 or 1 visit, another 25% with 3 or 4, another 25% with 5-13 visits. Then outliers in user group with >=14 visits.\n",
    "Let's look at data distribution to determine user groups or distribution based on their visits."
   ]
  },
  {
   "cell_type": "code",
   "execution_count": 19,
   "metadata": {},
   "outputs": [
    {
     "data": {
      "text/html": [
       "<div>\n",
       "<style scoped>\n",
       "    .dataframe tbody tr th:only-of-type {\n",
       "        vertical-align: middle;\n",
       "    }\n",
       "\n",
       "    .dataframe tbody tr th {\n",
       "        vertical-align: top;\n",
       "    }\n",
       "\n",
       "    .dataframe thead th {\n",
       "        text-align: right;\n",
       "    }\n",
       "</style>\n",
       "<table border=\"1\" class=\"dataframe\">\n",
       "  <thead>\n",
       "    <tr style=\"text-align: right;\">\n",
       "      <th></th>\n",
       "      <th>event_time</th>\n",
       "      <th>event_type</th>\n",
       "      <th>product_id</th>\n",
       "      <th>category_id</th>\n",
       "      <th>category_code</th>\n",
       "      <th>brand</th>\n",
       "      <th>price</th>\n",
       "      <th>user_session</th>\n",
       "    </tr>\n",
       "  </thead>\n",
       "  <tbody>\n",
       "    <tr>\n",
       "      <th>count</th>\n",
       "      <td>3022290.00000</td>\n",
       "      <td>3022290.00000</td>\n",
       "      <td>3022290.00000</td>\n",
       "      <td>3022290.00000</td>\n",
       "      <td>3022290.00000</td>\n",
       "      <td>3022290.00000</td>\n",
       "      <td>3022290.00000</td>\n",
       "      <td>3022290.00000</td>\n",
       "    </tr>\n",
       "    <tr>\n",
       "      <th>mean</th>\n",
       "      <td>14.04523</td>\n",
       "      <td>14.04523</td>\n",
       "      <td>14.04523</td>\n",
       "      <td>14.04523</td>\n",
       "      <td>9.57326</td>\n",
       "      <td>12.02124</td>\n",
       "      <td>14.04523</td>\n",
       "      <td>14.04523</td>\n",
       "    </tr>\n",
       "    <tr>\n",
       "      <th>std</th>\n",
       "      <td>32.77411</td>\n",
       "      <td>32.77411</td>\n",
       "      <td>32.77411</td>\n",
       "      <td>32.77411</td>\n",
       "      <td>24.60901</td>\n",
       "      <td>27.91079</td>\n",
       "      <td>32.77411</td>\n",
       "      <td>32.77411</td>\n",
       "    </tr>\n",
       "    <tr>\n",
       "      <th>min</th>\n",
       "      <td>1.00000</td>\n",
       "      <td>1.00000</td>\n",
       "      <td>1.00000</td>\n",
       "      <td>1.00000</td>\n",
       "      <td>0.00000</td>\n",
       "      <td>0.00000</td>\n",
       "      <td>1.00000</td>\n",
       "      <td>1.00000</td>\n",
       "    </tr>\n",
       "    <tr>\n",
       "      <th>25%</th>\n",
       "      <td>2.00000</td>\n",
       "      <td>2.00000</td>\n",
       "      <td>2.00000</td>\n",
       "      <td>2.00000</td>\n",
       "      <td>1.00000</td>\n",
       "      <td>1.00000</td>\n",
       "      <td>2.00000</td>\n",
       "      <td>2.00000</td>\n",
       "    </tr>\n",
       "    <tr>\n",
       "      <th>50%</th>\n",
       "      <td>4.00000</td>\n",
       "      <td>4.00000</td>\n",
       "      <td>4.00000</td>\n",
       "      <td>4.00000</td>\n",
       "      <td>3.00000</td>\n",
       "      <td>4.00000</td>\n",
       "      <td>4.00000</td>\n",
       "      <td>4.00000</td>\n",
       "    </tr>\n",
       "    <tr>\n",
       "      <th>75%</th>\n",
       "      <td>13.00000</td>\n",
       "      <td>13.00000</td>\n",
       "      <td>13.00000</td>\n",
       "      <td>13.00000</td>\n",
       "      <td>9.00000</td>\n",
       "      <td>11.00000</td>\n",
       "      <td>13.00000</td>\n",
       "      <td>13.00000</td>\n",
       "    </tr>\n",
       "    <tr>\n",
       "      <th>max</th>\n",
       "      <td>7436.00000</td>\n",
       "      <td>7436.00000</td>\n",
       "      <td>7436.00000</td>\n",
       "      <td>7436.00000</td>\n",
       "      <td>6703.00000</td>\n",
       "      <td>6304.00000</td>\n",
       "      <td>7436.00000</td>\n",
       "      <td>7436.00000</td>\n",
       "    </tr>\n",
       "  </tbody>\n",
       "</table>\n",
       "</div>"
      ],
      "text/plain": [
       "         event_time    event_type    product_id   category_id  category_code  \\\n",
       "count 3022290.00000 3022290.00000 3022290.00000 3022290.00000  3022290.00000   \n",
       "mean       14.04523      14.04523      14.04523      14.04523        9.57326   \n",
       "std        32.77411      32.77411      32.77411      32.77411       24.60901   \n",
       "min         1.00000       1.00000       1.00000       1.00000        0.00000   \n",
       "25%         2.00000       2.00000       2.00000       2.00000        1.00000   \n",
       "50%         4.00000       4.00000       4.00000       4.00000        3.00000   \n",
       "75%        13.00000      13.00000      13.00000      13.00000        9.00000   \n",
       "max      7436.00000    7436.00000    7436.00000    7436.00000     6703.00000   \n",
       "\n",
       "              brand         price  user_session  \n",
       "count 3022290.00000 3022290.00000 3022290.00000  \n",
       "mean       12.02124      14.04523      14.04523  \n",
       "std        27.91079      32.77411      32.77411  \n",
       "min         0.00000       1.00000       1.00000  \n",
       "25%         1.00000       2.00000       2.00000  \n",
       "50%         4.00000       4.00000       4.00000  \n",
       "75%        11.00000      13.00000      13.00000  \n",
       "max      6304.00000    7436.00000    7436.00000  "
      ]
     },
     "execution_count": 19,
     "metadata": {},
     "output_type": "execute_result"
    }
   ],
   "source": [
    "#just to check counts for other columns as well, we know category code and brand has null values, \n",
    "#so there should be difference in count values\n",
    "df_pd_users.describe()"
   ]
  },
  {
   "cell_type": "code",
   "execution_count": 20,
   "metadata": {},
   "outputs": [
    {
     "data": {
      "text/plain": [
       "event_time       1011\n",
       "event_type       1011\n",
       "product_id       1011\n",
       "category_id      1011\n",
       "category_code     833\n",
       "brand             877\n",
       "price            1011\n",
       "user_session     1011\n",
       "dtype: int64"
      ]
     },
     "execution_count": 20,
     "metadata": {},
     "output_type": "execute_result"
    }
   ],
   "source": [
    "df_pd_users.nunique() #category code and brand have nulls, so their count is less as compared to other columns"
   ]
  },
  {
   "cell_type": "code",
   "execution_count": 21,
   "metadata": {},
   "outputs": [
    {
     "data": {
      "text/plain": [
       "<matplotlib.axes._subplots.AxesSubplot at 0x1e59b303dd8>"
      ]
     },
     "execution_count": 21,
     "metadata": {},
     "output_type": "execute_result"
    },
    {
     "data": {
      "image/png": "[encoded data removed]",
      "text/plain": [
       "<Figure size 432x288 with 1 Axes>"
      ]
     },
     "metadata": {
      "needs_background": "light"
     },
     "output_type": "display_data"
    }
   ],
   "source": [
    "df_pd_users['event_time'].plot(kind='hist', xlim = (0,1000)) #not useful, previously(with no x-limit) got one bar in histogram \n",
    "#so plotted for 0-1000 range specifically, that is still not helpful"
   ]
  },
  {
   "cell_type": "code",
   "execution_count": 22,
   "metadata": {},
   "outputs": [
    {
     "data": {
      "image/png": "[encoded data removed]",
      "text/plain": [
       "<Figure size 432x288 with 1 Axes>"
      ]
     },
     "metadata": {
      "needs_background": "light"
     },
     "output_type": "display_data"
    }
   ],
   "source": [
    "#changed the range again, looks like a exponential distribution, will check with other plots as well \n",
    "hist_plot = sns.distplot(df_pd_users['event_time'],kde=False, color = 'black')\n",
    "hist_plot.set(xlim=(0, 300))\n",
    "\n",
    "plt.show()"
   ]
  },
  {
   "cell_type": "code",
   "execution_count": 23,
   "metadata": {},
   "outputs": [
    {
     "data": {
      "image/png": "[encoded data removed]",
      "text/plain": [
       "<Figure size 432x288 with 1 Axes>"
      ]
     },
     "metadata": {
      "needs_background": "light"
     },
     "output_type": "display_data"
    }
   ],
   "source": [
    "#Same results, box plot indicates the data is exponentially distributed\n",
    "a_plot = sns.boxplot( y = df_pd_users['event_time'], data = df_pd_users)\n",
    "a_plot.set(ylim=(0, 100))\n",
    "plt.show()"
   ]
  },
  {
   "cell_type": "markdown",
   "metadata": {},
   "source": [
    "Exponential distribution of number of visits of the users"
   ]
  },
  {
   "cell_type": "code",
   "execution_count": 24,
   "metadata": {},
   "outputs": [
    {
     "data": {
      "image/png": "[encoded data removed]",
      "text/plain": [
       "<Figure size 432x288 with 1 Axes>"
      ]
     },
     "metadata": {
      "needs_background": "light"
     },
     "output_type": "display_data"
    }
   ],
   "source": [
    "#check data for other  ranges as well\n",
    "c_plot = sns.boxplot(df_pd_users['event_time'])\n",
    "c_plot.set(xlim=(16, 100))\n",
    "\n",
    "plt.show()"
   ]
  },
  {
   "cell_type": "code",
   "execution_count": 25,
   "metadata": {},
   "outputs": [
    {
     "data": {
      "image/png": "[encoded data removed]",
      "text/plain": [
       "<Figure size 432x288 with 1 Axes>"
      ]
     },
     "metadata": {
      "needs_background": "light"
     },
     "output_type": "display_data"
    }
   ],
   "source": [
    "#check data for other ranges as well\n",
    "c_plot = sns.boxplot(df_pd_users['event_time'])\n",
    "c_plot.set(xlim=(100, 8000))\n",
    "\n",
    "plt.show()"
   ]
  },
  {
   "cell_type": "markdown",
   "metadata": {},
   "source": [
    "Looks like we have all the outliers beyond 30 till 2500 visits with 3 cutomers beyong 2500. Although, they are outlier users, we can form a different group for them without 3 extreme outlier users to specifically analyze those customers."
   ]
  },
  {
   "cell_type": "code",
   "execution_count": 26,
   "metadata": {},
   "outputs": [
    {
     "name": "stderr",
     "output_type": "stream",
     "text": [
      "'c' argument looks like a single numeric RGB or RGBA sequence, which should be avoided as value-mapping will have precedence in case its length matches with 'x' & 'y'.  Please use a 2-D array with a single row if you really want to specify the same RGB or RGBA value for all points.\n"
     ]
    },
    {
     "data": {
      "text/plain": [
       "<matplotlib.axes._subplots.AxesSubplot at 0x1e5dc75c4e0>"
      ]
     },
     "execution_count": 26,
     "metadata": {},
     "output_type": "execute_result"
    },
    {
     "data": {
      "image/png": "[encoded data removed]",
      "text/plain": [
       "<Figure size 432x288 with 1 Axes>"
      ]
     },
     "metadata": {
      "needs_background": "light"
     },
     "output_type": "display_data"
    }
   ],
   "source": [
    "#boxen plots to check the distribution more specifically within ranges\n",
    "sns.boxenplot(x='event_time', data=df_pd_users)"
   ]
  },
  {
   "cell_type": "code",
   "execution_count": 27,
   "metadata": {},
   "outputs": [
    {
     "name": "stderr",
     "output_type": "stream",
     "text": [
      "'c' argument looks like a single numeric RGB or RGBA sequence, which should be avoided as value-mapping will have precedence in case its length matches with 'x' & 'y'.  Please use a 2-D array with a single row if you really want to specify the same RGB or RGBA value for all points.\n"
     ]
    },
    {
     "data": {
      "image/png": "[encoded data removed]",
      "text/plain": [
       "<Figure size 432x288 with 1 Axes>"
      ]
     },
     "metadata": {
      "needs_background": "light"
     },
     "output_type": "display_data"
    }
   ],
   "source": [
    "#boxen plot for a specific range that holds most of the users\n",
    "d_plot = sns.boxenplot(x='event_time', data=df_pd_users)\n",
    "d_plot.set(xlim=(0, 500))\n",
    "\n",
    "plt.show()"
   ]
  },
  {
   "cell_type": "code",
   "execution_count": 28,
   "metadata": {},
   "outputs": [
    {
     "data": {
      "image/png": "[encoded data removed]",
      "text/plain": [
       "<Figure size 432x288 with 1 Axes>"
      ]
     },
     "metadata": {
      "needs_background": "light"
     },
     "output_type": "display_data"
    }
   ],
   "source": [
    "#to check the prbability density of the users based on their visits\n",
    "kde_plot = sns.distplot(df_pd_users['event_time'], bins=np.arange(0,16),color = 'red', hist_kws=dict(ec=\"k\")) #check its interpretation\n",
    "kde_plot.set(xlim=(0, 20))\n",
    "\n",
    "plt.show()"
   ]
  },
  {
   "cell_type": "code",
   "execution_count": 29,
   "metadata": {},
   "outputs": [
    {
     "data": {
      "text/plain": [
       "1074.1423876104072"
      ]
     },
     "execution_count": 29,
     "metadata": {},
     "output_type": "execute_result"
    }
   ],
   "source": [
    "#check variance as it should have high variance being an exponenetial distribution\n",
    "df_pd_users['event_time'].var()"
   ]
  },
  {
   "cell_type": "code",
   "execution_count": 30,
   "metadata": {},
   "outputs": [
    {
     "data": {
      "text/html": [
       "<div>\n",
       "<style scoped>\n",
       "    .dataframe tbody tr th:only-of-type {\n",
       "        vertical-align: middle;\n",
       "    }\n",
       "\n",
       "    .dataframe tbody tr th {\n",
       "        vertical-align: top;\n",
       "    }\n",
       "\n",
       "    .dataframe thead th {\n",
       "        text-align: right;\n",
       "    }\n",
       "</style>\n",
       "<table border=\"1\" class=\"dataframe\">\n",
       "  <thead>\n",
       "    <tr style=\"text-align: right;\">\n",
       "      <th></th>\n",
       "      <th>event_time</th>\n",
       "      <th>event_type</th>\n",
       "      <th>product_id</th>\n",
       "      <th>category_id</th>\n",
       "      <th>category_code</th>\n",
       "      <th>brand</th>\n",
       "      <th>price</th>\n",
       "      <th>user_session</th>\n",
       "    </tr>\n",
       "    <tr>\n",
       "      <th>user_id</th>\n",
       "      <th></th>\n",
       "      <th></th>\n",
       "      <th></th>\n",
       "      <th></th>\n",
       "      <th></th>\n",
       "      <th></th>\n",
       "      <th></th>\n",
       "      <th></th>\n",
       "    </tr>\n",
       "  </thead>\n",
       "  <tbody>\n",
       "    <tr>\n",
       "      <th>512365995</th>\n",
       "      <td>4013</td>\n",
       "      <td>4013</td>\n",
       "      <td>4013</td>\n",
       "      <td>4013</td>\n",
       "      <td>3986</td>\n",
       "      <td>4001</td>\n",
       "      <td>4013</td>\n",
       "      <td>4013</td>\n",
       "    </tr>\n",
       "    <tr>\n",
       "      <th>512475445</th>\n",
       "      <td>7436</td>\n",
       "      <td>7436</td>\n",
       "      <td>7436</td>\n",
       "      <td>7436</td>\n",
       "      <td>6703</td>\n",
       "      <td>6304</td>\n",
       "      <td>7436</td>\n",
       "      <td>7436</td>\n",
       "    </tr>\n",
       "    <tr>\n",
       "      <th>526731152</th>\n",
       "      <td>2912</td>\n",
       "      <td>2912</td>\n",
       "      <td>2912</td>\n",
       "      <td>2912</td>\n",
       "      <td>2148</td>\n",
       "      <td>2316</td>\n",
       "      <td>2912</td>\n",
       "      <td>2912</td>\n",
       "    </tr>\n",
       "  </tbody>\n",
       "</table>\n",
       "</div>"
      ],
      "text/plain": [
       "           event_time  event_type  product_id  category_id  category_code  \\\n",
       "user_id                                                                     \n",
       "512365995        4013        4013        4013         4013           3986   \n",
       "512475445        7436        7436        7436         7436           6703   \n",
       "526731152        2912        2912        2912         2912           2148   \n",
       "\n",
       "           brand  price  user_session  \n",
       "user_id                                \n",
       "512365995   4001   4013          4013  \n",
       "512475445   6304   7436          7436  \n",
       "526731152   2316   2912          2912  "
      ]
     },
     "execution_count": 30,
     "metadata": {},
     "output_type": "execute_result"
    }
   ],
   "source": [
    "#Should be 3 users as per above boxplots/boxen plots, confirming the same, \n",
    "#these users should be removed as outliers values for analysis\n",
    "df_pd_users[df_pd_users['event_time'] >2900]"
   ]
  },
  {
   "cell_type": "markdown",
   "metadata": {},
   "source": [
    "Majority of users have 15 or below visits and others falls in outlier range, which make sense as we have mean of ~14 visits and 75% users 13 or below visits, high variance of 1074"
   ]
  },
  {
   "cell_type": "markdown",
   "metadata": {},
   "source": [
    "According to above statistics and graphs lets divide our users in 3 groups and analyze each group individually<br>\n",
    "group-1(<=4, 50% users)<br>\n",
    "group-2(>4 and <=15, ~25% users)<br>\n",
    "group-3(>15) ~25% users<br>\n",
    "so, will analyze group 3 as oulier group analysis"
   ]
  },
  {
   "cell_type": "markdown",
   "metadata": {},
   "source": [
    "## Group-wise Data Cleaning & Analysis:"
   ]
  },
  {
   "cell_type": "markdown",
   "metadata": {},
   "source": [
    "As per previous section, we will deal with outlier data and clean the required missing values and datatype conversions below in each group:"
   ]
  },
  {
   "cell_type": "markdown",
   "metadata": {},
   "source": [
    "##### Group-1:"
   ]
  },
  {
   "cell_type": "code",
   "execution_count": 11,
   "metadata": {},
   "outputs": [],
   "source": [
    "#get user ids of grp-1 users\n",
    "users_grp1 = df_pd_users[df_pd_users['event_time'] <= 4].index"
   ]
  },
  {
   "cell_type": "code",
   "execution_count": 12,
   "metadata": {},
   "outputs": [
    {
     "data": {
      "text/plain": [
       "(1519281,)"
      ]
     },
     "execution_count": 12,
     "metadata": {},
     "output_type": "execute_result"
    }
   ],
   "source": [
    "users_grp1.shape # ~50% of the users"
   ]
  },
  {
   "cell_type": "code",
   "execution_count": 13,
   "metadata": {},
   "outputs": [],
   "source": [
    "#get their user data from dask original dataframe\n",
    "df_grp_1 = df[df['user_id'].isin(users_grp1)]"
   ]
  },
  {
   "cell_type": "code",
   "execution_count": 92,
   "metadata": {},
   "outputs": [],
   "source": [
    "#convert to pandas dataframe for analysis\n",
    "df_grp_pd_1 = pd.DataFrame(df_grp_1.compute())"
   ]
  },
  {
   "cell_type": "code",
   "execution_count": 93,
   "metadata": {},
   "outputs": [
    {
     "data": {
      "text/html": [
       "<div>\n",
       "<style scoped>\n",
       "    .dataframe tbody tr th:only-of-type {\n",
       "        vertical-align: middle;\n",
       "    }\n",
       "\n",
       "    .dataframe tbody tr th {\n",
       "        vertical-align: top;\n",
       "    }\n",
       "\n",
       "    .dataframe thead th {\n",
       "        text-align: right;\n",
       "    }\n",
       "</style>\n",
       "<table border=\"1\" class=\"dataframe\">\n",
       "  <thead>\n",
       "    <tr style=\"text-align: right;\">\n",
       "      <th></th>\n",
       "      <th>event_time</th>\n",
       "      <th>event_type</th>\n",
       "      <th>product_id</th>\n",
       "      <th>category_id</th>\n",
       "      <th>category_code</th>\n",
       "      <th>brand</th>\n",
       "      <th>price</th>\n",
       "      <th>user_id</th>\n",
       "      <th>user_session</th>\n",
       "    </tr>\n",
       "  </thead>\n",
       "  <tbody>\n",
       "    <tr>\n",
       "      <th>1</th>\n",
       "      <td>2019-10-01 00:00:00 UTC</td>\n",
       "      <td>view</td>\n",
       "      <td>3900821</td>\n",
       "      <td>2053013552326770905</td>\n",
       "      <td>appliances.environment.water_heater</td>\n",
       "      <td>aqua</td>\n",
       "      <td>33.20</td>\n",
       "      <td>554748717</td>\n",
       "      <td>9333dfbd-b87a-4708-9857-6336556b0fcc</td>\n",
       "    </tr>\n",
       "    <tr>\n",
       "      <th>6</th>\n",
       "      <td>2019-10-01 00:00:08 UTC</td>\n",
       "      <td>view</td>\n",
       "      <td>17300353</td>\n",
       "      <td>2053013553853497655</td>\n",
       "      <td>NaN</td>\n",
       "      <td>creed</td>\n",
       "      <td>380.96</td>\n",
       "      <td>555447699</td>\n",
       "      <td>4fe811e9-91de-46da-90c3-bbd87ed3a65d</td>\n",
       "    </tr>\n",
       "    <tr>\n",
       "      <th>7</th>\n",
       "      <td>2019-10-01 00:00:08 UTC</td>\n",
       "      <td>view</td>\n",
       "      <td>31500053</td>\n",
       "      <td>2053013558031024687</td>\n",
       "      <td>NaN</td>\n",
       "      <td>luminarc</td>\n",
       "      <td>41.16</td>\n",
       "      <td>550978835</td>\n",
       "      <td>6280d577-25c8-4147-99a7-abc6048498d6</td>\n",
       "    </tr>\n",
       "    <tr>\n",
       "      <th>8</th>\n",
       "      <td>2019-10-01 00:00:10 UTC</td>\n",
       "      <td>view</td>\n",
       "      <td>28719074</td>\n",
       "      <td>2053013565480109009</td>\n",
       "      <td>apparel.shoes.keds</td>\n",
       "      <td>baden</td>\n",
       "      <td>102.71</td>\n",
       "      <td>520571932</td>\n",
       "      <td>ac1cd4e5-a3ce-4224-a2d7-ff660a105880</td>\n",
       "    </tr>\n",
       "    <tr>\n",
       "      <th>10</th>\n",
       "      <td>2019-10-01 00:00:11 UTC</td>\n",
       "      <td>view</td>\n",
       "      <td>2900536</td>\n",
       "      <td>2053013554776244595</td>\n",
       "      <td>appliances.kitchen.microwave</td>\n",
       "      <td>elenberg</td>\n",
       "      <td>51.46</td>\n",
       "      <td>555158050</td>\n",
       "      <td>b5bdd0b3-4ca2-4c55-939e-9ce44bb50abd</td>\n",
       "    </tr>\n",
       "  </tbody>\n",
       "</table>\n",
       "</div>"
      ],
      "text/plain": [
       "                 event_time event_type  product_id          category_id  \\\n",
       "1   2019-10-01 00:00:00 UTC       view     3900821  2053013552326770905   \n",
       "6   2019-10-01 00:00:08 UTC       view    17300353  2053013553853497655   \n",
       "7   2019-10-01 00:00:08 UTC       view    31500053  2053013558031024687   \n",
       "8   2019-10-01 00:00:10 UTC       view    28719074  2053013565480109009   \n",
       "10  2019-10-01 00:00:11 UTC       view     2900536  2053013554776244595   \n",
       "\n",
       "                          category_code     brand   price    user_id  \\\n",
       "1   appliances.environment.water_heater      aqua   33.20  554748717   \n",
       "6                                   NaN     creed  380.96  555447699   \n",
       "7                                   NaN  luminarc   41.16  550978835   \n",
       "8                    apparel.shoes.keds     baden  102.71  520571932   \n",
       "10         appliances.kitchen.microwave  elenberg   51.46  555158050   \n",
       "\n",
       "                            user_session  \n",
       "1   9333dfbd-b87a-4708-9857-6336556b0fcc  \n",
       "6   4fe811e9-91de-46da-90c3-bbd87ed3a65d  \n",
       "7   6280d577-25c8-4147-99a7-abc6048498d6  \n",
       "8   ac1cd4e5-a3ce-4224-a2d7-ff660a105880  \n",
       "10  b5bdd0b3-4ca2-4c55-939e-9ce44bb50abd  "
      ]
     },
     "execution_count": 93,
     "metadata": {},
     "output_type": "execute_result"
    }
   ],
   "source": [
    "df_grp_pd_1.head()"
   ]
  },
  {
   "cell_type": "code",
   "execution_count": 94,
   "metadata": {},
   "outputs": [
    {
     "name": "stdout",
     "output_type": "stream",
     "text": [
      "<class 'pandas.core.frame.DataFrame'>\n",
      "Int64Index: 3006036 entries, 1 to 274871\n",
      "Data columns (total 9 columns):\n",
      "event_time       object\n",
      "event_type       object\n",
      "product_id       int64\n",
      "category_id      int64\n",
      "category_code    object\n",
      "brand            object\n",
      "price            float64\n",
      "user_id          int64\n",
      "user_session     object\n",
      "dtypes: float64(1), int64(3), object(5)\n",
      "memory usage: 229.3+ MB\n"
     ]
    }
   ],
   "source": [
    "df_grp_pd_1.info()"
   ]
  },
  {
   "cell_type": "code",
   "execution_count": 95,
   "metadata": {},
   "outputs": [
    {
     "data": {
      "text/plain": [
       "event_time            0\n",
       "event_type            0\n",
       "product_id            0\n",
       "category_id           0\n",
       "category_code    982530\n",
       "brand            385868\n",
       "price                 0\n",
       "user_id               0\n",
       "user_session          0\n",
       "dtype: int64"
      ]
     },
     "execution_count": 95,
     "metadata": {},
     "output_type": "execute_result"
    }
   ],
   "source": [
    "df_grp_pd_1.isnull().sum()"
   ]
  },
  {
   "cell_type": "markdown",
   "metadata": {},
   "source": [
    "### We need to change datatype of event_time column and impute values for category_code and brand (to prevent data loss as an outcome of dropping)."
   ]
  },
  {
   "cell_type": "code",
   "execution_count": 98,
   "metadata": {},
   "outputs": [],
   "source": [
    "#convert event_time to datetime object \n",
    "#df_grp_pd_1['event_time'] = pd.to_datetime(df_grp_pd_1['event_time'], format='%Y-%m-%d %H:%M:%S %Z', errors='coerce')\n",
    "\n",
    "#we don't need event_time\n",
    "df_grp_pd_1.drop(columns = ['event_time'], inplace = True)"
   ]
  },
  {
   "cell_type": "code",
   "execution_count": 99,
   "metadata": {},
   "outputs": [],
   "source": [
    "df_grp_pd_1['brand'].fillna('No Brand', inplace = True)"
   ]
  },
  {
   "cell_type": "code",
   "execution_count": 100,
   "metadata": {},
   "outputs": [],
   "source": [
    "df_grp_pd_1['category_code'].fillna('No category_code', inplace = True)"
   ]
  },
  {
   "cell_type": "code",
   "execution_count": 101,
   "metadata": {},
   "outputs": [
    {
     "name": "stdout",
     "output_type": "stream",
     "text": [
      "<class 'pandas.core.frame.DataFrame'>\n",
      "Int64Index: 3006036 entries, 1 to 274871\n",
      "Data columns (total 8 columns):\n",
      "event_type       object\n",
      "product_id       int64\n",
      "category_id      int64\n",
      "category_code    object\n",
      "brand            object\n",
      "price            float64\n",
      "user_id          int64\n",
      "user_session     object\n",
      "dtypes: float64(1), int64(3), object(4)\n",
      "memory usage: 206.4+ MB\n"
     ]
    }
   ],
   "source": [
    "df_grp_pd_1.info()"
   ]
  },
  {
   "cell_type": "code",
   "execution_count": 102,
   "metadata": {},
   "outputs": [
    {
     "data": {
      "text/plain": [
       "event_type       0\n",
       "product_id       0\n",
       "category_id      0\n",
       "category_code    0\n",
       "brand            0\n",
       "price            0\n",
       "user_id          0\n",
       "user_session     0\n",
       "dtype: int64"
      ]
     },
     "execution_count": 102,
     "metadata": {},
     "output_type": "execute_result"
    }
   ],
   "source": [
    "df_grp_pd_1.isnull().sum()"
   ]
  },
  {
   "cell_type": "code",
   "execution_count": 103,
   "metadata": {},
   "outputs": [
    {
     "data": {
      "text/plain": [
       "view        2942081\n",
       "purchase      32217\n",
       "cart          31738\n",
       "Name: event_type, dtype: int64"
      ]
     },
     "execution_count": 103,
     "metadata": {},
     "output_type": "execute_result"
    }
   ],
   "source": [
    "df_grp_pd_1['event_type'].value_counts()"
   ]
  },
  {
   "cell_type": "code",
   "execution_count": 104,
   "metadata": {},
   "outputs": [
    {
     "data": {
      "image/png": "[encoded data removed]",
      "text/plain": [
       "<Figure size 1008x432 with 1 Axes>"
      ]
     },
     "metadata": {},
     "output_type": "display_data"
    }
   ],
   "source": [
    "# pie-chart of users as per event-type distribution\n",
    "\n",
    "labels= df_grp_pd_1['event_type'].value_counts().index.tolist()\n",
    "sizes= df_grp_pd_1['event_type'].value_counts().values.tolist()     \n",
    "explode=(0.1,0,0)\n",
    "fig,ax=plt.subplots(1,1,figsize=(14,6))\n",
    "ax.pie(sizes,labels=labels,explode=explode, autopct='%1.1f%%')\n",
    "ax.set_title('By Percentage')\n",
    "ax.axis('equal')\n",
    "plt.show()"
   ]
  },
  {
   "cell_type": "markdown",
   "metadata": {},
   "source": [
    "As expected most of the users just viewed the products. They can be recommended the products with maximum ratings and using product/user similarity(correlations) matrix as build in data modelling section later, they can be recommeded similar users viewed products or similar products to the one they viewed."
   ]
  },
  {
   "cell_type": "markdown",
   "metadata": {},
   "source": [
    "Let's see few users who purchased and added to cart, their jouney in user sessions"
   ]
  },
  {
   "cell_type": "code",
   "execution_count": 105,
   "metadata": {},
   "outputs": [
    {
     "data": {
      "text/plain": [
       "2073    555168263\n",
       "3604    555462614\n",
       "3899    547560322\n",
       "5142    519292368\n",
       "5402    553819262\n",
       "6496    555462711\n",
       "7415    514651026\n",
       "7632    514904277\n",
       "9367    554063800\n",
       "Name: user_id, dtype: int64"
      ]
     },
     "execution_count": 105,
     "metadata": {},
     "output_type": "execute_result"
    }
   ],
   "source": [
    "df_grp_pd_1[df_grp_pd_1['event_type'] == 'purchase']['user_id'][0:9]"
   ]
  },
  {
   "cell_type": "code",
   "execution_count": 106,
   "metadata": {},
   "outputs": [
    {
     "data": {
      "text/html": [
       "<div>\n",
       "<style scoped>\n",
       "    .dataframe tbody tr th:only-of-type {\n",
       "        vertical-align: middle;\n",
       "    }\n",
       "\n",
       "    .dataframe tbody tr th {\n",
       "        vertical-align: top;\n",
       "    }\n",
       "\n",
       "    .dataframe thead th {\n",
       "        text-align: right;\n",
       "    }\n",
       "</style>\n",
       "<table border=\"1\" class=\"dataframe\">\n",
       "  <thead>\n",
       "    <tr style=\"text-align: right;\">\n",
       "      <th></th>\n",
       "      <th>event_type</th>\n",
       "      <th>product_id</th>\n",
       "      <th>category_id</th>\n",
       "      <th>category_code</th>\n",
       "      <th>brand</th>\n",
       "      <th>price</th>\n",
       "      <th>user_id</th>\n",
       "      <th>user_session</th>\n",
       "    </tr>\n",
       "  </thead>\n",
       "  <tbody>\n",
       "    <tr>\n",
       "      <th>1902</th>\n",
       "      <td>view</td>\n",
       "      <td>1004659</td>\n",
       "      <td>2053013555631882655</td>\n",
       "      <td>electronics.smartphone</td>\n",
       "      <td>samsung</td>\n",
       "      <td>787.18</td>\n",
       "      <td>555168263</td>\n",
       "      <td>d068d08f-aaf3-4949-b031-cdaf49a5c7cf</td>\n",
       "    </tr>\n",
       "    <tr>\n",
       "      <th>1960</th>\n",
       "      <td>cart</td>\n",
       "      <td>1004659</td>\n",
       "      <td>2053013555631882655</td>\n",
       "      <td>electronics.smartphone</td>\n",
       "      <td>samsung</td>\n",
       "      <td>787.18</td>\n",
       "      <td>555168263</td>\n",
       "      <td>d068d08f-aaf3-4949-b031-cdaf49a5c7cf</td>\n",
       "    </tr>\n",
       "    <tr>\n",
       "      <th>2073</th>\n",
       "      <td>purchase</td>\n",
       "      <td>1004659</td>\n",
       "      <td>2053013555631882655</td>\n",
       "      <td>electronics.smartphone</td>\n",
       "      <td>samsung</td>\n",
       "      <td>787.18</td>\n",
       "      <td>555168263</td>\n",
       "      <td>d068d08f-aaf3-4949-b031-cdaf49a5c7cf</td>\n",
       "    </tr>\n",
       "  </tbody>\n",
       "</table>\n",
       "</div>"
      ],
      "text/plain": [
       "     event_type  product_id          category_id           category_code  \\\n",
       "1902       view     1004659  2053013555631882655  electronics.smartphone   \n",
       "1960       cart     1004659  2053013555631882655  electronics.smartphone   \n",
       "2073   purchase     1004659  2053013555631882655  electronics.smartphone   \n",
       "\n",
       "        brand   price    user_id                          user_session  \n",
       "1902  samsung  787.18  555168263  d068d08f-aaf3-4949-b031-cdaf49a5c7cf  \n",
       "1960  samsung  787.18  555168263  d068d08f-aaf3-4949-b031-cdaf49a5c7cf  \n",
       "2073  samsung  787.18  555168263  d068d08f-aaf3-4949-b031-cdaf49a5c7cf  "
      ]
     },
     "execution_count": 106,
     "metadata": {},
     "output_type": "execute_result"
    }
   ],
   "source": [
    "df_grp_pd_1[df_grp_pd_1['user_id'] == 555168263]"
   ]
  },
  {
   "cell_type": "code",
   "execution_count": 107,
   "metadata": {},
   "outputs": [
    {
     "data": {
      "text/html": [
       "<div>\n",
       "<style scoped>\n",
       "    .dataframe tbody tr th:only-of-type {\n",
       "        vertical-align: middle;\n",
       "    }\n",
       "\n",
       "    .dataframe tbody tr th {\n",
       "        vertical-align: top;\n",
       "    }\n",
       "\n",
       "    .dataframe thead th {\n",
       "        text-align: right;\n",
       "    }\n",
       "</style>\n",
       "<table border=\"1\" class=\"dataframe\">\n",
       "  <thead>\n",
       "    <tr style=\"text-align: right;\">\n",
       "      <th></th>\n",
       "      <th>event_type</th>\n",
       "      <th>product_id</th>\n",
       "      <th>category_id</th>\n",
       "      <th>category_code</th>\n",
       "      <th>brand</th>\n",
       "      <th>price</th>\n",
       "      <th>user_id</th>\n",
       "      <th>user_session</th>\n",
       "    </tr>\n",
       "  </thead>\n",
       "  <tbody>\n",
       "    <tr>\n",
       "      <th>272543</th>\n",
       "      <td>view</td>\n",
       "      <td>1004767</td>\n",
       "      <td>2053013555631882655</td>\n",
       "      <td>electronics.smartphone</td>\n",
       "      <td>samsung</td>\n",
       "      <td>242.63</td>\n",
       "      <td>548742975</td>\n",
       "      <td>cd341dcb-1996-423d-b0a6-b1584888b079</td>\n",
       "    </tr>\n",
       "    <tr>\n",
       "      <th>272694</th>\n",
       "      <td>purchase</td>\n",
       "      <td>1004767</td>\n",
       "      <td>2053013555631882655</td>\n",
       "      <td>electronics.smartphone</td>\n",
       "      <td>samsung</td>\n",
       "      <td>242.63</td>\n",
       "      <td>548742975</td>\n",
       "      <td>cd341dcb-1996-423d-b0a6-b1584888b079</td>\n",
       "    </tr>\n",
       "    <tr>\n",
       "      <th>272961</th>\n",
       "      <td>view</td>\n",
       "      <td>1004767</td>\n",
       "      <td>2053013555631882655</td>\n",
       "      <td>electronics.smartphone</td>\n",
       "      <td>samsung</td>\n",
       "      <td>242.63</td>\n",
       "      <td>548742975</td>\n",
       "      <td>cd341dcb-1996-423d-b0a6-b1584888b079</td>\n",
       "    </tr>\n",
       "  </tbody>\n",
       "</table>\n",
       "</div>"
      ],
      "text/plain": [
       "       event_type  product_id          category_id           category_code  \\\n",
       "272543       view     1004767  2053013555631882655  electronics.smartphone   \n",
       "272694   purchase     1004767  2053013555631882655  electronics.smartphone   \n",
       "272961       view     1004767  2053013555631882655  electronics.smartphone   \n",
       "\n",
       "          brand   price    user_id                          user_session  \n",
       "272543  samsung  242.63  548742975  cd341dcb-1996-423d-b0a6-b1584888b079  \n",
       "272694  samsung  242.63  548742975  cd341dcb-1996-423d-b0a6-b1584888b079  \n",
       "272961  samsung  242.63  548742975  cd341dcb-1996-423d-b0a6-b1584888b079  "
      ]
     },
     "execution_count": 107,
     "metadata": {},
     "output_type": "execute_result"
    }
   ],
   "source": [
    "df_grp_pd_1[df_grp_pd_1['user_id'] == 548742975]"
   ]
  },
  {
   "cell_type": "code",
   "execution_count": 108,
   "metadata": {},
   "outputs": [
    {
     "data": {
      "text/html": [
       "<div>\n",
       "<style scoped>\n",
       "    .dataframe tbody tr th:only-of-type {\n",
       "        vertical-align: middle;\n",
       "    }\n",
       "\n",
       "    .dataframe tbody tr th {\n",
       "        vertical-align: top;\n",
       "    }\n",
       "\n",
       "    .dataframe thead th {\n",
       "        text-align: right;\n",
       "    }\n",
       "</style>\n",
       "<table border=\"1\" class=\"dataframe\">\n",
       "  <thead>\n",
       "    <tr style=\"text-align: right;\">\n",
       "      <th></th>\n",
       "      <th>event_type</th>\n",
       "      <th>product_id</th>\n",
       "      <th>category_id</th>\n",
       "      <th>category_code</th>\n",
       "      <th>brand</th>\n",
       "      <th>price</th>\n",
       "      <th>user_id</th>\n",
       "      <th>user_session</th>\n",
       "    </tr>\n",
       "  </thead>\n",
       "  <tbody>\n",
       "    <tr>\n",
       "      <th>263569</th>\n",
       "      <td>view</td>\n",
       "      <td>22700129</td>\n",
       "      <td>2053013556168753601</td>\n",
       "      <td>No category_code</td>\n",
       "      <td>stels</td>\n",
       "      <td>75.94</td>\n",
       "      <td>566270177</td>\n",
       "      <td>337da7cd-c59e-42f4-b648-f83f3c5c268b</td>\n",
       "    </tr>\n",
       "    <tr>\n",
       "      <th>263728</th>\n",
       "      <td>purchase</td>\n",
       "      <td>22700129</td>\n",
       "      <td>2053013556168753601</td>\n",
       "      <td>No category_code</td>\n",
       "      <td>stels</td>\n",
       "      <td>75.94</td>\n",
       "      <td>566270177</td>\n",
       "      <td>337da7cd-c59e-42f4-b648-f83f3c5c268b</td>\n",
       "    </tr>\n",
       "    <tr>\n",
       "      <th>263807</th>\n",
       "      <td>view</td>\n",
       "      <td>22700129</td>\n",
       "      <td>2053013556168753601</td>\n",
       "      <td>No category_code</td>\n",
       "      <td>stels</td>\n",
       "      <td>75.94</td>\n",
       "      <td>566270177</td>\n",
       "      <td>337da7cd-c59e-42f4-b648-f83f3c5c268b</td>\n",
       "    </tr>\n",
       "  </tbody>\n",
       "</table>\n",
       "</div>"
      ],
      "text/plain": [
       "       event_type  product_id          category_id     category_code  brand  \\\n",
       "263569       view    22700129  2053013556168753601  No category_code  stels   \n",
       "263728   purchase    22700129  2053013556168753601  No category_code  stels   \n",
       "263807       view    22700129  2053013556168753601  No category_code  stels   \n",
       "\n",
       "        price    user_id                          user_session  \n",
       "263569  75.94  566270177  337da7cd-c59e-42f4-b648-f83f3c5c268b  \n",
       "263728  75.94  566270177  337da7cd-c59e-42f4-b648-f83f3c5c268b  \n",
       "263807  75.94  566270177  337da7cd-c59e-42f4-b648-f83f3c5c268b  "
      ]
     },
     "execution_count": 108,
     "metadata": {},
     "output_type": "execute_result"
    }
   ],
   "source": [
    "df_grp_pd_1[df_grp_pd_1['user_id'] == 566270177]"
   ]
  },
  {
   "cell_type": "code",
   "execution_count": 111,
   "metadata": {},
   "outputs": [],
   "source": [
    "grp1_purchase_users = df_grp_pd_1[df_grp_pd_1['event_type'] == 'purchase']['user_id']"
   ]
  },
  {
   "cell_type": "code",
   "execution_count": 115,
   "metadata": {},
   "outputs": [],
   "source": [
    "grp1_purchase_users = grp1_purchase_users.unique()"
   ]
  },
  {
   "cell_type": "code",
   "execution_count": 116,
   "metadata": {},
   "outputs": [],
   "source": [
    "df_grp1_pur_users = df_grp_pd_1[df_grp_pd_1['user_id'].isin(grp1_purchase_users)]"
   ]
  },
  {
   "cell_type": "code",
   "execution_count": 117,
   "metadata": {},
   "outputs": [
    {
     "data": {
      "text/plain": [
       "view        62348\n",
       "purchase    32217\n",
       "cart        11870\n",
       "Name: event_type, dtype: int64"
      ]
     },
     "execution_count": 117,
     "metadata": {},
     "output_type": "execute_result"
    }
   ],
   "source": [
    "df_grp1_pur_users['event_type'].value_counts()"
   ]
  },
  {
   "cell_type": "markdown",
   "metadata": {},
   "source": [
    "So,looks like users that purchased, have atleast 3 events in a single user session which sounds logical. However, there is some data discepency due to less cart than purchases as event types. The reason behind it is, a user cannot purchase without adding product to the cart. Although, their are double views for such cases."
   ]
  },
  {
   "cell_type": "code",
   "execution_count": 118,
   "metadata": {},
   "outputs": [
    {
     "data": {
      "text/plain": [
       "<matplotlib.axes._subplots.AxesSubplot at 0x20b05647198>"
      ]
     },
     "execution_count": 118,
     "metadata": {},
     "output_type": "execute_result"
    },
    {
     "data": {
      "image/png": "[encoded data removed]",
      "text/plain": [
       "<Figure size 432x288 with 1 Axes>"
      ]
     },
     "metadata": {
      "needs_background": "light"
     },
     "output_type": "display_data"
    }
   ],
   "source": [
    "#check price range of this group\n",
    "df_grp1_pur_users['price'].plot(kind = 'hist')"
   ]
  },
  {
   "cell_type": "code",
   "execution_count": 119,
   "metadata": {},
   "outputs": [],
   "source": [
    "grp_1_top_pur_brands = df_grp1_pur_users['brand'].value_counts()[:20]"
   ]
  },
  {
   "cell_type": "code",
   "execution_count": 120,
   "metadata": {},
   "outputs": [
    {
     "data": {
      "text/plain": [
       "<matplotlib.axes._subplots.AxesSubplot at 0x20b4645d7b8>"
      ]
     },
     "execution_count": 120,
     "metadata": {},
     "output_type": "execute_result"
    },
    {
     "data": {
      "image/png": "[encoded data removed]",
      "text/plain": [
       "<Figure size 432x288 with 1 Axes>"
      ]
     },
     "metadata": {
      "needs_background": "light"
     },
     "output_type": "display_data"
    }
   ],
   "source": [
    "#group-1 top brands that are purchased\n",
    "grp_1_top_pur_brands.plot(kind = 'bar', color = 'green')"
   ]
  },
  {
   "cell_type": "code",
   "execution_count": 121,
   "metadata": {},
   "outputs": [],
   "source": [
    "grp_1_top_pur_products = df_grp1_pur_users['product_id'].value_counts()[:20]"
   ]
  },
  {
   "cell_type": "code",
   "execution_count": 122,
   "metadata": {},
   "outputs": [
    {
     "data": {
      "text/plain": [
       "<matplotlib.axes._subplots.AxesSubplot at 0x20bd1606240>"
      ]
     },
     "execution_count": 122,
     "metadata": {},
     "output_type": "execute_result"
    },
    {
     "data": {
      "image/png": "[encoded data removed]",
      "text/plain": [
       "<Figure size 432x288 with 1 Axes>"
      ]
     },
     "metadata": {
      "needs_background": "light"
     },
     "output_type": "display_data"
    }
   ],
   "source": [
    "#group-1 top products that were purchased\n",
    "grp_1_top_pur_products.plot(kind = 'bar', color = 'pink')"
   ]
  },
  {
   "cell_type": "code",
   "execution_count": 123,
   "metadata": {},
   "outputs": [
    {
     "data": {
      "text/plain": [
       "electronics.smartphone              1006181\n",
       "No category_code                     975492\n",
       "electronics.audio.headphone          100306\n",
       "electronics.clocks                    93334\n",
       "electronics.video.tv                  65048\n",
       "appliances.kitchen.washer             53392\n",
       "computers.notebook                    52056\n",
       "appliances.kitchen.refrigerators      46669\n",
       "appliances.environment.vacuum         38560\n",
       "apparel.shoes                         36900\n",
       "auto.accessories.player               26885\n",
       "apparel.shoes.keds                    25275\n",
       "electronics.tablet                    23532\n",
       "furniture.bedroom.bed                 19940\n",
       "computers.desktop                     17658\n",
       "apparel.costume                       13244\n",
       "furniture.living_room.sofa            13120\n",
       "kids.toys                             12519\n",
       "auto.accessories.videoregister        12370\n",
       "kids.carriage                         12184\n",
       "Name: category_code, dtype: int64"
      ]
     },
     "execution_count": 123,
     "metadata": {},
     "output_type": "execute_result"
    }
   ],
   "source": [
    "#check most viewed category\n",
    "df_grp_pd_1[df_grp_pd_1['event_type'] != 'purchase']['category_code'].value_counts()[:20]"
   ]
  },
  {
   "cell_type": "markdown",
   "metadata": {},
   "source": [
    "Mostly viewed and mostly purchased are electronic items(specifically smart phones and accessories). So, we can assume that increasing views might increase purchasing potential of a product."
   ]
  },
  {
   "cell_type": "code",
   "execution_count": 124,
   "metadata": {},
   "outputs": [
    {
     "data": {
      "text/plain": [
       "<seaborn.axisgrid.FacetGrid at 0x20bd1601908>"
      ]
     },
     "execution_count": 124,
     "metadata": {},
     "output_type": "execute_result"
    },
    {
     "data": {
      "image/png": "[encoded data removed]",
      "text/plain": [
       "<Figure size 360x360 with 1 Axes>"
      ]
     },
     "metadata": {
      "needs_background": "light"
     },
     "output_type": "display_data"
    }
   ],
   "source": [
    "sns.catplot(x=\"event_type\", y=\"price\", kind=\"box\", data=df_grp_pd_1)"
   ]
  },
  {
   "cell_type": "markdown",
   "metadata": {},
   "source": [
    "So, looks like there are many outliers as per price, with 100-500 dollars range for all 3 event types(view, cart, purchase) i.e. to be more or less in the same price range. Thats makes sense as per views and purchases positive correlation as we assumed by interpreting previous plots."
   ]
  },
  {
   "cell_type": "markdown",
   "metadata": {},
   "source": [
    "#### Group-2"
   ]
  },
  {
   "cell_type": "code",
   "execution_count": 71,
   "metadata": {},
   "outputs": [],
   "source": [
    "#get user ids of grp-2 users\n",
    "users_grp2 = df_pd_users[(df_pd_users['event_time'] > 4) & (df_pd_users['event_time'] <=15)].index"
   ]
  },
  {
   "cell_type": "code",
   "execution_count": 72,
   "metadata": {},
   "outputs": [
    {
     "data": {
      "text/plain": [
       "(834330,)"
      ]
     },
     "execution_count": 72,
     "metadata": {},
     "output_type": "execute_result"
    }
   ],
   "source": [
    "users_grp2.shape # ~25% of the users"
   ]
  },
  {
   "cell_type": "code",
   "execution_count": 74,
   "metadata": {},
   "outputs": [],
   "source": [
    "#get their user data from dask original dataframe\n",
    "df_grp_2 = df[df['user_id'].isin(users_grp2)]"
   ]
  },
  {
   "cell_type": "code",
   "execution_count": null,
   "metadata": {},
   "outputs": [],
   "source": [
    "#convert to pandas dataframe for analysis\n",
    "df_grp_pd_2 = pd.DataFrame(df_grp_2.compute())"
   ]
  },
  {
   "cell_type": "code",
   "execution_count": 76,
   "metadata": {},
   "outputs": [
    {
     "data": {
      "text/html": [
       "<div>\n",
       "<style scoped>\n",
       "    .dataframe tbody tr th:only-of-type {\n",
       "        vertical-align: middle;\n",
       "    }\n",
       "\n",
       "    .dataframe tbody tr th {\n",
       "        vertical-align: top;\n",
       "    }\n",
       "\n",
       "    .dataframe thead th {\n",
       "        text-align: right;\n",
       "    }\n",
       "</style>\n",
       "<table border=\"1\" class=\"dataframe\">\n",
       "  <thead>\n",
       "    <tr style=\"text-align: right;\">\n",
       "      <th></th>\n",
       "      <th>event_time</th>\n",
       "      <th>event_type</th>\n",
       "      <th>product_id</th>\n",
       "      <th>category_id</th>\n",
       "      <th>category_code</th>\n",
       "      <th>brand</th>\n",
       "      <th>price</th>\n",
       "      <th>user_id</th>\n",
       "      <th>user_session</th>\n",
       "    </tr>\n",
       "  </thead>\n",
       "  <tbody>\n",
       "    <tr>\n",
       "      <th>9</th>\n",
       "      <td>2019-10-01 00:00:11 UTC</td>\n",
       "      <td>view</td>\n",
       "      <td>1004545</td>\n",
       "      <td>2053013555631882655</td>\n",
       "      <td>electronics.smartphone</td>\n",
       "      <td>huawei</td>\n",
       "      <td>566.01</td>\n",
       "      <td>537918940</td>\n",
       "      <td>406c46ed-90a4-4787-a43b-59a410c1a5fb</td>\n",
       "    </tr>\n",
       "    <tr>\n",
       "      <th>14</th>\n",
       "      <td>2019-10-01 00:00:16 UTC</td>\n",
       "      <td>view</td>\n",
       "      <td>13500240</td>\n",
       "      <td>2053013557099889147</td>\n",
       "      <td>furniture.bedroom.bed</td>\n",
       "      <td>brw</td>\n",
       "      <td>93.18</td>\n",
       "      <td>555446365</td>\n",
       "      <td>7f0062d8-ead0-4e0a-96f6-43a0b79a2fc4</td>\n",
       "    </tr>\n",
       "    <tr>\n",
       "      <th>17</th>\n",
       "      <td>2019-10-01 00:00:18 UTC</td>\n",
       "      <td>view</td>\n",
       "      <td>10900029</td>\n",
       "      <td>2053013555069845885</td>\n",
       "      <td>appliances.kitchen.mixer</td>\n",
       "      <td>bosch</td>\n",
       "      <td>58.95</td>\n",
       "      <td>519528062</td>\n",
       "      <td>901b9e3c-3f8f-4147-a442-c25d5c5ed332</td>\n",
       "    </tr>\n",
       "    <tr>\n",
       "      <th>20</th>\n",
       "      <td>2019-10-01 00:00:20 UTC</td>\n",
       "      <td>view</td>\n",
       "      <td>1003306</td>\n",
       "      <td>2053013555631882655</td>\n",
       "      <td>electronics.smartphone</td>\n",
       "      <td>apple</td>\n",
       "      <td>588.77</td>\n",
       "      <td>555446831</td>\n",
       "      <td>6ec635da-ea15-4a5d-96b4-c8ca9d38f89f</td>\n",
       "    </tr>\n",
       "    <tr>\n",
       "      <th>21</th>\n",
       "      <td>2019-10-01 00:00:20 UTC</td>\n",
       "      <td>view</td>\n",
       "      <td>4803399</td>\n",
       "      <td>2053013554658804075</td>\n",
       "      <td>electronics.audio.headphone</td>\n",
       "      <td>jbl</td>\n",
       "      <td>33.21</td>\n",
       "      <td>555428858</td>\n",
       "      <td>8a6afed4-77f8-40c9-8e76-e062b28216ce</td>\n",
       "    </tr>\n",
       "  </tbody>\n",
       "</table>\n",
       "</div>"
      ],
      "text/plain": [
       "                 event_time event_type  product_id          category_id  \\\n",
       "9   2019-10-01 00:00:11 UTC       view     1004545  2053013555631882655   \n",
       "14  2019-10-01 00:00:16 UTC       view    13500240  2053013557099889147   \n",
       "17  2019-10-01 00:00:18 UTC       view    10900029  2053013555069845885   \n",
       "20  2019-10-01 00:00:20 UTC       view     1003306  2053013555631882655   \n",
       "21  2019-10-01 00:00:20 UTC       view     4803399  2053013554658804075   \n",
       "\n",
       "                  category_code   brand   price    user_id  \\\n",
       "9        electronics.smartphone  huawei  566.01  537918940   \n",
       "14        furniture.bedroom.bed     brw   93.18  555446365   \n",
       "17     appliances.kitchen.mixer   bosch   58.95  519528062   \n",
       "20       electronics.smartphone   apple  588.77  555446831   \n",
       "21  electronics.audio.headphone     jbl   33.21  555428858   \n",
       "\n",
       "                            user_session  \n",
       "9   406c46ed-90a4-4787-a43b-59a410c1a5fb  \n",
       "14  7f0062d8-ead0-4e0a-96f6-43a0b79a2fc4  \n",
       "17  901b9e3c-3f8f-4147-a442-c25d5c5ed332  \n",
       "20  6ec635da-ea15-4a5d-96b4-c8ca9d38f89f  \n",
       "21  8a6afed4-77f8-40c9-8e76-e062b28216ce  "
      ]
     },
     "execution_count": 76,
     "metadata": {},
     "output_type": "execute_result"
    }
   ],
   "source": [
    "df_grp_pd_2.head()"
   ]
  },
  {
   "cell_type": "code",
   "execution_count": 77,
   "metadata": {},
   "outputs": [
    {
     "name": "stdout",
     "output_type": "stream",
     "text": [
      "<class 'pandas.core.frame.DataFrame'>\n",
      "Int64Index: 7227657 entries, 9 to 274862\n",
      "Data columns (total 9 columns):\n",
      "event_time       object\n",
      "event_type       object\n",
      "product_id       int64\n",
      "category_id      int64\n",
      "category_code    object\n",
      "brand            object\n",
      "price            float64\n",
      "user_id          int64\n",
      "user_session     object\n",
      "dtypes: float64(1), int64(3), object(5)\n",
      "memory usage: 551.4+ MB\n"
     ]
    }
   ],
   "source": [
    "df_grp_pd_2.info()"
   ]
  },
  {
   "cell_type": "code",
   "execution_count": 78,
   "metadata": {},
   "outputs": [
    {
     "data": {
      "text/plain": [
       "event_time             0\n",
       "event_type             0\n",
       "product_id             0\n",
       "category_id            0\n",
       "category_code    2235814\n",
       "brand             937989\n",
       "price                  0\n",
       "user_id                0\n",
       "user_session           2\n",
       "dtype: int64"
      ]
     },
     "execution_count": 78,
     "metadata": {},
     "output_type": "execute_result"
    }
   ],
   "source": [
    "df_grp_pd_2.isnull().sum()"
   ]
  },
  {
   "cell_type": "code",
   "execution_count": 81,
   "metadata": {},
   "outputs": [],
   "source": [
    "#we don't need event_time\n",
    "df_grp_pd_2.drop(columns = ['event_time'], inplace = True)"
   ]
  },
  {
   "cell_type": "code",
   "execution_count": 83,
   "metadata": {},
   "outputs": [],
   "source": [
    "#handling missing values\n",
    "df_grp_pd_2['brand'].fillna('No Brand', inplace = True)\n",
    "df_grp_pd_2['category_code'].fillna('No category_code', inplace = True)"
   ]
  },
  {
   "cell_type": "code",
   "execution_count": 85,
   "metadata": {},
   "outputs": [],
   "source": [
    "remove_sessions = df_grp_pd_2[df_grp_pd_2['user_session'].isnull()].index\n",
    "df_grp_pd_2.drop(remove_sessions, inplace = True)"
   ]
  },
  {
   "cell_type": "code",
   "execution_count": 86,
   "metadata": {},
   "outputs": [
    {
     "data": {
      "text/plain": [
       "event_type       0\n",
       "product_id       0\n",
       "category_id      0\n",
       "category_code    0\n",
       "brand            0\n",
       "price            0\n",
       "user_id          0\n",
       "user_session     0\n",
       "dtype: int64"
      ]
     },
     "execution_count": 86,
     "metadata": {},
     "output_type": "execute_result"
    }
   ],
   "source": [
    "df_grp_pd_2.isnull().sum()"
   ]
  },
  {
   "cell_type": "code",
   "execution_count": 87,
   "metadata": {},
   "outputs": [
    {
     "data": {
      "image/png": "[encoded data removed]",
      "text/plain": [
       "<Figure size 1008x432 with 1 Axes>"
      ]
     },
     "metadata": {},
     "output_type": "display_data"
    }
   ],
   "source": [
    "# pie-chart of users as per event-type distribution\n",
    "\n",
    "labels= df_grp_pd_2['event_type'].value_counts().index.tolist()\n",
    "sizes= df_grp_pd_2['event_type'].value_counts().values.tolist()     \n",
    "explode=(0.1,0,0)\n",
    "fig,ax=plt.subplots(1,1,figsize=(14,6))\n",
    "ax.pie(sizes,labels=labels,explode=explode, autopct='%1.1f%%')\n",
    "ax.set_title('By Percentage')\n",
    "ax.axis('equal')\n",
    "plt.show()"
   ]
  },
  {
   "cell_type": "code",
   "execution_count": 125,
   "metadata": {},
   "outputs": [],
   "source": [
    "#grp-2 users who purchased\n",
    "grp2_purchase_users = df_grp_pd_2[df_grp_pd_2['event_type'] == 'purchase']['user_id']\n",
    "grp2_purchase_users = grp2_purchase_users.unique()\n",
    "df_grp2_pur_users = df_grp_pd_2[df_grp_pd_2['user_id'].isin(grp2_purchase_users)]"
   ]
  },
  {
   "cell_type": "code",
   "execution_count": 126,
   "metadata": {},
   "outputs": [
    {
     "data": {
      "text/plain": [
       "<matplotlib.axes._subplots.AxesSubplot at 0x20bc219abe0>"
      ]
     },
     "execution_count": 126,
     "metadata": {},
     "output_type": "execute_result"
    },
    {
     "data": {
      "image/png": "[encoded data removed]",
      "text/plain": [
       "<Figure size 432x288 with 1 Axes>"
      ]
     },
     "metadata": {
      "needs_background": "light"
     },
     "output_type": "display_data"
    }
   ],
   "source": [
    "#check price range of this group\n",
    "df_grp2_pur_users['price'].plot(kind = 'hist')"
   ]
  },
  {
   "cell_type": "code",
   "execution_count": 127,
   "metadata": {},
   "outputs": [],
   "source": [
    "grp_2_top_pur_brands = df_grp2_pur_users['brand'].value_counts()[:20]"
   ]
  },
  {
   "cell_type": "code",
   "execution_count": 128,
   "metadata": {},
   "outputs": [
    {
     "data": {
      "text/plain": [
       "<matplotlib.axes._subplots.AxesSubplot at 0x20bc3b07048>"
      ]
     },
     "execution_count": 128,
     "metadata": {},
     "output_type": "execute_result"
    },
    {
     "data": {
      "image/png": "[encoded data removed]",
      "text/plain": [
       "<Figure size 432x288 with 1 Axes>"
      ]
     },
     "metadata": {
      "needs_background": "light"
     },
     "output_type": "display_data"
    }
   ],
   "source": [
    "#group-2 top brands that are purchased\n",
    "grp_2_top_pur_brands.plot(kind = 'bar', color = 'green')"
   ]
  },
  {
   "cell_type": "code",
   "execution_count": 129,
   "metadata": {},
   "outputs": [],
   "source": [
    "grp_2_top_pur_products = df_grp2_pur_users['product_id'].value_counts()[:20]"
   ]
  },
  {
   "cell_type": "code",
   "execution_count": 130,
   "metadata": {},
   "outputs": [
    {
     "data": {
      "text/plain": [
       "<matplotlib.axes._subplots.AxesSubplot at 0x20be2a84a20>"
      ]
     },
     "execution_count": 130,
     "metadata": {},
     "output_type": "execute_result"
    },
    {
     "data": {
      "image/png": "[encoded data removed]",
      "text/plain": [
       "<Figure size 432x288 with 1 Axes>"
      ]
     },
     "metadata": {
      "needs_background": "light"
     },
     "output_type": "display_data"
    }
   ],
   "source": [
    "grp_2_top_pur_products.plot(kind = 'bar', color = 'pink')"
   ]
  },
  {
   "cell_type": "code",
   "execution_count": 131,
   "metadata": {},
   "outputs": [
    {
     "data": {
      "text/plain": [
       "electronics.smartphone              2209912\n",
       "No category_code                    2205213\n",
       "electronics.audio.headphone          207483\n",
       "electronics.clocks                   202964\n",
       "electronics.video.tv                 195796\n",
       "computers.notebook                   152483\n",
       "appliances.kitchen.washer            147704\n",
       "appliances.kitchen.refrigerators     147386\n",
       "appliances.environment.vacuum        123385\n",
       "apparel.shoes                        109737\n",
       "auto.accessories.player               76788\n",
       "apparel.shoes.keds                    68333\n",
       "furniture.bedroom.bed                 61010\n",
       "computers.desktop                     54286\n",
       "electronics.tablet                    53468\n",
       "electronics.audio.subwoofer           40285\n",
       "furniture.living_room.sofa            36365\n",
       "furniture.living_room.cabinet         35973\n",
       "electronics.telephone                 35696\n",
       "auto.accessories.videoregister        35196\n",
       "Name: category_code, dtype: int64"
      ]
     },
     "execution_count": 131,
     "metadata": {},
     "output_type": "execute_result"
    }
   ],
   "source": [
    "#check most viewed category\n",
    "df_grp_pd_2[df_grp_pd_2['event_type'] != 'purchase']['category_code'].value_counts()[:20]"
   ]
  },
  {
   "cell_type": "code",
   "execution_count": 133,
   "metadata": {},
   "outputs": [
    {
     "data": {
      "text/plain": [
       "<seaborn.axisgrid.FacetGrid at 0x20bccf9b390>"
      ]
     },
     "execution_count": 133,
     "metadata": {},
     "output_type": "execute_result"
    },
    {
     "data": {
      "image/png": "[encoded data removed]",
      "text/plain": [
       "<Figure size 360x360 with 1 Axes>"
      ]
     },
     "metadata": {
      "needs_background": "light"
     },
     "output_type": "display_data"
    }
   ],
   "source": [
    "sns.catplot(x=\"event_type\", y=\"price\", kind=\"box\", data=df_grp_pd_2)"
   ]
  },
  {
   "cell_type": "markdown",
   "metadata": {},
   "source": [
    "#### Outliers Group:"
   ]
  },
  {
   "cell_type": "code",
   "execution_count": 6,
   "metadata": {},
   "outputs": [],
   "source": [
    "#get user ids of grp-2 users\n",
    "users_grp3 = df_pd_users[(df_pd_users['event_time'] > 15)].index"
   ]
  },
  {
   "cell_type": "code",
   "execution_count": 136,
   "metadata": {},
   "outputs": [
    {
     "data": {
      "text/plain": [
       "(668679,)"
      ]
     },
     "execution_count": 136,
     "metadata": {},
     "output_type": "execute_result"
    }
   ],
   "source": [
    "users_grp3.shape # ~22% of the users"
   ]
  },
  {
   "cell_type": "code",
   "execution_count": 137,
   "metadata": {},
   "outputs": [],
   "source": [
    "#get their user data from dask original dataframe\n",
    "df_grp_3 = df[df['user_id'].isin(users_grp3)]"
   ]
  },
  {
   "cell_type": "code",
   "execution_count": 140,
   "metadata": {},
   "outputs": [],
   "source": [
    "#convert to pandas dataframe for analysis\n",
    "df_grp_pd_3 = pd.DataFrame(df_grp_3.compute())"
   ]
  },
  {
   "cell_type": "code",
   "execution_count": 141,
   "metadata": {},
   "outputs": [
    {
     "data": {
      "text/html": [
       "<div>\n",
       "<style scoped>\n",
       "    .dataframe tbody tr th:only-of-type {\n",
       "        vertical-align: middle;\n",
       "    }\n",
       "\n",
       "    .dataframe tbody tr th {\n",
       "        vertical-align: top;\n",
       "    }\n",
       "\n",
       "    .dataframe thead th {\n",
       "        text-align: right;\n",
       "    }\n",
       "</style>\n",
       "<table border=\"1\" class=\"dataframe\">\n",
       "  <thead>\n",
       "    <tr style=\"text-align: right;\">\n",
       "      <th></th>\n",
       "      <th>event_time</th>\n",
       "      <th>event_type</th>\n",
       "      <th>product_id</th>\n",
       "      <th>category_id</th>\n",
       "      <th>category_code</th>\n",
       "      <th>brand</th>\n",
       "      <th>price</th>\n",
       "      <th>user_id</th>\n",
       "      <th>user_session</th>\n",
       "    </tr>\n",
       "  </thead>\n",
       "  <tbody>\n",
       "    <tr>\n",
       "      <th>0</th>\n",
       "      <td>2019-10-01 00:00:00 UTC</td>\n",
       "      <td>view</td>\n",
       "      <td>44600062</td>\n",
       "      <td>2103807459595387724</td>\n",
       "      <td>NaN</td>\n",
       "      <td>shiseido</td>\n",
       "      <td>35.79</td>\n",
       "      <td>541312140</td>\n",
       "      <td>72d76fde-8bb3-4e00-8c23-a032dfed738c</td>\n",
       "    </tr>\n",
       "    <tr>\n",
       "      <th>2</th>\n",
       "      <td>2019-10-01 00:00:01 UTC</td>\n",
       "      <td>view</td>\n",
       "      <td>17200506</td>\n",
       "      <td>2053013559792632471</td>\n",
       "      <td>furniture.living_room.sofa</td>\n",
       "      <td>NaN</td>\n",
       "      <td>543.10</td>\n",
       "      <td>519107250</td>\n",
       "      <td>566511c2-e2e3-422b-b695-cf8e6e792ca8</td>\n",
       "    </tr>\n",
       "    <tr>\n",
       "      <th>3</th>\n",
       "      <td>2019-10-01 00:00:01 UTC</td>\n",
       "      <td>view</td>\n",
       "      <td>1307067</td>\n",
       "      <td>2053013558920217191</td>\n",
       "      <td>computers.notebook</td>\n",
       "      <td>lenovo</td>\n",
       "      <td>251.74</td>\n",
       "      <td>550050854</td>\n",
       "      <td>7c90fc70-0e80-4590-96f3-13c02c18c713</td>\n",
       "    </tr>\n",
       "    <tr>\n",
       "      <th>4</th>\n",
       "      <td>2019-10-01 00:00:04 UTC</td>\n",
       "      <td>view</td>\n",
       "      <td>1004237</td>\n",
       "      <td>2053013555631882655</td>\n",
       "      <td>electronics.smartphone</td>\n",
       "      <td>apple</td>\n",
       "      <td>1081.98</td>\n",
       "      <td>535871217</td>\n",
       "      <td>c6bd7419-2748-4c56-95b4-8cec9ff8b80d</td>\n",
       "    </tr>\n",
       "    <tr>\n",
       "      <th>5</th>\n",
       "      <td>2019-10-01 00:00:05 UTC</td>\n",
       "      <td>view</td>\n",
       "      <td>1480613</td>\n",
       "      <td>2053013561092866779</td>\n",
       "      <td>computers.desktop</td>\n",
       "      <td>pulser</td>\n",
       "      <td>908.62</td>\n",
       "      <td>512742880</td>\n",
       "      <td>0d0d91c2-c9c2-4e81-90a5-86594dec0db9</td>\n",
       "    </tr>\n",
       "  </tbody>\n",
       "</table>\n",
       "</div>"
      ],
      "text/plain": [
       "                event_time event_type  product_id          category_id  \\\n",
       "0  2019-10-01 00:00:00 UTC       view    44600062  2103807459595387724   \n",
       "2  2019-10-01 00:00:01 UTC       view    17200506  2053013559792632471   \n",
       "3  2019-10-01 00:00:01 UTC       view     1307067  2053013558920217191   \n",
       "4  2019-10-01 00:00:04 UTC       view     1004237  2053013555631882655   \n",
       "5  2019-10-01 00:00:05 UTC       view     1480613  2053013561092866779   \n",
       "\n",
       "                category_code     brand    price    user_id  \\\n",
       "0                         NaN  shiseido    35.79  541312140   \n",
       "2  furniture.living_room.sofa       NaN   543.10  519107250   \n",
       "3          computers.notebook    lenovo   251.74  550050854   \n",
       "4      electronics.smartphone     apple  1081.98  535871217   \n",
       "5           computers.desktop    pulser   908.62  512742880   \n",
       "\n",
       "                           user_session  \n",
       "0  72d76fde-8bb3-4e00-8c23-a032dfed738c  \n",
       "2  566511c2-e2e3-422b-b695-cf8e6e792ca8  \n",
       "3  7c90fc70-0e80-4590-96f3-13c02c18c713  \n",
       "4  c6bd7419-2748-4c56-95b4-8cec9ff8b80d  \n",
       "5  0d0d91c2-c9c2-4e81-90a5-86594dec0db9  "
      ]
     },
     "execution_count": 141,
     "metadata": {},
     "output_type": "execute_result"
    }
   ],
   "source": [
    "df_grp_pd_3.head()"
   ]
  },
  {
   "cell_type": "code",
   "execution_count": 142,
   "metadata": {},
   "outputs": [
    {
     "name": "stdout",
     "output_type": "stream",
     "text": [
      "<class 'pandas.core.frame.DataFrame'>\n",
      "Int64Index: 32215071 entries, 0 to 274873\n",
      "Data columns (total 9 columns):\n",
      "event_time       object\n",
      "event_type       object\n",
      "product_id       int64\n",
      "category_id      int64\n",
      "category_code    object\n",
      "brand            object\n",
      "price            float64\n",
      "user_id          int64\n",
      "user_session     object\n",
      "dtypes: float64(1), int64(3), object(5)\n",
      "memory usage: 2.4+ GB\n"
     ]
    }
   ],
   "source": [
    "df_grp_pd_3.info()"
   ]
  },
  {
   "cell_type": "code",
   "execution_count": 143,
   "metadata": {},
   "outputs": [
    {
     "data": {
      "text/html": [
       "<div>\n",
       "<style scoped>\n",
       "    .dataframe tbody tr th:only-of-type {\n",
       "        vertical-align: middle;\n",
       "    }\n",
       "\n",
       "    .dataframe tbody tr th {\n",
       "        vertical-align: top;\n",
       "    }\n",
       "\n",
       "    .dataframe thead th {\n",
       "        text-align: right;\n",
       "    }\n",
       "</style>\n",
       "<table border=\"1\" class=\"dataframe\">\n",
       "  <thead>\n",
       "    <tr style=\"text-align: right;\">\n",
       "      <th></th>\n",
       "      <th>event_time</th>\n",
       "      <th>event_type</th>\n",
       "      <th>product_id</th>\n",
       "      <th>category_id</th>\n",
       "      <th>category_code</th>\n",
       "      <th>brand</th>\n",
       "      <th>price</th>\n",
       "      <th>user_id</th>\n",
       "      <th>user_session</th>\n",
       "    </tr>\n",
       "  </thead>\n",
       "  <tbody>\n",
       "    <tr>\n",
       "      <th>0</th>\n",
       "      <td>2019-10-01 00:00:00 UTC</td>\n",
       "      <td>view</td>\n",
       "      <td>44600062</td>\n",
       "      <td>2103807459595387724</td>\n",
       "      <td>NaN</td>\n",
       "      <td>shiseido</td>\n",
       "      <td>35.79</td>\n",
       "      <td>541312140</td>\n",
       "      <td>72d76fde-8bb3-4e00-8c23-a032dfed738c</td>\n",
       "    </tr>\n",
       "    <tr>\n",
       "      <th>2</th>\n",
       "      <td>2019-10-01 00:00:01 UTC</td>\n",
       "      <td>view</td>\n",
       "      <td>17200506</td>\n",
       "      <td>2053013559792632471</td>\n",
       "      <td>furniture.living_room.sofa</td>\n",
       "      <td>NaN</td>\n",
       "      <td>543.10</td>\n",
       "      <td>519107250</td>\n",
       "      <td>566511c2-e2e3-422b-b695-cf8e6e792ca8</td>\n",
       "    </tr>\n",
       "    <tr>\n",
       "      <th>3</th>\n",
       "      <td>2019-10-01 00:00:01 UTC</td>\n",
       "      <td>view</td>\n",
       "      <td>1307067</td>\n",
       "      <td>2053013558920217191</td>\n",
       "      <td>computers.notebook</td>\n",
       "      <td>lenovo</td>\n",
       "      <td>251.74</td>\n",
       "      <td>550050854</td>\n",
       "      <td>7c90fc70-0e80-4590-96f3-13c02c18c713</td>\n",
       "    </tr>\n",
       "    <tr>\n",
       "      <th>4</th>\n",
       "      <td>2019-10-01 00:00:04 UTC</td>\n",
       "      <td>view</td>\n",
       "      <td>1004237</td>\n",
       "      <td>2053013555631882655</td>\n",
       "      <td>electronics.smartphone</td>\n",
       "      <td>apple</td>\n",
       "      <td>1081.98</td>\n",
       "      <td>535871217</td>\n",
       "      <td>c6bd7419-2748-4c56-95b4-8cec9ff8b80d</td>\n",
       "    </tr>\n",
       "    <tr>\n",
       "      <th>5</th>\n",
       "      <td>2019-10-01 00:00:05 UTC</td>\n",
       "      <td>view</td>\n",
       "      <td>1480613</td>\n",
       "      <td>2053013561092866779</td>\n",
       "      <td>computers.desktop</td>\n",
       "      <td>pulser</td>\n",
       "      <td>908.62</td>\n",
       "      <td>512742880</td>\n",
       "      <td>0d0d91c2-c9c2-4e81-90a5-86594dec0db9</td>\n",
       "    </tr>\n",
       "  </tbody>\n",
       "</table>\n",
       "</div>"
      ],
      "text/plain": [
       "                event_time event_type  product_id          category_id  \\\n",
       "0  2019-10-01 00:00:00 UTC       view    44600062  2103807459595387724   \n",
       "2  2019-10-01 00:00:01 UTC       view    17200506  2053013559792632471   \n",
       "3  2019-10-01 00:00:01 UTC       view     1307067  2053013558920217191   \n",
       "4  2019-10-01 00:00:04 UTC       view     1004237  2053013555631882655   \n",
       "5  2019-10-01 00:00:05 UTC       view     1480613  2053013561092866779   \n",
       "\n",
       "                category_code     brand    price    user_id  \\\n",
       "0                         NaN  shiseido    35.79  541312140   \n",
       "2  furniture.living_room.sofa       NaN   543.10  519107250   \n",
       "3          computers.notebook    lenovo   251.74  550050854   \n",
       "4      electronics.smartphone     apple  1081.98  535871217   \n",
       "5           computers.desktop    pulser   908.62  512742880   \n",
       "\n",
       "                           user_session  \n",
       "0  72d76fde-8bb3-4e00-8c23-a032dfed738c  \n",
       "2  566511c2-e2e3-422b-b695-cf8e6e792ca8  \n",
       "3  7c90fc70-0e80-4590-96f3-13c02c18c713  \n",
       "4  c6bd7419-2748-4c56-95b4-8cec9ff8b80d  \n",
       "5  0d0d91c2-c9c2-4e81-90a5-86594dec0db9  "
      ]
     },
     "execution_count": 143,
     "metadata": {},
     "output_type": "execute_result"
    }
   ],
   "source": [
    "df_grp_pd_3.head()"
   ]
  },
  {
   "cell_type": "code",
   "execution_count": 144,
   "metadata": {},
   "outputs": [
    {
     "data": {
      "text/plain": [
       "event_time              0\n",
       "event_type              0\n",
       "product_id              0\n",
       "category_id             0\n",
       "category_code    10297265\n",
       "brand             4793223\n",
       "price                   0\n",
       "user_id                 0\n",
       "user_session            0\n",
       "dtype: int64"
      ]
     },
     "execution_count": 144,
     "metadata": {},
     "output_type": "execute_result"
    }
   ],
   "source": [
    "df_grp_pd_3.isnull().sum()"
   ]
  },
  {
   "cell_type": "code",
   "execution_count": 145,
   "metadata": {},
   "outputs": [],
   "source": [
    "df_grp_pd_3.drop(columns = ['event_time'], inplace = True)"
   ]
  },
  {
   "cell_type": "code",
   "execution_count": 146,
   "metadata": {},
   "outputs": [],
   "source": [
    "#handling missing values\n",
    "df_grp_pd_3['brand'].fillna('No Brand', inplace = True)\n",
    "df_grp_pd_3['category_code'].fillna('No category_code', inplace = True)"
   ]
  },
  {
   "cell_type": "code",
   "execution_count": 147,
   "metadata": {},
   "outputs": [
    {
     "data": {
      "text/plain": [
       "event_type       0\n",
       "product_id       0\n",
       "category_id      0\n",
       "category_code    0\n",
       "brand            0\n",
       "price            0\n",
       "user_id          0\n",
       "user_session     0\n",
       "dtype: int64"
      ]
     },
     "execution_count": 147,
     "metadata": {},
     "output_type": "execute_result"
    }
   ],
   "source": [
    "df_grp_pd_3.isnull().sum()"
   ]
  },
  {
   "cell_type": "code",
   "execution_count": 148,
   "metadata": {},
   "outputs": [
    {
     "data": {
      "image/png": "[encoded data removed]",
      "text/plain": [
       "<Figure size 1008x432 with 1 Axes>"
      ]
     },
     "metadata": {},
     "output_type": "display_data"
    }
   ],
   "source": [
    "# pie-chart of users as per event-type distribution\n",
    "\n",
    "labels= df_grp_pd_3['event_type'].value_counts().index.tolist()\n",
    "sizes= df_grp_pd_3['event_type'].value_counts().values.tolist()     \n",
    "explode=(0.1,0,0)\n",
    "fig,ax=plt.subplots(1,1,figsize=(14,6))\n",
    "ax.pie(sizes,labels=labels,explode=explode, autopct='%1.1f%%')\n",
    "ax.set_title('By Percentage')\n",
    "ax.axis('equal')\n",
    "plt.show()"
   ]
  },
  {
   "cell_type": "code",
   "execution_count": 149,
   "metadata": {},
   "outputs": [],
   "source": [
    "#grp-3 users who purchased\n",
    "grp3_purchase_users = df_grp_pd_3[df_grp_pd_3['event_type'] == 'purchase']['user_id']\n",
    "grp3_purchase_users = grp3_purchase_users.unique()\n",
    "df_grp3_pur_users = df_grp_pd_3[df_grp_pd_3['user_id'].isin(grp3_purchase_users)]"
   ]
  },
  {
   "cell_type": "code",
   "execution_count": 150,
   "metadata": {},
   "outputs": [
    {
     "data": {
      "text/plain": [
       "<matplotlib.axes._subplots.AxesSubplot at 0x20d0b4cda20>"
      ]
     },
     "execution_count": 150,
     "metadata": {},
     "output_type": "execute_result"
    },
    {
     "data": {
      "image/png": "[encoded data removed]",
      "text/plain": [
       "<Figure size 432x288 with 1 Axes>"
      ]
     },
     "metadata": {
      "needs_background": "light"
     },
     "output_type": "display_data"
    }
   ],
   "source": [
    "#check price range of this group\n",
    "df_grp3_pur_users['price'].plot(kind = 'hist')"
   ]
  },
  {
   "cell_type": "code",
   "execution_count": 151,
   "metadata": {},
   "outputs": [],
   "source": [
    "grp_3_top_pur_brands = df_grp3_pur_users['brand'].value_counts()[:20]"
   ]
  },
  {
   "cell_type": "code",
   "execution_count": 153,
   "metadata": {},
   "outputs": [
    {
     "data": {
      "text/plain": [
       "<matplotlib.axes._subplots.AxesSubplot at 0x20d1751bef0>"
      ]
     },
     "execution_count": 153,
     "metadata": {},
     "output_type": "execute_result"
    },
    {
     "data": {
      "image/png": "[encoded data removed]",
      "text/plain": [
       "<Figure size 432x288 with 1 Axes>"
      ]
     },
     "metadata": {
      "needs_background": "light"
     },
     "output_type": "display_data"
    }
   ],
   "source": [
    "grp_3_top_pur_brands.plot(kind = 'bar', color = 'green')"
   ]
  },
  {
   "cell_type": "code",
   "execution_count": 154,
   "metadata": {},
   "outputs": [],
   "source": [
    "grp_3_top_pur_products = df_grp3_pur_users['product_id'].value_counts()[:20]"
   ]
  },
  {
   "cell_type": "code",
   "execution_count": 155,
   "metadata": {},
   "outputs": [
    {
     "data": {
      "text/plain": [
       "<matplotlib.axes._subplots.AxesSubplot at 0x20c52ae99b0>"
      ]
     },
     "execution_count": 155,
     "metadata": {},
     "output_type": "execute_result"
    },
    {
     "data": {
      "image/png": "[encoded data removed]",
      "text/plain": [
       "<Figure size 432x288 with 1 Axes>"
      ]
     },
     "metadata": {
      "needs_background": "light"
     },
     "output_type": "display_data"
    }
   ],
   "source": [
    "grp_3_top_pur_products.plot(kind = 'bar', color = 'pink')"
   ]
  },
  {
   "cell_type": "code",
   "execution_count": 156,
   "metadata": {},
   "outputs": [
    {
     "data": {
      "text/plain": [
       "No category_code                    10161472\n",
       "electronics.smartphone               7953111\n",
       "electronics.clocks                    996828\n",
       "computers.notebook                    917493\n",
       "electronics.video.tv                  831337\n",
       "electronics.audio.headphone           761896\n",
       "appliances.kitchen.refrigerators      682482\n",
       "appliances.kitchen.washer             652159\n",
       "appliances.environment.vacuum         627346\n",
       "apparel.shoes                         613008\n",
       "auto.accessories.player               361888\n",
       "computers.desktop                     349066\n",
       "apparel.shoes.keds                    313985\n",
       "furniture.bedroom.bed                 275337\n",
       "electronics.audio.subwoofer           258283\n",
       "furniture.living_room.cabinet         253968\n",
       "construction.tools.drill              236913\n",
       "electronics.tablet                    234132\n",
       "electronics.telephone                 196171\n",
       "auto.accessories.videoregister        174135\n",
       "Name: category_code, dtype: int64"
      ]
     },
     "execution_count": 156,
     "metadata": {},
     "output_type": "execute_result"
    }
   ],
   "source": [
    "#check most viewed category\n",
    "df_grp_pd_3[df_grp_pd_3['event_type'] != 'purchase']['category_code'].value_counts()[:20]"
   ]
  },
  {
   "cell_type": "code",
   "execution_count": 158,
   "metadata": {},
   "outputs": [
    {
     "data": {
      "text/plain": [
       "<seaborn.axisgrid.FacetGrid at 0x20c52bdab38>"
      ]
     },
     "execution_count": 158,
     "metadata": {},
     "output_type": "execute_result"
    },
    {
     "data": {
      "image/png": "[encoded data removed]",
      "text/plain": [
       "<Figure size 360x360 with 1 Axes>"
      ]
     },
     "metadata": {
      "needs_background": "light"
     },
     "output_type": "display_data"
    }
   ],
   "source": [
    "sns.catplot(x=\"event_type\", y=\"price\", kind=\"box\", data=df_grp_pd_3)"
   ]
  },
  {
   "cell_type": "markdown",
   "metadata": {},
   "source": [
    "All the groups have more or less the same trends for all the plots. Although not expected it."
   ]
  },
  {
   "cell_type": "markdown",
   "metadata": {},
   "source": [
    "### Data Modelling:"
   ]
  },
  {
   "cell_type": "code",
   "execution_count": 7,
   "metadata": {},
   "outputs": [
    {
     "data": {
      "text/html": [
       "<div>\n",
       "<style scoped>\n",
       "    .dataframe tbody tr th:only-of-type {\n",
       "        vertical-align: middle;\n",
       "    }\n",
       "\n",
       "    .dataframe tbody tr th {\n",
       "        vertical-align: top;\n",
       "    }\n",
       "\n",
       "    .dataframe thead th {\n",
       "        text-align: right;\n",
       "    }\n",
       "</style>\n",
       "<table border=\"1\" class=\"dataframe\">\n",
       "  <thead>\n",
       "    <tr style=\"text-align: right;\">\n",
       "      <th></th>\n",
       "      <th>event_time</th>\n",
       "      <th>event_type</th>\n",
       "      <th>product_id</th>\n",
       "      <th>category_id</th>\n",
       "      <th>category_code</th>\n",
       "      <th>brand</th>\n",
       "      <th>price</th>\n",
       "      <th>user_session</th>\n",
       "    </tr>\n",
       "    <tr>\n",
       "      <th>user_id</th>\n",
       "      <th></th>\n",
       "      <th></th>\n",
       "      <th></th>\n",
       "      <th></th>\n",
       "      <th></th>\n",
       "      <th></th>\n",
       "      <th></th>\n",
       "      <th></th>\n",
       "    </tr>\n",
       "  </thead>\n",
       "  <tbody>\n",
       "    <tr>\n",
       "      <th>244951053</th>\n",
       "      <td>15</td>\n",
       "      <td>15</td>\n",
       "      <td>15</td>\n",
       "      <td>15</td>\n",
       "      <td>15</td>\n",
       "      <td>12</td>\n",
       "      <td>15</td>\n",
       "      <td>15</td>\n",
       "    </tr>\n",
       "    <tr>\n",
       "      <th>306441847</th>\n",
       "      <td>9</td>\n",
       "      <td>9</td>\n",
       "      <td>9</td>\n",
       "      <td>9</td>\n",
       "      <td>9</td>\n",
       "      <td>9</td>\n",
       "      <td>9</td>\n",
       "      <td>9</td>\n",
       "    </tr>\n",
       "    <tr>\n",
       "      <th>321655812</th>\n",
       "      <td>16</td>\n",
       "      <td>16</td>\n",
       "      <td>16</td>\n",
       "      <td>16</td>\n",
       "      <td>16</td>\n",
       "      <td>13</td>\n",
       "      <td>16</td>\n",
       "      <td>16</td>\n",
       "    </tr>\n",
       "    <tr>\n",
       "      <th>330585300</th>\n",
       "      <td>6</td>\n",
       "      <td>6</td>\n",
       "      <td>6</td>\n",
       "      <td>6</td>\n",
       "      <td>6</td>\n",
       "      <td>6</td>\n",
       "      <td>6</td>\n",
       "      <td>6</td>\n",
       "    </tr>\n",
       "    <tr>\n",
       "      <th>332550649</th>\n",
       "      <td>7</td>\n",
       "      <td>7</td>\n",
       "      <td>7</td>\n",
       "      <td>7</td>\n",
       "      <td>1</td>\n",
       "      <td>4</td>\n",
       "      <td>7</td>\n",
       "      <td>7</td>\n",
       "    </tr>\n",
       "  </tbody>\n",
       "</table>\n",
       "</div>"
      ],
      "text/plain": [
       "           event_time  event_type  product_id  category_id  category_code  \\\n",
       "user_id                                                                     \n",
       "244951053          15          15          15           15             15   \n",
       "306441847           9           9           9            9              9   \n",
       "321655812          16          16          16           16             16   \n",
       "330585300           6           6           6            6              6   \n",
       "332550649           7           7           7            7              1   \n",
       "\n",
       "           brand  price  user_session  \n",
       "user_id                                \n",
       "244951053     12     15            15  \n",
       "306441847      9      9             9  \n",
       "321655812     13     16            16  \n",
       "330585300      6      6             6  \n",
       "332550649      4      7             7  "
      ]
     },
     "execution_count": 7,
     "metadata": {},
     "output_type": "execute_result"
    }
   ],
   "source": [
    "df_pd_users.head()"
   ]
  },
  {
   "cell_type": "code",
   "execution_count": 8,
   "metadata": {},
   "outputs": [],
   "source": [
    "new_df = df[~(df['user_id'].isin(users_grp3))]"
   ]
  },
  {
   "cell_type": "code",
   "execution_count": 9,
   "metadata": {},
   "outputs": [],
   "source": [
    "new_pd_df = pd.DataFrame(new_df.compute())"
   ]
  },
  {
   "cell_type": "code",
   "execution_count": 10,
   "metadata": {},
   "outputs": [
    {
     "name": "stdout",
     "output_type": "stream",
     "text": [
      "<class 'pandas.core.frame.DataFrame'>\n",
      "Int64Index: 10233693 entries, 1 to 274871\n",
      "Data columns (total 9 columns):\n",
      "event_time       object\n",
      "event_type       object\n",
      "product_id       int64\n",
      "category_id      int64\n",
      "category_code    object\n",
      "brand            object\n",
      "price            float64\n",
      "user_id          int64\n",
      "user_session     object\n",
      "dtypes: float64(1), int64(3), object(5)\n",
      "memory usage: 780.8+ MB\n"
     ]
    }
   ],
   "source": [
    "new_pd_df.info()"
   ]
  },
  {
   "cell_type": "code",
   "execution_count": 20,
   "metadata": {},
   "outputs": [
    {
     "data": {
      "text/plain": [
       "event_time             0\n",
       "event_type             0\n",
       "product_id             0\n",
       "category_id            0\n",
       "category_code    3218344\n",
       "brand            1323857\n",
       "price                  0\n",
       "user_id                0\n",
       "user_session           2\n",
       "dtype: int64"
      ]
     },
     "execution_count": 20,
     "metadata": {},
     "output_type": "execute_result"
    }
   ],
   "source": [
    "new_pd_df.isnull().sum()"
   ]
  },
  {
   "cell_type": "code",
   "execution_count": 11,
   "metadata": {},
   "outputs": [],
   "source": [
    "new_pd_df.drop(columns = ['event_time'], inplace = True)"
   ]
  },
  {
   "cell_type": "code",
   "execution_count": 12,
   "metadata": {},
   "outputs": [],
   "source": [
    "new_pd_df['brand'].fillna('No Brand', inplace = True)\n",
    "new_pd_df['category_code'].fillna('No category_code', inplace = True)"
   ]
  },
  {
   "cell_type": "code",
   "execution_count": 13,
   "metadata": {},
   "outputs": [],
   "source": [
    "idx_drps = new_pd_df[new_pd_df['user_session'].isnull()].index\n",
    "new_pd_df.drop(idx_drps, inplace = True)"
   ]
  },
  {
   "cell_type": "code",
   "execution_count": 14,
   "metadata": {},
   "outputs": [
    {
     "data": {
      "text/plain": [
       "event_type       0\n",
       "product_id       0\n",
       "category_id      0\n",
       "category_code    0\n",
       "brand            0\n",
       "price            0\n",
       "user_id          0\n",
       "user_session     0\n",
       "dtype: int64"
      ]
     },
     "execution_count": 14,
     "metadata": {},
     "output_type": "execute_result"
    }
   ],
   "source": [
    "new_pd_df.isnull().sum()"
   ]
  },
  {
   "cell_type": "markdown",
   "metadata": {},
   "source": [
    "So, we have cleaned the data by handling missing values, removing unwanted columns and outlier data."
   ]
  },
  {
   "cell_type": "markdown",
   "metadata": {},
   "source": [
    "#### Using Purchase History For Recommendations"
   ]
  },
  {
   "cell_type": "code",
   "execution_count": 15,
   "metadata": {},
   "outputs": [],
   "source": [
    "#check how many products bought at max by one user in october\n",
    "new_pd_df_purchase = new_pd_df[new_pd_df['event_type'] == 'purchase']"
   ]
  },
  {
   "cell_type": "code",
   "execution_count": 16,
   "metadata": {},
   "outputs": [
    {
     "data": {
      "text/plain": [
       "177113"
      ]
     },
     "execution_count": 16,
     "metadata": {},
     "output_type": "execute_result"
    }
   ],
   "source": [
    "len(new_pd_df_purchase)"
   ]
  },
  {
   "cell_type": "code",
   "execution_count": 17,
   "metadata": {},
   "outputs": [
    {
     "data": {
      "text/plain": [
       "purchase    177113\n",
       "Name: event_type, dtype: int64"
      ]
     },
     "execution_count": 17,
     "metadata": {},
     "output_type": "execute_result"
    }
   ],
   "source": [
    "new_pd_df_purchase['event_type'].value_counts()"
   ]
  },
  {
   "cell_type": "code",
   "execution_count": 18,
   "metadata": {},
   "outputs": [],
   "source": [
    "purchase_user_grps_freq_products = new_pd_df_purchase.groupby('user_id').count()"
   ]
  },
  {
   "cell_type": "code",
   "execution_count": 19,
   "metadata": {},
   "outputs": [
    {
     "data": {
      "text/plain": [
       "141037"
      ]
     },
     "execution_count": 19,
     "metadata": {},
     "output_type": "execute_result"
    }
   ],
   "source": [
    "len(purchase_user_grps_freq_products)"
   ]
  },
  {
   "cell_type": "code",
   "execution_count": 20,
   "metadata": {},
   "outputs": [
    {
     "data": {
      "text/plain": [
       "1    112289\n",
       "2     22633\n",
       "3      5032\n",
       "4       957\n",
       "5       122\n",
       "6         4\n",
       "Name: user_session, dtype: int64"
      ]
     },
     "execution_count": 20,
     "metadata": {},
     "output_type": "execute_result"
    }
   ],
   "source": [
    "#no of products bought with number of users\n",
    "purchase_user_grps_freq_products['user_session'].value_counts()"
   ]
  },
  {
   "cell_type": "code",
   "execution_count": 21,
   "metadata": {},
   "outputs": [],
   "source": [
    "#users id with 6 or more products\n",
    "users_4_more_products = purchase_user_grps_freq_products[purchase_user_grps_freq_products['user_session'] >= 4].index.tolist()\n",
    "#user ids of less than 4 and 5 products\n",
    "users_3_products = purchase_user_grps_freq_products[(purchase_user_grps_freq_products['user_session'] == 3) | (purchase_user_grps_freq_products['user_session'] == 5)].index.tolist()\n",
    "#user ids of less than 2,3 products\n",
    "users_2_less_products = purchase_user_grps_freq_products[(purchase_user_grps_freq_products['user_session'] == 2) | (purchase_user_grps_freq_products['user_session'] == 3)].index.tolist()\n",
    "#user ids of 1 products\n",
    "users_1_products = purchase_user_grps_freq_products[purchase_user_grps_freq_products['user_session'] == 1].index.tolist()"
   ]
  },
  {
   "cell_type": "code",
   "execution_count": 22,
   "metadata": {},
   "outputs": [
    {
     "name": "stdout",
     "output_type": "stream",
     "text": [
      "1083\n",
      "5154\n",
      "27665\n",
      "112289\n"
     ]
    }
   ],
   "source": [
    "print(len(users_4_more_products))\n",
    "print(len(users_3_products))\n",
    "print(len(users_2_less_products))\n",
    "print(len(users_1_products))"
   ]
  },
  {
   "cell_type": "code",
   "execution_count": 23,
   "metadata": {},
   "outputs": [],
   "source": [
    "middle_index = len(users_1_products)//2\n",
    "first_half_1_product = users_1_products[:middle_index]\n",
    "second_half_1_product = users_1_products[middle_index:]"
   ]
  },
  {
   "cell_type": "code",
   "execution_count": 24,
   "metadata": {},
   "outputs": [],
   "source": [
    "new_pd_df['ratings'] = np.zeros(len(new_pd_df), dtype=int)"
   ]
  },
  {
   "cell_type": "code",
   "execution_count": 25,
   "metadata": {},
   "outputs": [],
   "source": [
    "new_pd_df['ratings'] = np.where(new_pd_df['user_id'].isin(users_4_more_products), \n",
    "                           5,      \n",
    "                           new_pd_df['ratings'])     \n",
    "new_pd_df['ratings'] = np.where(new_pd_df['user_id'].isin(users_3_products), \n",
    "                           4,      \n",
    "                           new_pd_df['ratings'])     \n",
    "new_pd_df['ratings'] = np.where(new_pd_df['user_id'].isin(users_2_less_products), \n",
    "                           3,      \n",
    "                           new_pd_df['ratings'])     \n",
    "new_pd_df['ratings'] = np.where(new_pd_df['user_id'].isin(first_half_1_product), \n",
    "                           2,      \n",
    "                           new_pd_df['ratings'])     \n",
    "new_pd_df['ratings'] = np.where(new_pd_df['user_id'].isin(second_half_1_product), \n",
    "                           1,      \n",
    "                           new_pd_df['ratings'])     "
   ]
  },
  {
   "cell_type": "code",
   "execution_count": 26,
   "metadata": {},
   "outputs": [
    {
     "data": {
      "text/plain": [
       "0    9102415\n",
       "2     440762\n",
       "1     387290\n",
       "3     288741\n",
       "5      12720\n",
       "4       1724\n",
       "Name: ratings, dtype: int64"
      ]
     },
     "execution_count": 26,
     "metadata": {},
     "output_type": "execute_result"
    }
   ],
   "source": [
    "new_pd_df['ratings'].value_counts()"
   ]
  },
  {
   "cell_type": "markdown",
   "metadata": {},
   "source": [
    "As most of the data is view or carts so rating only for products that were purchased. "
   ]
  },
  {
   "cell_type": "code",
   "execution_count": 27,
   "metadata": {},
   "outputs": [],
   "source": [
    "grp_usr = new_pd_df.groupby('user_id').count()"
   ]
  },
  {
   "cell_type": "code",
   "execution_count": 28,
   "metadata": {},
   "outputs": [
    {
     "data": {
      "text/plain": [
       "(2353608, 8)"
      ]
     },
     "execution_count": 28,
     "metadata": {},
     "output_type": "execute_result"
    }
   ],
   "source": [
    "grp_usr.shape"
   ]
  },
  {
   "cell_type": "code",
   "execution_count": 29,
   "metadata": {},
   "outputs": [
    {
     "data": {
      "text/plain": [
       "(10233652, 9)"
      ]
     },
     "execution_count": 29,
     "metadata": {},
     "output_type": "execute_result"
    }
   ],
   "source": [
    "new_pd_df.shape"
   ]
  },
  {
   "cell_type": "code",
   "execution_count": 30,
   "metadata": {},
   "outputs": [
    {
     "data": {
      "image/png": "[encoded data removed]",
      "text/plain": [
       "<Figure size 432x288 with 1 Axes>"
      ]
     },
     "metadata": {
      "needs_background": "light"
     },
     "output_type": "display_data"
    }
   ],
   "source": [
    "#check data distribution again\n",
    "a_plot = sns.boxplot(y = grp_usr['user_session'], data = grp_usr)\n",
    "plt.show()"
   ]
  },
  {
   "cell_type": "code",
   "execution_count": 42,
   "metadata": {},
   "outputs": [
    {
     "data": {
      "image/png": "[encoded data removed]",
      "text/plain": [
       "<Figure size 432x288 with 1 Axes>"
      ]
     },
     "metadata": {
      "needs_background": "light"
     },
     "output_type": "display_data"
    }
   ],
   "source": [
    "#to check the prbability density of the users based on their visits\n",
    "kde_plot = sns.distplot(grp_usr['user_session'], bins=np.arange(0,16),color = 'red', hist_kws=dict(ec=\"k\")) #check its interpretation\n",
    "#kde_plot.set(xlim=(0, 20))\n",
    "plt.show()"
   ]
  },
  {
   "cell_type": "markdown",
   "metadata": {},
   "source": [
    "As we can see, now data has very less outliers. The number of visits have left-skewed normal data distribution. "
   ]
  },
  {
   "cell_type": "code",
   "execution_count": 31,
   "metadata": {},
   "outputs": [],
   "source": [
    "#users between 1 and 10\n",
    "user_1_10 = grp_usr[(grp_usr['user_session']>1) & (grp_usr['user_session']<10)].index.tolist()"
   ]
  },
  {
   "cell_type": "code",
   "execution_count": 32,
   "metadata": {},
   "outputs": [
    {
     "name": "stdout",
     "output_type": "stream",
     "text": [
      "1359341\n"
     ]
    }
   ],
   "source": [
    "print(len(user_1_10))"
   ]
  },
  {
   "cell_type": "code",
   "execution_count": 33,
   "metadata": {},
   "outputs": [],
   "source": [
    "user_det_1_10 = new_pd_df[(new_pd_df['user_id'].isin(user_1_10))]"
   ]
  },
  {
   "cell_type": "code",
   "execution_count": 34,
   "metadata": {},
   "outputs": [
    {
     "data": {
      "text/plain": [
       "(5849383, 9)"
      ]
     },
     "execution_count": 34,
     "metadata": {},
     "output_type": "execute_result"
    }
   ],
   "source": [
    "user_det_1_10.shape"
   ]
  },
  {
   "cell_type": "code",
   "execution_count": 35,
   "metadata": {},
   "outputs": [
    {
     "data": {
      "text/plain": [
       "view        5630620\n",
       "cart         116438\n",
       "purchase     102325\n",
       "Name: event_type, dtype: int64"
      ]
     },
     "execution_count": 35,
     "metadata": {},
     "output_type": "execute_result"
    }
   ],
   "source": [
    "user_det_1_10['event_type'].value_counts()"
   ]
  },
  {
   "cell_type": "code",
   "execution_count": 36,
   "metadata": {},
   "outputs": [
    {
     "data": {
      "text/plain": [
       "0    5339028\n",
       "1     222558\n",
       "2     206408\n",
       "3      81138\n",
       "5        251\n",
       "Name: ratings, dtype: int64"
      ]
     },
     "execution_count": 36,
     "metadata": {},
     "output_type": "execute_result"
    }
   ],
   "source": [
    "user_det_1_10['ratings'].value_counts()"
   ]
  },
  {
   "cell_type": "code",
   "execution_count": 37,
   "metadata": {},
   "outputs": [],
   "source": [
    "#k-means data preparations-"
   ]
  },
  {
   "cell_type": "code",
   "execution_count": 38,
   "metadata": {},
   "outputs": [
    {
     "name": "stdout",
     "output_type": "stream",
     "text": [
      "<class 'pandas.core.frame.DataFrame'>\n",
      "Int64Index: 10233652 entries, 1 to 274871\n",
      "Data columns (total 9 columns):\n",
      "event_type       object\n",
      "product_id       int64\n",
      "category_id      int64\n",
      "category_code    object\n",
      "brand            object\n",
      "price            float64\n",
      "user_id          int64\n",
      "user_session     object\n",
      "ratings          int32\n",
      "dtypes: float64(1), int32(1), int64(3), object(4)\n",
      "memory usage: 741.7+ MB\n"
     ]
    }
   ],
   "source": [
    "new_pd_df.info()"
   ]
  },
  {
   "cell_type": "code",
   "execution_count": 93,
   "metadata": {},
   "outputs": [],
   "source": [
    "df_final = new_pd_df[new_pd_df['category_code'] != 'No category_code']"
   ]
  },
  {
   "cell_type": "code",
   "execution_count": 94,
   "metadata": {},
   "outputs": [],
   "source": [
    "#relevant properties to categories users\n",
    "df_final = df_final[['event_type','price','ratings']]"
   ]
  },
  {
   "cell_type": "code",
   "execution_count": 95,
   "metadata": {},
   "outputs": [
    {
     "data": {
      "text/plain": [
       "(7015318, 3)"
      ]
     },
     "execution_count": 95,
     "metadata": {},
     "output_type": "execute_result"
    }
   ],
   "source": [
    "df_final.shape"
   ]
  },
  {
   "cell_type": "code",
   "execution_count": 96,
   "metadata": {},
   "outputs": [],
   "source": [
    "#user_det_1_10_cluster['category_code'] = user_det_1_10_cluster['category_id'].astype('category')"
   ]
  },
  {
   "cell_type": "markdown",
   "metadata": {},
   "source": [
    "Had to remove category code from the features as K-means crashed with 117 categories features. Though we can use it to prepare clusters of customers with scalable resources."
   ]
  },
  {
   "cell_type": "code",
   "execution_count": 97,
   "metadata": {},
   "outputs": [],
   "source": [
    "#one-hot encoding\n",
    "df_final = pd.get_dummies(df_final, drop_first=True)"
   ]
  },
  {
   "cell_type": "code",
   "execution_count": 98,
   "metadata": {},
   "outputs": [
    {
     "data": {
      "text/plain": [
       "(7015318, 4)"
      ]
     },
     "execution_count": 98,
     "metadata": {},
     "output_type": "execute_result"
    }
   ],
   "source": [
    "df_final.shape"
   ]
  },
  {
   "cell_type": "code",
   "execution_count": 99,
   "metadata": {},
   "outputs": [],
   "source": [
    "X_train, X_test= train_test_split(df_final.values, \n",
    "                                test_size=0.3, \n",
    "                                random_state=1) "
   ]
  },
  {
   "cell_type": "code",
   "execution_count": 100,
   "metadata": {},
   "outputs": [],
   "source": [
    "stdsc = StandardScaler()\n",
    "X_train_std = stdsc.fit_transform(X_train)\n",
    "X_test_std = stdsc.transform(X_test)"
   ]
  },
  {
   "cell_type": "code",
   "execution_count": 90,
   "metadata": {},
   "outputs": [
    {
     "data": {
      "image/png": "[encoded data removed]",
      "text/plain": [
       "<Figure size 864x432 with 1 Axes>"
      ]
     },
     "metadata": {
      "needs_background": "light"
     },
     "output_type": "display_data"
    }
   ],
   "source": [
    "wcss = []\n",
    "for k in range(1,11):\n",
    "    kmeans = KMeans(n_clusters=k, init=\"k-means++\")\n",
    "    kmeans.fit(df_final.iloc[:,:])\n",
    "    wcss.append(kmeans.inertia_)\n",
    "plt.figure(figsize=(12,6))    \n",
    "plt.grid()\n",
    "plt.plot(range(1,11),wcss, linewidth=2, color=\"red\", marker =\"8\")\n",
    "plt.xlabel(\"K Value\")\n",
    "plt.xticks(np.arange(1,11,1))\n",
    "plt.ylabel(\"WCSS\")\n",
    "plt.show()"
   ]
  },
  {
   "cell_type": "markdown",
   "metadata": {},
   "source": [
    "So, as assumed, 3 clusters/user groups will be optimal for our customers as per elbow method(based on variation explained criteria by the number of clusters.)"
   ]
  },
  {
   "cell_type": "code",
   "execution_count": 101,
   "metadata": {},
   "outputs": [],
   "source": [
    "#K-means clustering and attaching label(cluster-label) to the data\n",
    "kmeans = KMeans(n_clusters=3, random_state=1)\n",
    "kmeans.fit(X_train)\n",
    "\n",
    "clusters_train = kmeans.predict(X_train)\n",
    "clusters_test = kmeans.predict(X_test)"
   ]
  },
  {
   "cell_type": "code",
   "execution_count": 102,
   "metadata": {},
   "outputs": [
    {
     "data": {
      "text/plain": [
       "array([0, 1, 2])"
      ]
     },
     "execution_count": 102,
     "metadata": {},
     "output_type": "execute_result"
    }
   ],
   "source": [
    "#check compositions of clusters(counts)\n",
    "np.unique(clusters_train)"
   ]
  },
  {
   "cell_type": "code",
   "execution_count": 103,
   "metadata": {},
   "outputs": [
    {
     "data": {
      "text/plain": [
       "array([0, 1, 2])"
      ]
     },
     "execution_count": 103,
     "metadata": {},
     "output_type": "execute_result"
    }
   ],
   "source": [
    "np.unique(clusters_test)"
   ]
  },
  {
   "cell_type": "code",
   "execution_count": 104,
   "metadata": {},
   "outputs": [
    {
     "name": "stdout",
     "output_type": "stream",
     "text": [
      "271949\n",
      "3699472\n",
      "939301\n"
     ]
    }
   ],
   "source": [
    "print(np.count_nonzero(clusters_train == 0))\n",
    "print(np.count_nonzero(clusters_train == 1))\n",
    "print(np.count_nonzero(clusters_train == 2))"
   ]
  },
  {
   "cell_type": "code",
   "execution_count": 105,
   "metadata": {},
   "outputs": [
    {
     "name": "stdout",
     "output_type": "stream",
     "text": [
      "116500\n",
      "1585973\n",
      "402123\n"
     ]
    }
   ],
   "source": [
    "print(np.count_nonzero(clusters_test == 0))\n",
    "print(np.count_nonzero(clusters_test == 1))\n",
    "print(np.count_nonzero(clusters_test == 2))"
   ]
  },
  {
   "cell_type": "markdown",
   "metadata": {},
   "source": [
    "Composition of clusters in both groups looks similar."
   ]
  },
  {
   "cell_type": "code",
   "execution_count": 51,
   "metadata": {},
   "outputs": [],
   "source": [
    "#to check dataframe specific cluster labels and properties"
   ]
  },
  {
   "cell_type": "code",
   "execution_count": 106,
   "metadata": {},
   "outputs": [
    {
     "name": "stdout",
     "output_type": "stream",
     "text": [
      "[1 1 2 ... 1 1 1]\n"
     ]
    }
   ],
   "source": [
    "label = kmeans.predict(df_final)\n",
    "print(label)"
   ]
  },
  {
   "cell_type": "code",
   "execution_count": 107,
   "metadata": {},
   "outputs": [
    {
     "name": "stdout",
     "output_type": "stream",
     "text": [
      "388449\n",
      "5285445\n",
      "1341424\n"
     ]
    }
   ],
   "source": [
    "print(np.count_nonzero(label == 0))\n",
    "print(np.count_nonzero(label == 1))\n",
    "print(np.count_nonzero(label == 2))"
   ]
  },
  {
   "cell_type": "code",
   "execution_count": 108,
   "metadata": {},
   "outputs": [],
   "source": [
    "filtered_label0 = df_final[label == 0]\n",
    "filtered_label1 = df_final[label == 1]\n",
    "filtered_label2 = df_final[label == 2]"
   ]
  },
  {
   "cell_type": "code",
   "execution_count": 110,
   "metadata": {},
   "outputs": [
    {
     "data": {
      "text/plain": [
       "<matplotlib.axes._subplots.AxesSubplot at 0x28d87563438>"
      ]
     },
     "execution_count": 110,
     "metadata": {},
     "output_type": "execute_result"
    },
    {
     "data": {
      "image/png": "[encoded data removed]",
      "text/plain": [
       "<Figure size 432x288 with 1 Axes>"
      ]
     },
     "metadata": {
      "needs_background": "light"
     },
     "output_type": "display_data"
    }
   ],
   "source": [
    "filtered_label0['price'].plot(kind = 'hist')"
   ]
  },
  {
   "cell_type": "code",
   "execution_count": 111,
   "metadata": {},
   "outputs": [
    {
     "data": {
      "text/plain": [
       "<matplotlib.axes._subplots.AxesSubplot at 0x28d875db438>"
      ]
     },
     "execution_count": 111,
     "metadata": {},
     "output_type": "execute_result"
    },
    {
     "data": {
      "image/png": "[encoded data removed]",
      "text/plain": [
       "<Figure size 432x288 with 1 Axes>"
      ]
     },
     "metadata": {
      "needs_background": "light"
     },
     "output_type": "display_data"
    }
   ],
   "source": [
    "filtered_label1['price'].plot(kind = 'hist')"
   ]
  },
  {
   "cell_type": "code",
   "execution_count": 112,
   "metadata": {},
   "outputs": [
    {
     "data": {
      "text/plain": [
       "<matplotlib.axes._subplots.AxesSubplot at 0x28d875ca8d0>"
      ]
     },
     "execution_count": 112,
     "metadata": {},
     "output_type": "execute_result"
    },
    {
     "data": {
      "image/png": "[encoded data removed]",
      "text/plain": [
       "<Figure size 432x288 with 1 Axes>"
      ]
     },
     "metadata": {
      "needs_background": "light"
     },
     "output_type": "display_data"
    }
   ],
   "source": [
    "filtered_label2['price'].plot(kind = 'hist')"
   ]
  },
  {
   "cell_type": "code",
   "execution_count": 113,
   "metadata": {},
   "outputs": [
    {
     "data": {
      "text/plain": [
       "0    345471\n",
       "2     17794\n",
       "3     12857\n",
       "1     11636\n",
       "5       620\n",
       "4        71\n",
       "Name: ratings, dtype: int64"
      ]
     },
     "execution_count": 113,
     "metadata": {},
     "output_type": "execute_result"
    }
   ],
   "source": [
    "filtered_label0['ratings'].value_counts()"
   ]
  },
  {
   "cell_type": "code",
   "execution_count": null,
   "metadata": {},
   "outputs": [],
   "source": [
    "sns.catplot(x=\"day\", y=\"total_bill\", data=tips)"
   ]
  },
  {
   "cell_type": "code",
   "execution_count": 114,
   "metadata": {},
   "outputs": [
    {
     "data": {
      "text/plain": [
       "0    4614330\n",
       "2     247338\n",
       "1     241895\n",
       "3     173348\n",
       "5       7553\n",
       "4        981\n",
       "Name: ratings, dtype: int64"
      ]
     },
     "execution_count": 114,
     "metadata": {},
     "output_type": "execute_result"
    }
   ],
   "source": [
    "filtered_label1['ratings'].value_counts()"
   ]
  },
  {
   "cell_type": "code",
   "execution_count": 115,
   "metadata": {},
   "outputs": [
    {
     "data": {
      "text/plain": [
       "0    1187663\n",
       "2      58569\n",
       "1      47382\n",
       "3      45421\n",
       "5       2148\n",
       "4        241\n",
       "Name: ratings, dtype: int64"
      ]
     },
     "execution_count": 115,
     "metadata": {},
     "output_type": "execute_result"
    }
   ],
   "source": [
    "filtered_label2['ratings'].value_counts()"
   ]
  },
  {
   "cell_type": "markdown",
   "metadata": {},
   "source": [
    "So, according to event types, product prices and ratings users got clustered in 3 groups. Further, product recommendations can be made to the same group users. Also, category of products have given better featured clustered. But due to scaliblity issue, it can be considered in scope for this model in future."
   ]
  },
  {
   "cell_type": "markdown",
   "metadata": {},
   "source": [
    "Also, all the clustered have majority of view/cart users. We can use purchase history users of each group with the ratings to further target users(view/cart category). "
   ]
  },
  {
   "cell_type": "markdown",
   "metadata": {},
   "source": [
    "Further, below are some modelling techniques(Association rules(Apriori algo) and correlation matrix(Trucated(SVD) algo)) that can be applied in each cluster to find product utility similarity and user similarity to recommend products in future."
   ]
  },
  {
   "cell_type": "markdown",
   "metadata": {},
   "source": [
    "#### Association rules :"
   ]
  },
  {
   "cell_type": "markdown",
   "metadata": {},
   "source": [
    "We will use purchase history of users below and find associated products.<br>\n",
    "In future scope, similar technique can be applied to top viewed products as well."
   ]
  },
  {
   "cell_type": "code",
   "execution_count": 118,
   "metadata": {},
   "outputs": [
    {
     "data": {
      "text/plain": [
       "1005115    3833\n",
       "1004833    3657\n",
       "4804056    3306\n",
       "1004870    3306\n",
       "1002544    3154\n",
       "1004836    2356\n",
       "1005105    2244\n",
       "1004249    1988\n",
       "1004873    1688\n",
       "1002524    1633\n",
       "5100816    1588\n",
       "1002633    1506\n",
       "1004750    1317\n",
       "1004741    1311\n",
       "1005100    1218\n",
       "1004838    1133\n",
       "1004858    1123\n",
       "1003306    1113\n",
       "Name: product_id, dtype: int64"
      ]
     },
     "execution_count": 118,
     "metadata": {},
     "output_type": "execute_result"
    }
   ],
   "source": [
    "new_pd_df_purchase['product_id'].value_counts()[2:20]"
   ]
  },
  {
   "cell_type": "markdown",
   "metadata": {},
   "source": [
    "Let's study top 18 products to find frequent itemsets as products and users"
   ]
  },
  {
   "cell_type": "code",
   "execution_count": 121,
   "metadata": {},
   "outputs": [],
   "source": [
    "products = new_pd_df_purchase['product_id'].value_counts()[2:20].index.tolist()"
   ]
  },
  {
   "cell_type": "code",
   "execution_count": 122,
   "metadata": {},
   "outputs": [
    {
     "data": {
      "text/plain": [
       "[1005115,\n",
       " 1004833,\n",
       " 4804056,\n",
       " 1004870,\n",
       " 1002544,\n",
       " 1004836,\n",
       " 1005105,\n",
       " 1004249,\n",
       " 1004873,\n",
       " 1002524,\n",
       " 5100816,\n",
       " 1002633,\n",
       " 1004750,\n",
       " 1004741,\n",
       " 1005100,\n",
       " 1004838,\n",
       " 1004858,\n",
       " 1003306]"
      ]
     },
     "execution_count": 122,
     "metadata": {},
     "output_type": "execute_result"
    }
   ],
   "source": [
    "products"
   ]
  },
  {
   "cell_type": "code",
   "execution_count": 123,
   "metadata": {},
   "outputs": [],
   "source": [
    "products_df = new_pd_df[(new_pd_df['product_id'].isin(products)) & (new_pd_df['event_type'] == 'purchase')]"
   ]
  },
  {
   "cell_type": "code",
   "execution_count": 124,
   "metadata": {},
   "outputs": [],
   "source": [
    "products_df = products_df[['product_id','user_id','ratings']]"
   ]
  },
  {
   "cell_type": "code",
   "execution_count": 125,
   "metadata": {},
   "outputs": [],
   "source": [
    "products_df.drop_duplicates(keep=False,inplace=True)"
   ]
  },
  {
   "cell_type": "code",
   "execution_count": 126,
   "metadata": {},
   "outputs": [
    {
     "name": "stdout",
     "output_type": "stream",
     "text": [
      "<class 'pandas.core.frame.DataFrame'>\n",
      "Int64Index: 30281 entries, 618 to 274767\n",
      "Data columns (total 3 columns):\n",
      "product_id    30281 non-null int64\n",
      "user_id       30281 non-null int64\n",
      "ratings       30281 non-null int32\n",
      "dtypes: int32(1), int64(2)\n",
      "memory usage: 828.0 KB\n"
     ]
    }
   ],
   "source": [
    "products_df.info()"
   ]
  },
  {
   "cell_type": "code",
   "execution_count": 127,
   "metadata": {},
   "outputs": [
    {
     "data": {
      "text/plain": [
       "28940"
      ]
     },
     "execution_count": 127,
     "metadata": {},
     "output_type": "execute_result"
    }
   ],
   "source": [
    "products_df['user_id'].nunique()"
   ]
  },
  {
   "cell_type": "code",
   "execution_count": 276,
   "metadata": {},
   "outputs": [
    {
     "data": {
      "text/html": [
       "<div>\n",
       "<style scoped>\n",
       "    .dataframe tbody tr th:only-of-type {\n",
       "        vertical-align: middle;\n",
       "    }\n",
       "\n",
       "    .dataframe tbody tr th {\n",
       "        vertical-align: top;\n",
       "    }\n",
       "\n",
       "    .dataframe thead th {\n",
       "        text-align: right;\n",
       "    }\n",
       "</style>\n",
       "<table border=\"1\" class=\"dataframe\">\n",
       "  <thead>\n",
       "    <tr style=\"text-align: right;\">\n",
       "      <th></th>\n",
       "      <th>product_id</th>\n",
       "      <th>user_id</th>\n",
       "      <th>ratings</th>\n",
       "    </tr>\n",
       "  </thead>\n",
       "  <tbody>\n",
       "    <tr>\n",
       "      <th>379</th>\n",
       "      <td>5100816</td>\n",
       "      <td>514591159</td>\n",
       "      <td>2</td>\n",
       "    </tr>\n",
       "    <tr>\n",
       "      <th>618</th>\n",
       "      <td>1002524</td>\n",
       "      <td>524325294</td>\n",
       "      <td>3</td>\n",
       "    </tr>\n",
       "    <tr>\n",
       "      <th>2973</th>\n",
       "      <td>1004870</td>\n",
       "      <td>513265392</td>\n",
       "      <td>2</td>\n",
       "    </tr>\n",
       "    <tr>\n",
       "      <th>3574</th>\n",
       "      <td>5100816</td>\n",
       "      <td>549614436</td>\n",
       "      <td>3</td>\n",
       "    </tr>\n",
       "    <tr>\n",
       "      <th>4541</th>\n",
       "      <td>1004741</td>\n",
       "      <td>552439521</td>\n",
       "      <td>1</td>\n",
       "    </tr>\n",
       "  </tbody>\n",
       "</table>\n",
       "</div>"
      ],
      "text/plain": [
       "      product_id    user_id  ratings\n",
       "379      5100816  514591159        2\n",
       "618      1002524  524325294        3\n",
       "2973     1004870  513265392        2\n",
       "3574     5100816  549614436        3\n",
       "4541     1004741  552439521        1"
      ]
     },
     "execution_count": 276,
     "metadata": {},
     "output_type": "execute_result"
    }
   ],
   "source": [
    "products_df.head()"
   ]
  },
  {
   "cell_type": "code",
   "execution_count": 128,
   "metadata": {},
   "outputs": [],
   "source": [
    "usr_prod_grps = products_df.groupby('user_id')"
   ]
  },
  {
   "cell_type": "code",
   "execution_count": 135,
   "metadata": {},
   "outputs": [
    {
     "data": {
      "text/html": [
       "<div>\n",
       "<style scoped>\n",
       "    .dataframe tbody tr th:only-of-type {\n",
       "        vertical-align: middle;\n",
       "    }\n",
       "\n",
       "    .dataframe tbody tr th {\n",
       "        vertical-align: top;\n",
       "    }\n",
       "\n",
       "    .dataframe thead th {\n",
       "        text-align: right;\n",
       "    }\n",
       "</style>\n",
       "<table border=\"1\" class=\"dataframe\">\n",
       "  <thead>\n",
       "    <tr style=\"text-align: right;\">\n",
       "      <th></th>\n",
       "      <th>product_id</th>\n",
       "      <th>user_id</th>\n",
       "      <th>ratings</th>\n",
       "    </tr>\n",
       "  </thead>\n",
       "  <tbody>\n",
       "    <tr>\n",
       "      <th>476182</th>\n",
       "      <td>1005105</td>\n",
       "      <td>514373780</td>\n",
       "      <td>3</td>\n",
       "    </tr>\n",
       "    <tr>\n",
       "      <th>477733</th>\n",
       "      <td>1005115</td>\n",
       "      <td>514373780</td>\n",
       "      <td>3</td>\n",
       "    </tr>\n",
       "    <tr>\n",
       "      <th>170343</th>\n",
       "      <td>1002524</td>\n",
       "      <td>514373780</td>\n",
       "      <td>3</td>\n",
       "    </tr>\n",
       "  </tbody>\n",
       "</table>\n",
       "</div>"
      ],
      "text/plain": [
       "        product_id    user_id  ratings\n",
       "476182     1005105  514373780        3\n",
       "477733     1005115  514373780        3\n",
       "170343     1002524  514373780        3"
      ]
     },
     "execution_count": 135,
     "metadata": {},
     "output_type": "execute_result"
    }
   ],
   "source": [
    "usr_prod_grps.get_group(514373780)"
   ]
  },
  {
   "cell_type": "markdown",
   "metadata": {},
   "source": [
    "Recommend all the top products and linked products as above to all other users in the group."
   ]
  },
  {
   "cell_type": "code",
   "execution_count": 139,
   "metadata": {},
   "outputs": [],
   "source": [
    "user_tab = pd.crosstab(index=products_df['user_id'], columns=products_df['product_id'])"
   ]
  },
  {
   "cell_type": "code",
   "execution_count": 140,
   "metadata": {},
   "outputs": [
    {
     "data": {
      "text/plain": [
       "(28940, 18)"
      ]
     },
     "execution_count": 140,
     "metadata": {},
     "output_type": "execute_result"
    }
   ],
   "source": [
    "user_tab.shape"
   ]
  },
  {
   "cell_type": "code",
   "execution_count": 142,
   "metadata": {},
   "outputs": [
    {
     "data": {
      "text/html": [
       "<div>\n",
       "<style scoped>\n",
       "    .dataframe tbody tr th:only-of-type {\n",
       "        vertical-align: middle;\n",
       "    }\n",
       "\n",
       "    .dataframe tbody tr th {\n",
       "        vertical-align: top;\n",
       "    }\n",
       "\n",
       "    .dataframe thead th {\n",
       "        text-align: right;\n",
       "    }\n",
       "</style>\n",
       "<table border=\"1\" class=\"dataframe\">\n",
       "  <thead>\n",
       "    <tr style=\"text-align: right;\">\n",
       "      <th>product_id</th>\n",
       "      <th>1002524</th>\n",
       "      <th>1002544</th>\n",
       "      <th>1002633</th>\n",
       "      <th>1003306</th>\n",
       "      <th>1004249</th>\n",
       "      <th>1004741</th>\n",
       "      <th>1004750</th>\n",
       "      <th>1004833</th>\n",
       "      <th>1004836</th>\n",
       "      <th>1004838</th>\n",
       "      <th>1004858</th>\n",
       "      <th>1004870</th>\n",
       "      <th>1004873</th>\n",
       "      <th>1005100</th>\n",
       "      <th>1005105</th>\n",
       "      <th>1005115</th>\n",
       "      <th>4804056</th>\n",
       "      <th>5100816</th>\n",
       "    </tr>\n",
       "    <tr>\n",
       "      <th>user_id</th>\n",
       "      <th></th>\n",
       "      <th></th>\n",
       "      <th></th>\n",
       "      <th></th>\n",
       "      <th></th>\n",
       "      <th></th>\n",
       "      <th></th>\n",
       "      <th></th>\n",
       "      <th></th>\n",
       "      <th></th>\n",
       "      <th></th>\n",
       "      <th></th>\n",
       "      <th></th>\n",
       "      <th></th>\n",
       "      <th></th>\n",
       "      <th></th>\n",
       "      <th></th>\n",
       "      <th></th>\n",
       "    </tr>\n",
       "  </thead>\n",
       "  <tbody>\n",
       "    <tr>\n",
       "      <th>403013066</th>\n",
       "      <td>0</td>\n",
       "      <td>0</td>\n",
       "      <td>0</td>\n",
       "      <td>0</td>\n",
       "      <td>0</td>\n",
       "      <td>0</td>\n",
       "      <td>0</td>\n",
       "      <td>0</td>\n",
       "      <td>1</td>\n",
       "      <td>0</td>\n",
       "      <td>0</td>\n",
       "      <td>0</td>\n",
       "      <td>0</td>\n",
       "      <td>0</td>\n",
       "      <td>0</td>\n",
       "      <td>0</td>\n",
       "      <td>0</td>\n",
       "      <td>0</td>\n",
       "    </tr>\n",
       "    <tr>\n",
       "      <th>431246706</th>\n",
       "      <td>0</td>\n",
       "      <td>0</td>\n",
       "      <td>0</td>\n",
       "      <td>0</td>\n",
       "      <td>0</td>\n",
       "      <td>0</td>\n",
       "      <td>0</td>\n",
       "      <td>1</td>\n",
       "      <td>0</td>\n",
       "      <td>0</td>\n",
       "      <td>0</td>\n",
       "      <td>0</td>\n",
       "      <td>0</td>\n",
       "      <td>0</td>\n",
       "      <td>0</td>\n",
       "      <td>0</td>\n",
       "      <td>0</td>\n",
       "      <td>0</td>\n",
       "    </tr>\n",
       "    <tr>\n",
       "      <th>438992161</th>\n",
       "      <td>0</td>\n",
       "      <td>0</td>\n",
       "      <td>0</td>\n",
       "      <td>0</td>\n",
       "      <td>0</td>\n",
       "      <td>1</td>\n",
       "      <td>0</td>\n",
       "      <td>0</td>\n",
       "      <td>0</td>\n",
       "      <td>0</td>\n",
       "      <td>0</td>\n",
       "      <td>0</td>\n",
       "      <td>0</td>\n",
       "      <td>0</td>\n",
       "      <td>0</td>\n",
       "      <td>0</td>\n",
       "      <td>0</td>\n",
       "      <td>0</td>\n",
       "    </tr>\n",
       "    <tr>\n",
       "      <th>441522689</th>\n",
       "      <td>0</td>\n",
       "      <td>0</td>\n",
       "      <td>0</td>\n",
       "      <td>0</td>\n",
       "      <td>0</td>\n",
       "      <td>0</td>\n",
       "      <td>0</td>\n",
       "      <td>0</td>\n",
       "      <td>0</td>\n",
       "      <td>1</td>\n",
       "      <td>0</td>\n",
       "      <td>0</td>\n",
       "      <td>0</td>\n",
       "      <td>0</td>\n",
       "      <td>0</td>\n",
       "      <td>0</td>\n",
       "      <td>0</td>\n",
       "      <td>0</td>\n",
       "    </tr>\n",
       "    <tr>\n",
       "      <th>444316141</th>\n",
       "      <td>0</td>\n",
       "      <td>1</td>\n",
       "      <td>0</td>\n",
       "      <td>0</td>\n",
       "      <td>0</td>\n",
       "      <td>0</td>\n",
       "      <td>0</td>\n",
       "      <td>0</td>\n",
       "      <td>0</td>\n",
       "      <td>0</td>\n",
       "      <td>0</td>\n",
       "      <td>0</td>\n",
       "      <td>0</td>\n",
       "      <td>0</td>\n",
       "      <td>0</td>\n",
       "      <td>0</td>\n",
       "      <td>0</td>\n",
       "      <td>0</td>\n",
       "    </tr>\n",
       "  </tbody>\n",
       "</table>\n",
       "</div>"
      ],
      "text/plain": [
       "product_id  1002524  1002544  1002633  1003306  1004249  1004741  1004750  \\\n",
       "user_id                                                                     \n",
       "403013066         0        0        0        0        0        0        0   \n",
       "431246706         0        0        0        0        0        0        0   \n",
       "438992161         0        0        0        0        0        1        0   \n",
       "441522689         0        0        0        0        0        0        0   \n",
       "444316141         0        1        0        0        0        0        0   \n",
       "\n",
       "product_id  1004833  1004836  1004838  1004858  1004870  1004873  1005100  \\\n",
       "user_id                                                                     \n",
       "403013066         0        1        0        0        0        0        0   \n",
       "431246706         1        0        0        0        0        0        0   \n",
       "438992161         0        0        0        0        0        0        0   \n",
       "441522689         0        0        1        0        0        0        0   \n",
       "444316141         0        0        0        0        0        0        0   \n",
       "\n",
       "product_id  1005105  1005115  4804056  5100816  \n",
       "user_id                                         \n",
       "403013066         0        0        0        0  \n",
       "431246706         0        0        0        0  \n",
       "438992161         0        0        0        0  \n",
       "441522689         0        0        0        0  \n",
       "444316141         0        0        0        0  "
      ]
     },
     "execution_count": 142,
     "metadata": {},
     "output_type": "execute_result"
    }
   ],
   "source": [
    "user_tab.head()"
   ]
  },
  {
   "cell_type": "code",
   "execution_count": 143,
   "metadata": {},
   "outputs": [
    {
     "name": "stdout",
     "output_type": "stream",
     "text": [
      "\r",
      "Processing 306 combinations | Sampling itemset size 2\r",
      "Processing 93 combinations | Sampling itemset size 3\n"
     ]
    },
    {
     "data": {
      "text/html": [
       "<div>\n",
       "<style scoped>\n",
       "    .dataframe tbody tr th:only-of-type {\n",
       "        vertical-align: middle;\n",
       "    }\n",
       "\n",
       "    .dataframe tbody tr th {\n",
       "        vertical-align: top;\n",
       "    }\n",
       "\n",
       "    .dataframe thead th {\n",
       "        text-align: right;\n",
       "    }\n",
       "</style>\n",
       "<table border=\"1\" class=\"dataframe\">\n",
       "  <thead>\n",
       "    <tr style=\"text-align: right;\">\n",
       "      <th></th>\n",
       "      <th>support</th>\n",
       "      <th>itemsets</th>\n",
       "    </tr>\n",
       "  </thead>\n",
       "  <tbody>\n",
       "    <tr>\n",
       "      <th>0</th>\n",
       "      <td>0.044990</td>\n",
       "      <td>(1002524)</td>\n",
       "    </tr>\n",
       "    <tr>\n",
       "      <th>1</th>\n",
       "      <td>0.087941</td>\n",
       "      <td>(1002544)</td>\n",
       "    </tr>\n",
       "    <tr>\n",
       "      <th>2</th>\n",
       "      <td>0.042260</td>\n",
       "      <td>(1002633)</td>\n",
       "    </tr>\n",
       "    <tr>\n",
       "      <th>3</th>\n",
       "      <td>0.031548</td>\n",
       "      <td>(1003306)</td>\n",
       "    </tr>\n",
       "    <tr>\n",
       "      <th>4</th>\n",
       "      <td>0.055943</td>\n",
       "      <td>(1004249)</td>\n",
       "    </tr>\n",
       "    <tr>\n",
       "      <th>5</th>\n",
       "      <td>0.037526</td>\n",
       "      <td>(1004741)</td>\n",
       "    </tr>\n",
       "    <tr>\n",
       "      <th>6</th>\n",
       "      <td>0.036973</td>\n",
       "      <td>(1004750)</td>\n",
       "    </tr>\n",
       "  </tbody>\n",
       "</table>\n",
       "</div>"
      ],
      "text/plain": [
       "    support   itemsets\n",
       "0  0.044990  (1002524)\n",
       "1  0.087941  (1002544)\n",
       "2  0.042260  (1002633)\n",
       "3  0.031548  (1003306)\n",
       "4  0.055943  (1004249)\n",
       "5  0.037526  (1004741)\n",
       "6  0.036973  (1004750)"
      ]
     },
     "execution_count": 143,
     "metadata": {},
     "output_type": "execute_result"
    }
   ],
   "source": [
    "freq_products_items = apriori(user_tab, min_support=0.001, use_colnames=True, verbose=1)\n",
    "freq_products_items.head(7)"
   ]
  },
  {
   "cell_type": "code",
   "execution_count": 147,
   "metadata": {},
   "outputs": [
    {
     "data": {
      "text/html": [
       "<div>\n",
       "<style scoped>\n",
       "    .dataframe tbody tr th:only-of-type {\n",
       "        vertical-align: middle;\n",
       "    }\n",
       "\n",
       "    .dataframe tbody tr th {\n",
       "        vertical-align: top;\n",
       "    }\n",
       "\n",
       "    .dataframe thead th {\n",
       "        text-align: right;\n",
       "    }\n",
       "</style>\n",
       "<table border=\"1\" class=\"dataframe\">\n",
       "  <thead>\n",
       "    <tr style=\"text-align: right;\">\n",
       "      <th></th>\n",
       "      <th>antecedents</th>\n",
       "      <th>consequents</th>\n",
       "      <th>antecedent support</th>\n",
       "      <th>consequent support</th>\n",
       "      <th>support</th>\n",
       "      <th>confidence</th>\n",
       "      <th>lift</th>\n",
       "      <th>leverage</th>\n",
       "      <th>conviction</th>\n",
       "    </tr>\n",
       "  </thead>\n",
       "  <tbody>\n",
       "    <tr>\n",
       "      <th>0</th>\n",
       "      <td>(1002544)</td>\n",
       "      <td>(1002524)</td>\n",
       "      <td>0.087941</td>\n",
       "      <td>0.044990</td>\n",
       "      <td>0.001624</td>\n",
       "      <td>0.018468</td>\n",
       "      <td>0.410485</td>\n",
       "      <td>-0.002332</td>\n",
       "      <td>0.972979</td>\n",
       "    </tr>\n",
       "    <tr>\n",
       "      <th>1</th>\n",
       "      <td>(1002524)</td>\n",
       "      <td>(1002544)</td>\n",
       "      <td>0.044990</td>\n",
       "      <td>0.087941</td>\n",
       "      <td>0.001624</td>\n",
       "      <td>0.036098</td>\n",
       "      <td>0.410485</td>\n",
       "      <td>-0.002332</td>\n",
       "      <td>0.946216</td>\n",
       "    </tr>\n",
       "    <tr>\n",
       "      <th>2</th>\n",
       "      <td>(1002544)</td>\n",
       "      <td>(1002633)</td>\n",
       "      <td>0.087941</td>\n",
       "      <td>0.042260</td>\n",
       "      <td>0.001589</td>\n",
       "      <td>0.018075</td>\n",
       "      <td>0.427703</td>\n",
       "      <td>-0.002127</td>\n",
       "      <td>0.975370</td>\n",
       "    </tr>\n",
       "    <tr>\n",
       "      <th>3</th>\n",
       "      <td>(1002633)</td>\n",
       "      <td>(1002544)</td>\n",
       "      <td>0.042260</td>\n",
       "      <td>0.087941</td>\n",
       "      <td>0.001589</td>\n",
       "      <td>0.037612</td>\n",
       "      <td>0.427703</td>\n",
       "      <td>-0.002127</td>\n",
       "      <td>0.947705</td>\n",
       "    </tr>\n",
       "    <tr>\n",
       "      <th>4</th>\n",
       "      <td>(1002544)</td>\n",
       "      <td>(1003306)</td>\n",
       "      <td>0.087941</td>\n",
       "      <td>0.031548</td>\n",
       "      <td>0.001486</td>\n",
       "      <td>0.016896</td>\n",
       "      <td>0.535560</td>\n",
       "      <td>-0.001289</td>\n",
       "      <td>0.985096</td>\n",
       "    </tr>\n",
       "  </tbody>\n",
       "</table>\n",
       "</div>"
      ],
      "text/plain": [
       "  antecedents consequents  antecedent support  consequent support   support  \\\n",
       "0   (1002544)   (1002524)            0.087941            0.044990  0.001624   \n",
       "1   (1002524)   (1002544)            0.044990            0.087941  0.001624   \n",
       "2   (1002544)   (1002633)            0.087941            0.042260  0.001589   \n",
       "3   (1002633)   (1002544)            0.042260            0.087941  0.001589   \n",
       "4   (1002544)   (1003306)            0.087941            0.031548  0.001486   \n",
       "\n",
       "   confidence      lift  leverage  conviction  \n",
       "0    0.018468  0.410485 -0.002332    0.972979  \n",
       "1    0.036098  0.410485 -0.002332    0.946216  \n",
       "2    0.018075  0.427703 -0.002127    0.975370  \n",
       "3    0.037612  0.427703 -0.002127    0.947705  \n",
       "4    0.016896  0.535560 -0.001289    0.985096  "
      ]
     },
     "execution_count": 147,
     "metadata": {},
     "output_type": "execute_result"
    }
   ],
   "source": [
    "rules = association_rules(freq_products_items, metric=\"confidence\", min_threshold=0.01)\n",
    "rules.head()"
   ]
  },
  {
   "cell_type": "markdown",
   "metadata": {},
   "source": [
    "We got very low association's support, confidence and lift values. Unsignificant associations. Need more purchase history to improve thes metrics to dive the associations.\n",
    "Also, we can use these association rules to find associated users(future scope)."
   ]
  },
  {
   "cell_type": "markdown",
   "metadata": {},
   "source": [
    "#### Coorelation Matrix to find correlated products based on products utility(ratings):"
   ]
  },
  {
   "cell_type": "code",
   "execution_count": 154,
   "metadata": {},
   "outputs": [],
   "source": [
    "#sliced top purchased products\n",
    "df_user_product_max = products_df.groupby('user_id').count()"
   ]
  },
  {
   "cell_type": "code",
   "execution_count": 152,
   "metadata": {},
   "outputs": [
    {
     "data": {
      "text/html": [
       "<div>\n",
       "<style scoped>\n",
       "    .dataframe tbody tr th:only-of-type {\n",
       "        vertical-align: middle;\n",
       "    }\n",
       "\n",
       "    .dataframe tbody tr th {\n",
       "        vertical-align: top;\n",
       "    }\n",
       "\n",
       "    .dataframe thead th {\n",
       "        text-align: right;\n",
       "    }\n",
       "</style>\n",
       "<table border=\"1\" class=\"dataframe\">\n",
       "  <thead>\n",
       "    <tr style=\"text-align: right;\">\n",
       "      <th></th>\n",
       "      <th>product_id</th>\n",
       "      <th>ratings</th>\n",
       "    </tr>\n",
       "    <tr>\n",
       "      <th>user_id</th>\n",
       "      <th></th>\n",
       "      <th></th>\n",
       "    </tr>\n",
       "  </thead>\n",
       "  <tbody>\n",
       "    <tr>\n",
       "      <th>513716260</th>\n",
       "      <td>3</td>\n",
       "      <td>3</td>\n",
       "    </tr>\n",
       "    <tr>\n",
       "      <th>514146547</th>\n",
       "      <td>3</td>\n",
       "      <td>3</td>\n",
       "    </tr>\n",
       "    <tr>\n",
       "      <th>514322393</th>\n",
       "      <td>3</td>\n",
       "      <td>3</td>\n",
       "    </tr>\n",
       "    <tr>\n",
       "      <th>514373780</th>\n",
       "      <td>3</td>\n",
       "      <td>3</td>\n",
       "    </tr>\n",
       "    <tr>\n",
       "      <th>514528187</th>\n",
       "      <td>3</td>\n",
       "      <td>3</td>\n",
       "    </tr>\n",
       "  </tbody>\n",
       "</table>\n",
       "</div>"
      ],
      "text/plain": [
       "           product_id  ratings\n",
       "user_id                       \n",
       "513716260           3        3\n",
       "514146547           3        3\n",
       "514322393           3        3\n",
       "514373780           3        3\n",
       "514528187           3        3"
      ]
     },
     "execution_count": 152,
     "metadata": {},
     "output_type": "execute_result"
    }
   ],
   "source": [
    "df_user_product_max[df_user_product_max['product_id'] == 3].head()"
   ]
  },
  {
   "cell_type": "code",
   "execution_count": 153,
   "metadata": {},
   "outputs": [
    {
     "data": {
      "text/html": [
       "<div>\n",
       "<style scoped>\n",
       "    .dataframe tbody tr th:only-of-type {\n",
       "        vertical-align: middle;\n",
       "    }\n",
       "\n",
       "    .dataframe tbody tr th {\n",
       "        vertical-align: top;\n",
       "    }\n",
       "\n",
       "    .dataframe thead th {\n",
       "        text-align: right;\n",
       "    }\n",
       "</style>\n",
       "<table border=\"1\" class=\"dataframe\">\n",
       "  <thead>\n",
       "    <tr style=\"text-align: right;\">\n",
       "      <th>product_id</th>\n",
       "      <th>1002524</th>\n",
       "      <th>1002544</th>\n",
       "      <th>1002633</th>\n",
       "      <th>1003306</th>\n",
       "      <th>1004249</th>\n",
       "      <th>1004741</th>\n",
       "      <th>1004750</th>\n",
       "      <th>1004833</th>\n",
       "      <th>1004836</th>\n",
       "      <th>1004838</th>\n",
       "      <th>1004858</th>\n",
       "      <th>1004870</th>\n",
       "      <th>1004873</th>\n",
       "      <th>1005100</th>\n",
       "      <th>1005105</th>\n",
       "      <th>1005115</th>\n",
       "      <th>4804056</th>\n",
       "      <th>5100816</th>\n",
       "    </tr>\n",
       "    <tr>\n",
       "      <th>user_id</th>\n",
       "      <th></th>\n",
       "      <th></th>\n",
       "      <th></th>\n",
       "      <th></th>\n",
       "      <th></th>\n",
       "      <th></th>\n",
       "      <th></th>\n",
       "      <th></th>\n",
       "      <th></th>\n",
       "      <th></th>\n",
       "      <th></th>\n",
       "      <th></th>\n",
       "      <th></th>\n",
       "      <th></th>\n",
       "      <th></th>\n",
       "      <th></th>\n",
       "      <th></th>\n",
       "      <th></th>\n",
       "    </tr>\n",
       "  </thead>\n",
       "  <tbody>\n",
       "    <tr>\n",
       "      <th>403013066</th>\n",
       "      <td>0</td>\n",
       "      <td>0</td>\n",
       "      <td>0</td>\n",
       "      <td>0</td>\n",
       "      <td>0</td>\n",
       "      <td>0</td>\n",
       "      <td>0</td>\n",
       "      <td>0</td>\n",
       "      <td>3</td>\n",
       "      <td>0</td>\n",
       "      <td>0</td>\n",
       "      <td>0</td>\n",
       "      <td>0</td>\n",
       "      <td>0</td>\n",
       "      <td>0</td>\n",
       "      <td>0</td>\n",
       "      <td>0</td>\n",
       "      <td>0</td>\n",
       "    </tr>\n",
       "    <tr>\n",
       "      <th>431246706</th>\n",
       "      <td>0</td>\n",
       "      <td>0</td>\n",
       "      <td>0</td>\n",
       "      <td>0</td>\n",
       "      <td>0</td>\n",
       "      <td>0</td>\n",
       "      <td>0</td>\n",
       "      <td>2</td>\n",
       "      <td>0</td>\n",
       "      <td>0</td>\n",
       "      <td>0</td>\n",
       "      <td>0</td>\n",
       "      <td>0</td>\n",
       "      <td>0</td>\n",
       "      <td>0</td>\n",
       "      <td>0</td>\n",
       "      <td>0</td>\n",
       "      <td>0</td>\n",
       "    </tr>\n",
       "    <tr>\n",
       "      <th>438992161</th>\n",
       "      <td>0</td>\n",
       "      <td>0</td>\n",
       "      <td>0</td>\n",
       "      <td>0</td>\n",
       "      <td>0</td>\n",
       "      <td>2</td>\n",
       "      <td>0</td>\n",
       "      <td>0</td>\n",
       "      <td>0</td>\n",
       "      <td>0</td>\n",
       "      <td>0</td>\n",
       "      <td>0</td>\n",
       "      <td>0</td>\n",
       "      <td>0</td>\n",
       "      <td>0</td>\n",
       "      <td>0</td>\n",
       "      <td>0</td>\n",
       "      <td>0</td>\n",
       "    </tr>\n",
       "    <tr>\n",
       "      <th>441522689</th>\n",
       "      <td>0</td>\n",
       "      <td>0</td>\n",
       "      <td>0</td>\n",
       "      <td>0</td>\n",
       "      <td>0</td>\n",
       "      <td>0</td>\n",
       "      <td>0</td>\n",
       "      <td>0</td>\n",
       "      <td>0</td>\n",
       "      <td>2</td>\n",
       "      <td>0</td>\n",
       "      <td>0</td>\n",
       "      <td>0</td>\n",
       "      <td>0</td>\n",
       "      <td>0</td>\n",
       "      <td>0</td>\n",
       "      <td>0</td>\n",
       "      <td>0</td>\n",
       "    </tr>\n",
       "    <tr>\n",
       "      <th>444316141</th>\n",
       "      <td>0</td>\n",
       "      <td>2</td>\n",
       "      <td>0</td>\n",
       "      <td>0</td>\n",
       "      <td>0</td>\n",
       "      <td>0</td>\n",
       "      <td>0</td>\n",
       "      <td>0</td>\n",
       "      <td>0</td>\n",
       "      <td>0</td>\n",
       "      <td>0</td>\n",
       "      <td>0</td>\n",
       "      <td>0</td>\n",
       "      <td>0</td>\n",
       "      <td>0</td>\n",
       "      <td>0</td>\n",
       "      <td>0</td>\n",
       "      <td>0</td>\n",
       "    </tr>\n",
       "  </tbody>\n",
       "</table>\n",
       "</div>"
      ],
      "text/plain": [
       "product_id  1002524  1002544  1002633  1003306  1004249  1004741  1004750  \\\n",
       "user_id                                                                     \n",
       "403013066         0        0        0        0        0        0        0   \n",
       "431246706         0        0        0        0        0        0        0   \n",
       "438992161         0        0        0        0        0        2        0   \n",
       "441522689         0        0        0        0        0        0        0   \n",
       "444316141         0        2        0        0        0        0        0   \n",
       "\n",
       "product_id  1004833  1004836  1004838  1004858  1004870  1004873  1005100  \\\n",
       "user_id                                                                     \n",
       "403013066         0        3        0        0        0        0        0   \n",
       "431246706         2        0        0        0        0        0        0   \n",
       "438992161         0        0        0        0        0        0        0   \n",
       "441522689         0        0        2        0        0        0        0   \n",
       "444316141         0        0        0        0        0        0        0   \n",
       "\n",
       "product_id  1005105  1005115  4804056  5100816  \n",
       "user_id                                         \n",
       "403013066         0        0        0        0  \n",
       "431246706         0        0        0        0  \n",
       "438992161         0        0        0        0  \n",
       "441522689         0        0        0        0  \n",
       "444316141         0        0        0        0  "
      ]
     },
     "execution_count": 153,
     "metadata": {},
     "output_type": "execute_result"
    }
   ],
   "source": [
    "user_ratings_tab = products_df.pivot_table(values='ratings', index='user_id', columns='product_id', fill_value=0)\n",
    "user_ratings_tab.head()"
   ]
  },
  {
   "cell_type": "code",
   "execution_count": 155,
   "metadata": {},
   "outputs": [],
   "source": [
    "#to get product specific ratings values for each user\n",
    "user_ratings_tab_t = user_ratings_tab.T"
   ]
  },
  {
   "cell_type": "code",
   "execution_count": 156,
   "metadata": {},
   "outputs": [
    {
     "data": {
      "text/plain": [
       "(18, 28940)"
      ]
     },
     "execution_count": 156,
     "metadata": {},
     "output_type": "execute_result"
    }
   ],
   "source": [
    "user_ratings_tab_t.shape"
   ]
  },
  {
   "cell_type": "code",
   "execution_count": 157,
   "metadata": {},
   "outputs": [
    {
     "data": {
      "text/plain": [
       "(18, 10)"
      ]
     },
     "execution_count": 157,
     "metadata": {},
     "output_type": "execute_result"
    }
   ],
   "source": [
    "#for matrix decomposition(ratings pivot table) into 10 components\n",
    "svd = TruncatedSVD(n_components=10)\n",
    "decomposed_matrix = svd.fit_transform(user_ratings_tab_t)\n",
    "decomposed_matrix.shape"
   ]
  },
  {
   "cell_type": "code",
   "execution_count": 158,
   "metadata": {},
   "outputs": [
    {
     "data": {
      "text/plain": [
       "(18, 18)"
      ]
     },
     "execution_count": 158,
     "metadata": {},
     "output_type": "execute_result"
    }
   ],
   "source": [
    "#find the correlation of products based on ratings, decomposed matrix\n",
    "correlation_matrix = np.corrcoef(decomposed_matrix)\n",
    "correlation_matrix.shape"
   ]
  },
  {
   "cell_type": "code",
   "execution_count": 159,
   "metadata": {},
   "outputs": [],
   "source": [
    "#product - 1004741\n",
    "pro_ids = user_ratings_tab_t.index.tolist()\n",
    "pro_id = pro_ids.index(1004741)"
   ]
  },
  {
   "cell_type": "code",
   "execution_count": 160,
   "metadata": {},
   "outputs": [],
   "source": [
    "corr_pr_id = correlation_matrix[pro_id]"
   ]
  },
  {
   "cell_type": "code",
   "execution_count": 161,
   "metadata": {},
   "outputs": [
    {
     "data": {
      "text/plain": [
       "array([ 0.77922766,  0.10328359,  0.86598608,  0.1458219 , -0.19913924,\n",
       "        1.        ,  0.08314894,  0.13276705, -0.36218311,  0.58061297,\n",
       "        0.4191996 ,  0.03950839,  0.21516992,  0.13652748, -0.4222156 ,\n",
       "       -0.12580917, -0.35565095,  0.04417995])"
      ]
     },
     "execution_count": 161,
     "metadata": {},
     "output_type": "execute_result"
    }
   ],
   "source": [
    "corr_pr_id"
   ]
  },
  {
   "cell_type": "code",
   "execution_count": 162,
   "metadata": {},
   "outputs": [
    {
     "data": {
      "text/plain": [
       "array([0.77922766, 0.86598608, 1.        ])"
      ]
     },
     "execution_count": 162,
     "metadata": {},
     "output_type": "execute_result"
    }
   ],
   "source": [
    "#correlated products recommendations as per ratings\n",
    "corr_pr_id[corr_pr_id > 0.60]"
   ]
  },
  {
   "cell_type": "code",
   "execution_count": 163,
   "metadata": {},
   "outputs": [
    {
     "data": {
      "text/plain": [
       "[1002633, 1004741]"
      ]
     },
     "execution_count": 163,
     "metadata": {},
     "output_type": "execute_result"
    }
   ],
   "source": [
    "recommend_products = user_ratings_tab_t.index[corr_pr_id > 0.60].tolist()\n",
    "recommend_products[1:]"
   ]
  },
  {
   "cell_type": "markdown",
   "metadata": {},
   "source": [
    "So, all users who bought 1004741 product will be recommended 1002633 and 1004741 products as well."
   ]
  },
  {
   "cell_type": "code",
   "execution_count": null,
   "metadata": {},
   "outputs": [],
   "source": []
  }
 ],
 "metadata": {
  "kernelspec": {
   "display_name": "Python 3",
   "language": "python",
   "name": "python3"
  },
  "language_info": {
   "codemirror_mode": {
    "name": "ipython",
    "version": 3
   },
   "file_extension": ".py",
   "mimetype": "text/x-python",
   "name": "python",
   "nbconvert_exporter": "python",
   "pygments_lexer": "ipython3",
   "version": "3.7.3"
  }
 },
 "nbformat": 4,
 "nbformat_minor": 2
}
